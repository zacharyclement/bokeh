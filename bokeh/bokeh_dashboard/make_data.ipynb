{
 "cells": [
  {
   "cell_type": "code",
   "execution_count": 1,
   "metadata": {},
   "outputs": [],
   "source": [
    "import pandas as pd\n",
    "import random\n",
    "import requests\n",
    "import numpy as np"
   ]
  },
  {
   "cell_type": "code",
   "execution_count": 111,
   "metadata": {},
   "outputs": [],
   "source": [
    "#import airports and lat long data\n",
    "r = requests.get('https://opendata.socrata.com/resource/rxrh-4cxm.json')\n",
    "x = r.json()\n",
    "x[0]\n",
    "df = pd.DataFrame(x)"
   ]
  },
  {
   "cell_type": "code",
   "execution_count": 112,
   "metadata": {},
   "outputs": [
    {
     "data": {
      "text/html": [
       "<div>\n",
       "<style scoped>\n",
       "    .dataframe tbody tr th:only-of-type {\n",
       "        vertical-align: middle;\n",
       "    }\n",
       "\n",
       "    .dataframe tbody tr th {\n",
       "        vertical-align: top;\n",
       "    }\n",
       "\n",
       "    .dataframe thead th {\n",
       "        text-align: right;\n",
       "    }\n",
       "</style>\n",
       "<table border=\"1\" class=\"dataframe\">\n",
       "  <thead>\n",
       "    <tr style=\"text-align: right;\">\n",
       "      <th></th>\n",
       "      <th>latitude</th>\n",
       "      <th>locationid</th>\n",
       "      <th>longitude</th>\n",
       "    </tr>\n",
       "  </thead>\n",
       "  <tbody>\n",
       "    <tr>\n",
       "      <th>0</th>\n",
       "      <td>51.87805556</td>\n",
       "      <td>ADK</td>\n",
       "      <td>176.6461111</td>\n",
       "    </tr>\n",
       "    <tr>\n",
       "      <th>1</th>\n",
       "      <td>56.93861111</td>\n",
       "      <td>AKK</td>\n",
       "      <td>154.1825</td>\n",
       "    </tr>\n",
       "    <tr>\n",
       "      <th>2</th>\n",
       "      <td>60.90472222</td>\n",
       "      <td>Z13</td>\n",
       "      <td>161.4225</td>\n",
       "    </tr>\n",
       "    <tr>\n",
       "      <th>3</th>\n",
       "      <td>60.90277778</td>\n",
       "      <td>AKI</td>\n",
       "      <td>161.2305556</td>\n",
       "    </tr>\n",
       "    <tr>\n",
       "      <th>4</th>\n",
       "      <td>62.68</td>\n",
       "      <td>AUK</td>\n",
       "      <td>164.66</td>\n",
       "    </tr>\n",
       "  </tbody>\n",
       "</table>\n",
       "</div>"
      ],
      "text/plain": [
       "      latitude locationid    longitude\n",
       "0  51.87805556        ADK  176.6461111\n",
       "1  56.93861111        AKK     154.1825\n",
       "2  60.90472222        Z13     161.4225\n",
       "3  60.90277778        AKI  161.2305556\n",
       "4        62.68        AUK       164.66"
      ]
     },
     "execution_count": 112,
     "metadata": {},
     "output_type": "execute_result"
    }
   ],
   "source": [
    "df.head()"
   ]
  },
  {
   "cell_type": "code",
   "execution_count": 113,
   "metadata": {},
   "outputs": [
    {
     "name": "stdout",
     "output_type": "stream",
     "text": [
      "[2000, 2001, 2002, 2003, 2004, 2005, 2006, 2007, 2008, 2009, 2010, 2011, 2012, 2013, 2014, 2015, 2016]\n",
      "17\n"
     ]
    }
   ],
   "source": [
    "#add years 2000 through 2017 for each location\n",
    "years = [x for x in range(2000, 2017)]\n",
    "print(years)\n",
    "print(len(years))"
   ]
  },
  {
   "cell_type": "code",
   "execution_count": 114,
   "metadata": {},
   "outputs": [],
   "source": [
    "#x = pd.DataFrame({'a': 1, 'b':2}, index = range(1))"
   ]
  },
  {
   "cell_type": "code",
   "execution_count": 115,
   "metadata": {
    "scrolled": true
   },
   "outputs": [],
   "source": [
    "df = pd.concat([df] * (len(years)), ignore_index=True)"
   ]
  },
  {
   "cell_type": "code",
   "execution_count": 116,
   "metadata": {},
   "outputs": [],
   "source": [
    "#test\n",
    "#len(df[df['locationid']=='ADK']\n",
    "df = df.sort_values(by='locationid').reset_index()"
   ]
  },
  {
   "cell_type": "code",
   "execution_count": 117,
   "metadata": {},
   "outputs": [
    {
     "data": {
      "text/html": [
       "<div>\n",
       "<style scoped>\n",
       "    .dataframe tbody tr th:only-of-type {\n",
       "        vertical-align: middle;\n",
       "    }\n",
       "\n",
       "    .dataframe tbody tr th {\n",
       "        vertical-align: top;\n",
       "    }\n",
       "\n",
       "    .dataframe thead th {\n",
       "        text-align: right;\n",
       "    }\n",
       "</style>\n",
       "<table border=\"1\" class=\"dataframe\">\n",
       "  <thead>\n",
       "    <tr style=\"text-align: right;\">\n",
       "      <th></th>\n",
       "      <th>index</th>\n",
       "      <th>latitude</th>\n",
       "      <th>locationid</th>\n",
       "      <th>longitude</th>\n",
       "    </tr>\n",
       "  </thead>\n",
       "  <tbody>\n",
       "    <tr>\n",
       "      <th>0</th>\n",
       "      <td>5013</td>\n",
       "      <td>59.85611111</td>\n",
       "      <td>00AK</td>\n",
       "      <td>151.6963889</td>\n",
       "    </tr>\n",
       "    <tr>\n",
       "      <th>1</th>\n",
       "      <td>3013</td>\n",
       "      <td>59.85611111</td>\n",
       "      <td>00AK</td>\n",
       "      <td>151.6963889</td>\n",
       "    </tr>\n",
       "    <tr>\n",
       "      <th>2</th>\n",
       "      <td>8013</td>\n",
       "      <td>59.85611111</td>\n",
       "      <td>00AK</td>\n",
       "      <td>151.6963889</td>\n",
       "    </tr>\n",
       "    <tr>\n",
       "      <th>3</th>\n",
       "      <td>12013</td>\n",
       "      <td>59.85611111</td>\n",
       "      <td>00AK</td>\n",
       "      <td>151.6963889</td>\n",
       "    </tr>\n",
       "    <tr>\n",
       "      <th>4</th>\n",
       "      <td>2013</td>\n",
       "      <td>59.85611111</td>\n",
       "      <td>00AK</td>\n",
       "      <td>151.6963889</td>\n",
       "    </tr>\n",
       "  </tbody>\n",
       "</table>\n",
       "</div>"
      ],
      "text/plain": [
       "   index     latitude locationid    longitude\n",
       "0   5013  59.85611111       00AK  151.6963889\n",
       "1   3013  59.85611111       00AK  151.6963889\n",
       "2   8013  59.85611111       00AK  151.6963889\n",
       "3  12013  59.85611111       00AK  151.6963889\n",
       "4   2013  59.85611111       00AK  151.6963889"
      ]
     },
     "execution_count": 117,
     "metadata": {},
     "output_type": "execute_result"
    }
   ],
   "source": [
    "df.head()"
   ]
  },
  {
   "cell_type": "code",
   "execution_count": 118,
   "metadata": {},
   "outputs": [
    {
     "name": "stdout",
     "output_type": "stream",
     "text": [
      "17000\n",
      "1000.0\n"
     ]
    }
   ],
   "source": [
    "print(len(df))\n",
    "print(len(df)/17)"
   ]
  },
  {
   "cell_type": "code",
   "execution_count": 119,
   "metadata": {},
   "outputs": [],
   "source": [
    "years = [x for x in range(2000, 2017)]\n",
    "#gives years 2000-2016\n",
    "series = pd.Series(x for x in years)\n",
    "df['year'] = pd.concat([series]*1000, ignore_index=True)"
   ]
  },
  {
   "cell_type": "code",
   "execution_count": 120,
   "metadata": {},
   "outputs": [
    {
     "data": {
      "text/plain": [
       "1000"
      ]
     },
     "execution_count": 120,
     "metadata": {},
     "output_type": "execute_result"
    }
   ],
   "source": [
    "len(df['locationid'].unique())"
   ]
  },
  {
   "cell_type": "code",
   "execution_count": 121,
   "metadata": {},
   "outputs": [],
   "source": [
    "#create airport costs\n",
    "in_airport_yearly_costs = [random.randint(1,10) for x in range(1, 18)] #17 unique numbers\n",
    "series = pd.Series(costs for costs in in_airport_yearly_costs) # put into series\n",
    "df['costs'] = pd.concat([series]*1000, ignore_index=True)"
   ]
  },
  {
   "cell_type": "code",
   "execution_count": 122,
   "metadata": {},
   "outputs": [],
   "source": [
    "def randomize_costs(row):\n",
    "    return row['costs'] * random.randint(1,1000)\n",
    "\n",
    "df['costs'] = df.apply(randomize_costs, axis=1)"
   ]
  },
  {
   "cell_type": "code",
   "execution_count": 128,
   "metadata": {},
   "outputs": [],
   "source": [
    "#create airport # of trainees\n",
    "in_airport_yearly_trainees = [random.randint(10,100) for x in range(1, 18)] #17 unique numbers\n",
    "series = pd.Series(trainee for trainee in in_airport_yearly_trainees) # put into series\n",
    "#multiply the 17 unique numbers by random multiplier\n",
    "df['trainees_total'] = pd.concat([series]*1000, ignore_index=True)"
   ]
  },
  {
   "cell_type": "code",
   "execution_count": 129,
   "metadata": {},
   "outputs": [],
   "source": [
    "def randomize_trainees(row):\n",
    "    return row['trainees_total'] * random.randint(100,1000)\n",
    "\n",
    "df['trainees_total'] = df.apply(randomize_trainees, axis=1)"
   ]
  },
  {
   "cell_type": "code",
   "execution_count": 125,
   "metadata": {},
   "outputs": [],
   "source": [
    "#create airport # of trainees pass\n",
    "in_airport_yearly_trainees_p = [random.randint(1,10) for x in range(1, 18)] #17 unique numbers\n",
    "series = pd.Series(trainee_p for trainee_p in in_airport_yearly_trainees_p) # put into series\n",
    "\n",
    "#multiply the 17 unique numbers by random multiplier\n",
    "df['trainees_pass'] = pd.concat([series]*1000, ignore_index=True)"
   ]
  },
  {
   "cell_type": "code",
   "execution_count": 126,
   "metadata": {},
   "outputs": [],
   "source": [
    "def randomize_trainees_pass(row):\n",
    "    return row['trainees_pass'] * random.randint(1,100)\n",
    "\n",
    "df['trainees_pass'] = df.apply(randomize_trainees_pass, axis=1)"
   ]
  },
  {
   "cell_type": "code",
   "execution_count": 130,
   "metadata": {},
   "outputs": [
    {
     "data": {
      "text/html": [
       "<div>\n",
       "<style scoped>\n",
       "    .dataframe tbody tr th:only-of-type {\n",
       "        vertical-align: middle;\n",
       "    }\n",
       "\n",
       "    .dataframe tbody tr th {\n",
       "        vertical-align: top;\n",
       "    }\n",
       "\n",
       "    .dataframe thead th {\n",
       "        text-align: right;\n",
       "    }\n",
       "</style>\n",
       "<table border=\"1\" class=\"dataframe\">\n",
       "  <thead>\n",
       "    <tr style=\"text-align: right;\">\n",
       "      <th></th>\n",
       "      <th>index</th>\n",
       "      <th>latitude</th>\n",
       "      <th>locationid</th>\n",
       "      <th>longitude</th>\n",
       "      <th>year</th>\n",
       "      <th>costs</th>\n",
       "      <th>trainees_total</th>\n",
       "      <th>trainees_pass</th>\n",
       "    </tr>\n",
       "  </thead>\n",
       "  <tbody>\n",
       "  </tbody>\n",
       "</table>\n",
       "</div>"
      ],
      "text/plain": [
       "Empty DataFrame\n",
       "Columns: [index, latitude, locationid, longitude, year, costs, trainees_total, trainees_pass]\n",
       "Index: []"
      ]
     },
     "execution_count": 130,
     "metadata": {},
     "output_type": "execute_result"
    }
   ],
   "source": [
    "df[df['trainees_pass']>df['trainees_total']]"
   ]
  },
  {
   "cell_type": "code",
   "execution_count": 131,
   "metadata": {},
   "outputs": [],
   "source": [
    "df.to_csv('trainee_costs.csv')"
   ]
  },
  {
   "cell_type": "code",
   "execution_count": null,
   "metadata": {},
   "outputs": [],
   "source": []
  }
 ],
 "metadata": {
  "kernelspec": {
   "display_name": "Python 3",
   "language": "python",
   "name": "python3"
  },
  "language_info": {
   "codemirror_mode": {
    "name": "ipython",
    "version": 3
   },
   "file_extension": ".py",
   "mimetype": "text/x-python",
   "name": "python",
   "nbconvert_exporter": "python",
   "pygments_lexer": "ipython3",
   "version": "3.6.5"
  }
 },
 "nbformat": 4,
 "nbformat_minor": 2
}
