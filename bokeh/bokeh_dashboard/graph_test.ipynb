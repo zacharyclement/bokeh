{
 "cells": [
  {
   "cell_type": "code",
   "execution_count": 1,
   "metadata": {},
   "outputs": [],
   "source": [
    "import pandas as pd\n",
    "from bokeh.io import curdoc\n",
    "\n",
    "from bokeh.io import output_notebook\n",
    "from bokeh.io import show\n",
    "from bokeh.plotting import figure\n",
    "from bokeh.models import NumeralTickFormatter\n",
    "from bokeh.models import ColumnDataSource\n",
    "from bokeh.models import HoverTool\n",
    "from bokeh.models import LinearInterpolator\n",
    "from bokeh.palettes import Spectral6\n",
    "from bokeh.models import CategoricalColorMapper\n",
    "from bokeh.models import Slider\n",
    "from bokeh.layouts import column\n",
    "from bokeh.models.ranges import Range1d\n",
    "from bokeh.models import LinearAxis\n",
    "from bokeh.transform import dodge\n",
    "from bokeh.core.properties import value\n",
    "\n",
    "from ipywidgets import interact\n",
    "from bokeh.io import push_notebook"
   ]
  },
  {
   "cell_type": "code",
   "execution_count": 2,
   "metadata": {},
   "outputs": [
    {
     "data": {
      "text/html": [
       "\n",
       "    <div class=\"bk-root\">\n",
       "        <a href=\"https://bokeh.pydata.org\" target=\"_blank\" class=\"bk-logo bk-logo-small bk-logo-notebook\"></a>\n",
       "        <span id=\"061aca19-fe40-49ff-935a-8aee3219f96a\">Loading BokehJS ...</span>\n",
       "    </div>"
      ]
     },
     "metadata": {},
     "output_type": "display_data"
    },
    {
     "data": {
      "application/javascript": [
       "\n",
       "(function(root) {\n",
       "  function now() {\n",
       "    return new Date();\n",
       "  }\n",
       "\n",
       "  var force = true;\n",
       "\n",
       "  if (typeof (root._bokeh_onload_callbacks) === \"undefined\" || force === true) {\n",
       "    root._bokeh_onload_callbacks = [];\n",
       "    root._bokeh_is_loading = undefined;\n",
       "  }\n",
       "\n",
       "  var JS_MIME_TYPE = 'application/javascript';\n",
       "  var HTML_MIME_TYPE = 'text/html';\n",
       "  var EXEC_MIME_TYPE = 'application/vnd.bokehjs_exec.v0+json';\n",
       "  var CLASS_NAME = 'output_bokeh rendered_html';\n",
       "\n",
       "  /**\n",
       "   * Render data to the DOM node\n",
       "   */\n",
       "  function render(props, node) {\n",
       "    var script = document.createElement(\"script\");\n",
       "    node.appendChild(script);\n",
       "  }\n",
       "\n",
       "  /**\n",
       "   * Handle when an output is cleared or removed\n",
       "   */\n",
       "  function handleClearOutput(event, handle) {\n",
       "    var cell = handle.cell;\n",
       "\n",
       "    var id = cell.output_area._bokeh_element_id;\n",
       "    var server_id = cell.output_area._bokeh_server_id;\n",
       "    // Clean up Bokeh references\n",
       "    if (id !== undefined) {\n",
       "      Bokeh.index[id].model.document.clear();\n",
       "      delete Bokeh.index[id];\n",
       "    }\n",
       "\n",
       "    if (server_id !== undefined) {\n",
       "      // Clean up Bokeh references\n",
       "      var cmd = \"from bokeh.io.state import curstate; print(curstate().uuid_to_server['\" + server_id + \"'].get_sessions()[0].document.roots[0]._id)\";\n",
       "      cell.notebook.kernel.execute(cmd, {\n",
       "        iopub: {\n",
       "          output: function(msg) {\n",
       "            var element_id = msg.content.text.trim();\n",
       "            Bokeh.index[element_id].model.document.clear();\n",
       "            delete Bokeh.index[element_id];\n",
       "          }\n",
       "        }\n",
       "      });\n",
       "      // Destroy server and session\n",
       "      var cmd = \"import bokeh.io.notebook as ion; ion.destroy_server('\" + server_id + \"')\";\n",
       "      cell.notebook.kernel.execute(cmd);\n",
       "    }\n",
       "  }\n",
       "\n",
       "  /**\n",
       "   * Handle when a new output is added\n",
       "   */\n",
       "  function handleAddOutput(event, handle) {\n",
       "    var output_area = handle.output_area;\n",
       "    var output = handle.output;\n",
       "\n",
       "    // limit handleAddOutput to display_data with EXEC_MIME_TYPE content only\n",
       "    if ((output.output_type != \"display_data\") || (!output.data.hasOwnProperty(EXEC_MIME_TYPE))) {\n",
       "      return\n",
       "    }\n",
       "\n",
       "    var toinsert = output_area.element.find(\".\" + CLASS_NAME.split(' ')[0]);\n",
       "\n",
       "    if (output.metadata[EXEC_MIME_TYPE][\"id\"] !== undefined) {\n",
       "      toinsert[toinsert.length - 1].firstChild.textContent = output.data[JS_MIME_TYPE];\n",
       "      // store reference to embed id on output_area\n",
       "      output_area._bokeh_element_id = output.metadata[EXEC_MIME_TYPE][\"id\"];\n",
       "    }\n",
       "    if (output.metadata[EXEC_MIME_TYPE][\"server_id\"] !== undefined) {\n",
       "      var bk_div = document.createElement(\"div\");\n",
       "      bk_div.innerHTML = output.data[HTML_MIME_TYPE];\n",
       "      var script_attrs = bk_div.children[0].attributes;\n",
       "      for (var i = 0; i < script_attrs.length; i++) {\n",
       "        toinsert[toinsert.length - 1].firstChild.setAttribute(script_attrs[i].name, script_attrs[i].value);\n",
       "      }\n",
       "      // store reference to server id on output_area\n",
       "      output_area._bokeh_server_id = output.metadata[EXEC_MIME_TYPE][\"server_id\"];\n",
       "    }\n",
       "  }\n",
       "\n",
       "  function register_renderer(events, OutputArea) {\n",
       "\n",
       "    function append_mime(data, metadata, element) {\n",
       "      // create a DOM node to render to\n",
       "      var toinsert = this.create_output_subarea(\n",
       "        metadata,\n",
       "        CLASS_NAME,\n",
       "        EXEC_MIME_TYPE\n",
       "      );\n",
       "      this.keyboard_manager.register_events(toinsert);\n",
       "      // Render to node\n",
       "      var props = {data: data, metadata: metadata[EXEC_MIME_TYPE]};\n",
       "      render(props, toinsert[toinsert.length - 1]);\n",
       "      element.append(toinsert);\n",
       "      return toinsert\n",
       "    }\n",
       "\n",
       "    /* Handle when an output is cleared or removed */\n",
       "    events.on('clear_output.CodeCell', handleClearOutput);\n",
       "    events.on('delete.Cell', handleClearOutput);\n",
       "\n",
       "    /* Handle when a new output is added */\n",
       "    events.on('output_added.OutputArea', handleAddOutput);\n",
       "\n",
       "    /**\n",
       "     * Register the mime type and append_mime function with output_area\n",
       "     */\n",
       "    OutputArea.prototype.register_mime_type(EXEC_MIME_TYPE, append_mime, {\n",
       "      /* Is output safe? */\n",
       "      safe: true,\n",
       "      /* Index of renderer in `output_area.display_order` */\n",
       "      index: 0\n",
       "    });\n",
       "  }\n",
       "\n",
       "  // register the mime type if in Jupyter Notebook environment and previously unregistered\n",
       "  if (root.Jupyter !== undefined) {\n",
       "    var events = require('base/js/events');\n",
       "    var OutputArea = require('notebook/js/outputarea').OutputArea;\n",
       "\n",
       "    if (OutputArea.prototype.mime_types().indexOf(EXEC_MIME_TYPE) == -1) {\n",
       "      register_renderer(events, OutputArea);\n",
       "    }\n",
       "  }\n",
       "\n",
       "  \n",
       "  if (typeof (root._bokeh_timeout) === \"undefined\" || force === true) {\n",
       "    root._bokeh_timeout = Date.now() + 5000;\n",
       "    root._bokeh_failed_load = false;\n",
       "  }\n",
       "\n",
       "  var NB_LOAD_WARNING = {'data': {'text/html':\n",
       "     \"<div style='background-color: #fdd'>\\n\"+\n",
       "     \"<p>\\n\"+\n",
       "     \"BokehJS does not appear to have successfully loaded. If loading BokehJS from CDN, this \\n\"+\n",
       "     \"may be due to a slow or bad network connection. Possible fixes:\\n\"+\n",
       "     \"</p>\\n\"+\n",
       "     \"<ul>\\n\"+\n",
       "     \"<li>re-rerun `output_notebook()` to attempt to load from CDN again, or</li>\\n\"+\n",
       "     \"<li>use INLINE resources instead, as so:</li>\\n\"+\n",
       "     \"</ul>\\n\"+\n",
       "     \"<code>\\n\"+\n",
       "     \"from bokeh.resources import INLINE\\n\"+\n",
       "     \"output_notebook(resources=INLINE)\\n\"+\n",
       "     \"</code>\\n\"+\n",
       "     \"</div>\"}};\n",
       "\n",
       "  function display_loaded() {\n",
       "    var el = document.getElementById(\"061aca19-fe40-49ff-935a-8aee3219f96a\");\n",
       "    if (el != null) {\n",
       "      el.textContent = \"BokehJS is loading...\";\n",
       "    }\n",
       "    if (root.Bokeh !== undefined) {\n",
       "      if (el != null) {\n",
       "        el.textContent = \"BokehJS \" + root.Bokeh.version + \" successfully loaded.\";\n",
       "      }\n",
       "    } else if (Date.now() < root._bokeh_timeout) {\n",
       "      setTimeout(display_loaded, 100)\n",
       "    }\n",
       "  }\n",
       "\n",
       "\n",
       "  function run_callbacks() {\n",
       "    try {\n",
       "      root._bokeh_onload_callbacks.forEach(function(callback) { callback() });\n",
       "    }\n",
       "    finally {\n",
       "      delete root._bokeh_onload_callbacks\n",
       "    }\n",
       "    console.info(\"Bokeh: all callbacks have finished\");\n",
       "  }\n",
       "\n",
       "  function load_libs(js_urls, callback) {\n",
       "    root._bokeh_onload_callbacks.push(callback);\n",
       "    if (root._bokeh_is_loading > 0) {\n",
       "      console.log(\"Bokeh: BokehJS is being loaded, scheduling callback at\", now());\n",
       "      return null;\n",
       "    }\n",
       "    if (js_urls == null || js_urls.length === 0) {\n",
       "      run_callbacks();\n",
       "      return null;\n",
       "    }\n",
       "    console.log(\"Bokeh: BokehJS not loaded, scheduling load and callback at\", now());\n",
       "    root._bokeh_is_loading = js_urls.length;\n",
       "    for (var i = 0; i < js_urls.length; i++) {\n",
       "      var url = js_urls[i];\n",
       "      var s = document.createElement('script');\n",
       "      s.src = url;\n",
       "      s.async = false;\n",
       "      s.onreadystatechange = s.onload = function() {\n",
       "        root._bokeh_is_loading--;\n",
       "        if (root._bokeh_is_loading === 0) {\n",
       "          console.log(\"Bokeh: all BokehJS libraries loaded\");\n",
       "          run_callbacks()\n",
       "        }\n",
       "      };\n",
       "      s.onerror = function() {\n",
       "        console.warn(\"failed to load library \" + url);\n",
       "      };\n",
       "      console.log(\"Bokeh: injecting script tag for BokehJS library: \", url);\n",
       "      document.getElementsByTagName(\"head\")[0].appendChild(s);\n",
       "    }\n",
       "  };var element = document.getElementById(\"061aca19-fe40-49ff-935a-8aee3219f96a\");\n",
       "  if (element == null) {\n",
       "    console.log(\"Bokeh: ERROR: autoload.js configured with elementid '061aca19-fe40-49ff-935a-8aee3219f96a' but no matching script tag was found. \")\n",
       "    return false;\n",
       "  }\n",
       "\n",
       "  var js_urls = [\"https://cdn.pydata.org/bokeh/release/bokeh-0.12.16.min.js\", \"https://cdn.pydata.org/bokeh/release/bokeh-widgets-0.12.16.min.js\", \"https://cdn.pydata.org/bokeh/release/bokeh-tables-0.12.16.min.js\", \"https://cdn.pydata.org/bokeh/release/bokeh-gl-0.12.16.min.js\"];\n",
       "\n",
       "  var inline_js = [\n",
       "    function(Bokeh) {\n",
       "      Bokeh.set_log_level(\"info\");\n",
       "    },\n",
       "    \n",
       "    function(Bokeh) {\n",
       "      \n",
       "    },\n",
       "    function(Bokeh) {\n",
       "      console.log(\"Bokeh: injecting CSS: https://cdn.pydata.org/bokeh/release/bokeh-0.12.16.min.css\");\n",
       "      Bokeh.embed.inject_css(\"https://cdn.pydata.org/bokeh/release/bokeh-0.12.16.min.css\");\n",
       "      console.log(\"Bokeh: injecting CSS: https://cdn.pydata.org/bokeh/release/bokeh-widgets-0.12.16.min.css\");\n",
       "      Bokeh.embed.inject_css(\"https://cdn.pydata.org/bokeh/release/bokeh-widgets-0.12.16.min.css\");\n",
       "      console.log(\"Bokeh: injecting CSS: https://cdn.pydata.org/bokeh/release/bokeh-tables-0.12.16.min.css\");\n",
       "      Bokeh.embed.inject_css(\"https://cdn.pydata.org/bokeh/release/bokeh-tables-0.12.16.min.css\");\n",
       "    }\n",
       "  ];\n",
       "\n",
       "  function run_inline_js() {\n",
       "    \n",
       "    if ((root.Bokeh !== undefined) || (force === true)) {\n",
       "      for (var i = 0; i < inline_js.length; i++) {\n",
       "        inline_js[i].call(root, root.Bokeh);\n",
       "      }if (force === true) {\n",
       "        display_loaded();\n",
       "      }} else if (Date.now() < root._bokeh_timeout) {\n",
       "      setTimeout(run_inline_js, 100);\n",
       "    } else if (!root._bokeh_failed_load) {\n",
       "      console.log(\"Bokeh: BokehJS failed to load within specified timeout.\");\n",
       "      root._bokeh_failed_load = true;\n",
       "    } else if (force !== true) {\n",
       "      var cell = $(document.getElementById(\"061aca19-fe40-49ff-935a-8aee3219f96a\")).parents('.cell').data().cell;\n",
       "      cell.output_area.append_execute_result(NB_LOAD_WARNING)\n",
       "    }\n",
       "\n",
       "  }\n",
       "\n",
       "  if (root._bokeh_is_loading === 0) {\n",
       "    console.log(\"Bokeh: BokehJS loaded, going straight to plotting\");\n",
       "    run_inline_js();\n",
       "  } else {\n",
       "    load_libs(js_urls, function() {\n",
       "      console.log(\"Bokeh: BokehJS plotting callback run at\", now());\n",
       "      run_inline_js();\n",
       "    });\n",
       "  }\n",
       "}(window));"
      ],
      "application/vnd.bokehjs_load.v0+json": "\n(function(root) {\n  function now() {\n    return new Date();\n  }\n\n  var force = true;\n\n  if (typeof (root._bokeh_onload_callbacks) === \"undefined\" || force === true) {\n    root._bokeh_onload_callbacks = [];\n    root._bokeh_is_loading = undefined;\n  }\n\n  \n\n  \n  if (typeof (root._bokeh_timeout) === \"undefined\" || force === true) {\n    root._bokeh_timeout = Date.now() + 5000;\n    root._bokeh_failed_load = false;\n  }\n\n  var NB_LOAD_WARNING = {'data': {'text/html':\n     \"<div style='background-color: #fdd'>\\n\"+\n     \"<p>\\n\"+\n     \"BokehJS does not appear to have successfully loaded. If loading BokehJS from CDN, this \\n\"+\n     \"may be due to a slow or bad network connection. Possible fixes:\\n\"+\n     \"</p>\\n\"+\n     \"<ul>\\n\"+\n     \"<li>re-rerun `output_notebook()` to attempt to load from CDN again, or</li>\\n\"+\n     \"<li>use INLINE resources instead, as so:</li>\\n\"+\n     \"</ul>\\n\"+\n     \"<code>\\n\"+\n     \"from bokeh.resources import INLINE\\n\"+\n     \"output_notebook(resources=INLINE)\\n\"+\n     \"</code>\\n\"+\n     \"</div>\"}};\n\n  function display_loaded() {\n    var el = document.getElementById(\"061aca19-fe40-49ff-935a-8aee3219f96a\");\n    if (el != null) {\n      el.textContent = \"BokehJS is loading...\";\n    }\n    if (root.Bokeh !== undefined) {\n      if (el != null) {\n        el.textContent = \"BokehJS \" + root.Bokeh.version + \" successfully loaded.\";\n      }\n    } else if (Date.now() < root._bokeh_timeout) {\n      setTimeout(display_loaded, 100)\n    }\n  }\n\n\n  function run_callbacks() {\n    try {\n      root._bokeh_onload_callbacks.forEach(function(callback) { callback() });\n    }\n    finally {\n      delete root._bokeh_onload_callbacks\n    }\n    console.info(\"Bokeh: all callbacks have finished\");\n  }\n\n  function load_libs(js_urls, callback) {\n    root._bokeh_onload_callbacks.push(callback);\n    if (root._bokeh_is_loading > 0) {\n      console.log(\"Bokeh: BokehJS is being loaded, scheduling callback at\", now());\n      return null;\n    }\n    if (js_urls == null || js_urls.length === 0) {\n      run_callbacks();\n      return null;\n    }\n    console.log(\"Bokeh: BokehJS not loaded, scheduling load and callback at\", now());\n    root._bokeh_is_loading = js_urls.length;\n    for (var i = 0; i < js_urls.length; i++) {\n      var url = js_urls[i];\n      var s = document.createElement('script');\n      s.src = url;\n      s.async = false;\n      s.onreadystatechange = s.onload = function() {\n        root._bokeh_is_loading--;\n        if (root._bokeh_is_loading === 0) {\n          console.log(\"Bokeh: all BokehJS libraries loaded\");\n          run_callbacks()\n        }\n      };\n      s.onerror = function() {\n        console.warn(\"failed to load library \" + url);\n      };\n      console.log(\"Bokeh: injecting script tag for BokehJS library: \", url);\n      document.getElementsByTagName(\"head\")[0].appendChild(s);\n    }\n  };var element = document.getElementById(\"061aca19-fe40-49ff-935a-8aee3219f96a\");\n  if (element == null) {\n    console.log(\"Bokeh: ERROR: autoload.js configured with elementid '061aca19-fe40-49ff-935a-8aee3219f96a' but no matching script tag was found. \")\n    return false;\n  }\n\n  var js_urls = [\"https://cdn.pydata.org/bokeh/release/bokeh-0.12.16.min.js\", \"https://cdn.pydata.org/bokeh/release/bokeh-widgets-0.12.16.min.js\", \"https://cdn.pydata.org/bokeh/release/bokeh-tables-0.12.16.min.js\", \"https://cdn.pydata.org/bokeh/release/bokeh-gl-0.12.16.min.js\"];\n\n  var inline_js = [\n    function(Bokeh) {\n      Bokeh.set_log_level(\"info\");\n    },\n    \n    function(Bokeh) {\n      \n    },\n    function(Bokeh) {\n      console.log(\"Bokeh: injecting CSS: https://cdn.pydata.org/bokeh/release/bokeh-0.12.16.min.css\");\n      Bokeh.embed.inject_css(\"https://cdn.pydata.org/bokeh/release/bokeh-0.12.16.min.css\");\n      console.log(\"Bokeh: injecting CSS: https://cdn.pydata.org/bokeh/release/bokeh-widgets-0.12.16.min.css\");\n      Bokeh.embed.inject_css(\"https://cdn.pydata.org/bokeh/release/bokeh-widgets-0.12.16.min.css\");\n      console.log(\"Bokeh: injecting CSS: https://cdn.pydata.org/bokeh/release/bokeh-tables-0.12.16.min.css\");\n      Bokeh.embed.inject_css(\"https://cdn.pydata.org/bokeh/release/bokeh-tables-0.12.16.min.css\");\n    }\n  ];\n\n  function run_inline_js() {\n    \n    if ((root.Bokeh !== undefined) || (force === true)) {\n      for (var i = 0; i < inline_js.length; i++) {\n        inline_js[i].call(root, root.Bokeh);\n      }if (force === true) {\n        display_loaded();\n      }} else if (Date.now() < root._bokeh_timeout) {\n      setTimeout(run_inline_js, 100);\n    } else if (!root._bokeh_failed_load) {\n      console.log(\"Bokeh: BokehJS failed to load within specified timeout.\");\n      root._bokeh_failed_load = true;\n    } else if (force !== true) {\n      var cell = $(document.getElementById(\"061aca19-fe40-49ff-935a-8aee3219f96a\")).parents('.cell').data().cell;\n      cell.output_area.append_execute_result(NB_LOAD_WARNING)\n    }\n\n  }\n\n  if (root._bokeh_is_loading === 0) {\n    console.log(\"Bokeh: BokehJS loaded, going straight to plotting\");\n    run_inline_js();\n  } else {\n    load_libs(js_urls, function() {\n      console.log(\"Bokeh: BokehJS plotting callback run at\", now());\n      run_inline_js();\n    });\n  }\n}(window));"
     },
     "metadata": {},
     "output_type": "display_data"
    }
   ],
   "source": [
    "output_notebook()"
   ]
  },
  {
   "cell_type": "code",
   "execution_count": 15,
   "metadata": {},
   "outputs": [],
   "source": [
    "df_cost = pd.read_csv('data/cost_trainee.csv')\n",
    "df_time = pd.read_csv('data/time_trainee.csv')\n",
    "df_bar = pd.read_csv('data/bar.csv')\n",
    "df_bar_m = pd.read_csv('data/bar-multi.csv')"
   ]
  },
  {
   "cell_type": "code",
   "execution_count": 4,
   "metadata": {},
   "outputs": [],
   "source": [
    "#make line graphs and two bar graphs"
   ]
  },
  {
   "cell_type": "code",
   "execution_count": 5,
   "metadata": {},
   "outputs": [
    {
     "data": {
      "text/html": [
       "<div>\n",
       "<style scoped>\n",
       "    .dataframe tbody tr th:only-of-type {\n",
       "        vertical-align: middle;\n",
       "    }\n",
       "\n",
       "    .dataframe tbody tr th {\n",
       "        vertical-align: top;\n",
       "    }\n",
       "\n",
       "    .dataframe thead th {\n",
       "        text-align: right;\n",
       "    }\n",
       "</style>\n",
       "<table border=\"1\" class=\"dataframe\">\n",
       "  <thead>\n",
       "    <tr style=\"text-align: right;\">\n",
       "      <th></th>\n",
       "      <th>year</th>\n",
       "      <th>new_york</th>\n",
       "      <th>california</th>\n",
       "      <th>oklahoma</th>\n",
       "      <th>wisconson</th>\n",
       "      <th>florida</th>\n",
       "    </tr>\n",
       "  </thead>\n",
       "  <tbody>\n",
       "    <tr>\n",
       "      <th>0</th>\n",
       "      <td>2010</td>\n",
       "      <td>10</td>\n",
       "      <td>15</td>\n",
       "      <td>5</td>\n",
       "      <td>7</td>\n",
       "      <td>8</td>\n",
       "    </tr>\n",
       "    <tr>\n",
       "      <th>1</th>\n",
       "      <td>2011</td>\n",
       "      <td>11</td>\n",
       "      <td>16</td>\n",
       "      <td>5</td>\n",
       "      <td>8</td>\n",
       "      <td>7</td>\n",
       "    </tr>\n",
       "    <tr>\n",
       "      <th>2</th>\n",
       "      <td>2012</td>\n",
       "      <td>12</td>\n",
       "      <td>17</td>\n",
       "      <td>6</td>\n",
       "      <td>7</td>\n",
       "      <td>6</td>\n",
       "    </tr>\n",
       "    <tr>\n",
       "      <th>3</th>\n",
       "      <td>2013</td>\n",
       "      <td>13</td>\n",
       "      <td>11</td>\n",
       "      <td>6</td>\n",
       "      <td>6</td>\n",
       "      <td>5</td>\n",
       "    </tr>\n",
       "    <tr>\n",
       "      <th>4</th>\n",
       "      <td>2014</td>\n",
       "      <td>14</td>\n",
       "      <td>12</td>\n",
       "      <td>5</td>\n",
       "      <td>5</td>\n",
       "      <td>4</td>\n",
       "    </tr>\n",
       "  </tbody>\n",
       "</table>\n",
       "</div>"
      ],
      "text/plain": [
       "   year  new_york  california  oklahoma  wisconson  florida\n",
       "0  2010        10          15         5          7        8\n",
       "1  2011        11          16         5          8        7\n",
       "2  2012        12          17         6          7        6\n",
       "3  2013        13          11         6          6        5\n",
       "4  2014        14          12         5          5        4"
      ]
     },
     "execution_count": 5,
     "metadata": {},
     "output_type": "execute_result"
    }
   ],
   "source": [
    "df_cost.head()"
   ]
  },
  {
   "cell_type": "code",
   "execution_count": 6,
   "metadata": {},
   "outputs": [],
   "source": [
    "# source = ColumnDataSource(dict(\n",
    "#     x = df_cost['facility'],\n",
    "#     y = df_cost[df_cost.columns[1:]],   \n",
    "# ))"
   ]
  },
  {
   "cell_type": "code",
   "execution_count": 7,
   "metadata": {},
   "outputs": [],
   "source": [
    "PLOT_OPTS = dict(\n",
    "    plot_height = 400,\n",
    "#     x_range = (data['trainees_total'].min(), data['trainees_total'].max()),\n",
    "#     y_range = (data['costs'].min(), data['costs'].max()),\n",
    "    )"
   ]
  },
  {
   "cell_type": "code",
   "execution_count": 8,
   "metadata": {},
   "outputs": [
    {
     "data": {
      "text/html": [
       "\n",
       "<div class=\"bk-root\">\n",
       "    <div class=\"bk-plotdiv\" id=\"db94786b-9c86-4842-869a-e962e4772916\"></div>\n",
       "</div>"
      ]
     },
     "metadata": {},
     "output_type": "display_data"
    },
    {
     "data": {
      "application/javascript": [
       "(function(root) {\n",
       "  function embed_document(root) {\n",
       "    \n",
       "  var docs_json = {\"d8c78f28-fbe9-4d60-ac0d-9569a5a4a71e\":{\"roots\":{\"references\":[{\"attributes\":{\"callback\":null,\"data\":{\"x\":[2010,2011,2012,2013,2014,2015,2016,2017],\"y\":[15,16,17,11,12,13,14,15]},\"selected\":{\"id\":\"cf689d54-fde5-4667-9a1f-befde19dae18\",\"type\":\"Selection\"},\"selection_policy\":{\"id\":\"b201dad5-2260-4880-8fb4-4c9100346178\",\"type\":\"UnionRenderers\"}},\"id\":\"a254b37c-e50e-4285-bc2f-56c6868f7952\",\"type\":\"ColumnDataSource\"},{\"attributes\":{\"line_color\":\"#99d594\",\"x\":{\"field\":\"x\"},\"y\":{\"field\":\"y\"}},\"id\":\"659d8d23-5f15-4b9a-b93d-65417c061986\",\"type\":\"Line\"},{\"attributes\":{},\"id\":\"ad832e71-6101-4397-a95e-dedf8bdd91e3\",\"type\":\"UnionRenderers\"},{\"attributes\":{\"data_source\":{\"id\":\"a254b37c-e50e-4285-bc2f-56c6868f7952\",\"type\":\"ColumnDataSource\"},\"glyph\":{\"id\":\"659d8d23-5f15-4b9a-b93d-65417c061986\",\"type\":\"Line\"},\"hover_glyph\":null,\"muted_glyph\":null,\"nonselection_glyph\":{\"id\":\"8e407af6-e487-415f-9111-abc9675f12e2\",\"type\":\"Line\"},\"selection_glyph\":null,\"view\":{\"id\":\"ae6811dd-f443-41f7-a16e-ed846824ddea\",\"type\":\"CDSView\"}},\"id\":\"5c0ed137-e2b0-4e6b-9a18-b9a20d7197e1\",\"type\":\"GlyphRenderer\"},{\"attributes\":{},\"id\":\"eef2112c-dc20-42cb-acff-9d860e20f7a4\",\"type\":\"Selection\"},{\"attributes\":{},\"id\":\"a9a98500-c757-4cb6-b8c4-2174bb372209\",\"type\":\"Selection\"},{\"attributes\":{\"line_alpha\":0.1,\"line_color\":\"#1f77b4\",\"x\":{\"field\":\"x\"},\"y\":{\"field\":\"y\"}},\"id\":\"8e407af6-e487-415f-9111-abc9675f12e2\",\"type\":\"Line\"},{\"attributes\":{},\"id\":\"55238fd3-dd10-4896-aba7-1944c4e01520\",\"type\":\"NumeralTickFormatter\"},{\"attributes\":{\"source\":{\"id\":\"a254b37c-e50e-4285-bc2f-56c6868f7952\",\"type\":\"ColumnDataSource\"}},\"id\":\"ae6811dd-f443-41f7-a16e-ed846824ddea\",\"type\":\"CDSView\"},{\"attributes\":{\"callback\":null,\"renderers\":\"auto\",\"show_arrow\":false,\"tooltips\":\"@location\"},\"id\":\"c326fd32-4859-4bd8-99d5-f9e792b7c071\",\"type\":\"HoverTool\"},{\"attributes\":{\"callback\":null,\"data\":{\"x\":[2010,2011,2012,2013,2014,2015,2016,2017],\"y\":[5,5,6,6,5,6,5,5]},\"selected\":{\"id\":\"6c75cefe-86ea-41d8-a016-5adf46aedab3\",\"type\":\"Selection\"},\"selection_policy\":{\"id\":\"4beb20fc-89f3-4090-be9d-bd53404188d9\",\"type\":\"UnionRenderers\"}},\"id\":\"ba3e36b0-d2b0-4365-a575-79b46794e999\",\"type\":\"ColumnDataSource\"},{\"attributes\":{\"below\":[{\"id\":\"660f7acb-661a-41f1-8bc3-04df1d178e9d\",\"type\":\"LinearAxis\"}],\"left\":[{\"id\":\"8826097d-dbdf-4d0b-9164-602e55b54f8d\",\"type\":\"LinearAxis\"}],\"plot_height\":400,\"renderers\":[{\"id\":\"660f7acb-661a-41f1-8bc3-04df1d178e9d\",\"type\":\"LinearAxis\"},{\"id\":\"5ed01124-3718-4a4c-8bad-192fe1ce665c\",\"type\":\"Grid\"},{\"id\":\"8826097d-dbdf-4d0b-9164-602e55b54f8d\",\"type\":\"LinearAxis\"},{\"id\":\"169e76d6-7dd4-4ebb-89d0-186d257560a6\",\"type\":\"Grid\"},{\"id\":\"9c30015a-318b-44c1-bc1e-1c3370f110c5\",\"type\":\"Legend\"},{\"id\":\"3165afe1-4eb2-4c5b-ae39-faf53d400829\",\"type\":\"GlyphRenderer\"},{\"id\":\"5c0ed137-e2b0-4e6b-9a18-b9a20d7197e1\",\"type\":\"GlyphRenderer\"},{\"id\":\"26ebdbff-04bb-41af-8c15-306004ccd4f7\",\"type\":\"GlyphRenderer\"},{\"id\":\"1ee69bb4-2daf-4020-ae6e-147a5a7c096b\",\"type\":\"GlyphRenderer\"},{\"id\":\"b682cbe3-3008-475f-a516-13afa73858ab\",\"type\":\"GlyphRenderer\"}],\"title\":{\"id\":\"6d46bbbc-7086-4d19-bc3a-c32c383b066b\",\"type\":\"Title\"},\"toolbar\":{\"id\":\"0e5b1103-4895-4ae8-b3fe-361910b7be98\",\"type\":\"Toolbar\"},\"x_range\":{\"id\":\"9a769a8b-5e9a-4fb5-b4de-cef4749bf9f1\",\"type\":\"DataRange1d\"},\"x_scale\":{\"id\":\"4a94aed0-6889-4906-bce1-ec54eb5ec33b\",\"type\":\"LinearScale\"},\"y_range\":{\"id\":\"f7e5c262-5efc-4bd3-99ce-ce526a075667\",\"type\":\"DataRange1d\"},\"y_scale\":{\"id\":\"2d616631-2cc7-4bce-b851-006ae3c12a36\",\"type\":\"LinearScale\"}},\"id\":\"abc234ca-0586-406a-b36a-48fd6343f5c8\",\"subtype\":\"Figure\",\"type\":\"Plot\"},{\"attributes\":{},\"id\":\"0ee95af7-6eb0-42af-b1bd-9421d7f77cd0\",\"type\":\"UnionRenderers\"},{\"attributes\":{\"callback\":null},\"id\":\"9a769a8b-5e9a-4fb5-b4de-cef4749bf9f1\",\"type\":\"DataRange1d\"},{\"attributes\":{},\"id\":\"b201dad5-2260-4880-8fb4-4c9100346178\",\"type\":\"UnionRenderers\"},{\"attributes\":{\"plot\":null,\"text\":\"costs per trainee\"},\"id\":\"6d46bbbc-7086-4d19-bc3a-c32c383b066b\",\"type\":\"Title\"},{\"attributes\":{\"line_color\":\"#e6f598\",\"x\":{\"field\":\"x\"},\"y\":{\"field\":\"y\"}},\"id\":\"596c8a5e-0dd2-494a-b185-7162c4686b5f\",\"type\":\"Line\"},{\"attributes\":{\"active_drag\":\"auto\",\"active_inspect\":\"auto\",\"active_scroll\":\"auto\",\"active_tap\":\"auto\",\"tools\":[{\"id\":\"c326fd32-4859-4bd8-99d5-f9e792b7c071\",\"type\":\"HoverTool\"}]},\"id\":\"0e5b1103-4895-4ae8-b3fe-361910b7be98\",\"type\":\"Toolbar\"},{\"attributes\":{\"label\":{\"value\":\"california\"},\"renderers\":[{\"id\":\"5c0ed137-e2b0-4e6b-9a18-b9a20d7197e1\",\"type\":\"GlyphRenderer\"}]},\"id\":\"c0314556-29e3-44c1-b237-5e214a6fd578\",\"type\":\"LegendItem\"},{\"attributes\":{\"label\":{\"value\":\"new_york\"},\"renderers\":[{\"id\":\"3165afe1-4eb2-4c5b-ae39-faf53d400829\",\"type\":\"GlyphRenderer\"}]},\"id\":\"9d6a6b2d-791a-4fd7-ab36-91002d466fcc\",\"type\":\"LegendItem\"},{\"attributes\":{\"data_source\":{\"id\":\"ba3e36b0-d2b0-4365-a575-79b46794e999\",\"type\":\"ColumnDataSource\"},\"glyph\":{\"id\":\"596c8a5e-0dd2-494a-b185-7162c4686b5f\",\"type\":\"Line\"},\"hover_glyph\":null,\"muted_glyph\":null,\"nonselection_glyph\":{\"id\":\"8a36ff50-c515-453c-b0ee-07d20b0ef0e0\",\"type\":\"Line\"},\"selection_glyph\":null,\"view\":{\"id\":\"72411a12-0820-4226-a620-fee1bce287e4\",\"type\":\"CDSView\"}},\"id\":\"26ebdbff-04bb-41af-8c15-306004ccd4f7\",\"type\":\"GlyphRenderer\"},{\"attributes\":{},\"id\":\"624d1e84-dc2c-4414-b4ca-379d466e0508\",\"type\":\"Selection\"},{\"attributes\":{\"line_alpha\":0.1,\"line_color\":\"#1f77b4\",\"x\":{\"field\":\"x\"},\"y\":{\"field\":\"y\"}},\"id\":\"8a36ff50-c515-453c-b0ee-07d20b0ef0e0\",\"type\":\"Line\"},{\"attributes\":{\"callback\":null},\"id\":\"f7e5c262-5efc-4bd3-99ce-ce526a075667\",\"type\":\"DataRange1d\"},{\"attributes\":{\"source\":{\"id\":\"ba3e36b0-d2b0-4365-a575-79b46794e999\",\"type\":\"ColumnDataSource\"}},\"id\":\"72411a12-0820-4226-a620-fee1bce287e4\",\"type\":\"CDSView\"},{\"attributes\":{},\"id\":\"4a94aed0-6889-4906-bce1-ec54eb5ec33b\",\"type\":\"LinearScale\"},{\"attributes\":{},\"id\":\"2d616631-2cc7-4bce-b851-006ae3c12a36\",\"type\":\"LinearScale\"},{\"attributes\":{\"callback\":null,\"data\":{\"x\":[2010,2011,2012,2013,2014,2015,2016,2017],\"y\":[10,11,12,13,14,15,16,17]},\"selected\":{\"id\":\"a9a98500-c757-4cb6-b8c4-2174bb372209\",\"type\":\"Selection\"},\"selection_policy\":{\"id\":\"0ee95af7-6eb0-42af-b1bd-9421d7f77cd0\",\"type\":\"UnionRenderers\"}},\"id\":\"d3e1d67d-2bda-43d4-ac19-a4a92e949c44\",\"type\":\"ColumnDataSource\"},{\"attributes\":{\"axis_label\":\"year\",\"formatter\":{\"id\":\"55238fd3-dd10-4896-aba7-1944c4e01520\",\"type\":\"NumeralTickFormatter\"},\"plot\":{\"id\":\"abc234ca-0586-406a-b36a-48fd6343f5c8\",\"subtype\":\"Figure\",\"type\":\"Plot\"},\"ticker\":{\"id\":\"13e5ad29-ffce-452a-87f4-9d85a524c630\",\"type\":\"BasicTicker\"}},\"id\":\"660f7acb-661a-41f1-8bc3-04df1d178e9d\",\"type\":\"LinearAxis\"},{\"attributes\":{\"label\":{\"value\":\"oklahoma\"},\"renderers\":[{\"id\":\"26ebdbff-04bb-41af-8c15-306004ccd4f7\",\"type\":\"GlyphRenderer\"}]},\"id\":\"afce2dd1-5332-491f-974a-f45b8bb832b5\",\"type\":\"LegendItem\"},{\"attributes\":{},\"id\":\"13e5ad29-ffce-452a-87f4-9d85a524c630\",\"type\":\"BasicTicker\"},{\"attributes\":{\"callback\":null,\"data\":{\"x\":[2010,2011,2012,2013,2014,2015,2016,2017],\"y\":[7,8,7,6,5,6,8,10]},\"selected\":{\"id\":\"624d1e84-dc2c-4414-b4ca-379d466e0508\",\"type\":\"Selection\"},\"selection_policy\":{\"id\":\"00971b4a-ff6a-4647-8844-de711ac91160\",\"type\":\"UnionRenderers\"}},\"id\":\"ce20f5f5-671e-41b5-800f-f71e4cf97614\",\"type\":\"ColumnDataSource\"},{\"attributes\":{\"plot\":{\"id\":\"abc234ca-0586-406a-b36a-48fd6343f5c8\",\"subtype\":\"Figure\",\"type\":\"Plot\"},\"ticker\":{\"id\":\"13e5ad29-ffce-452a-87f4-9d85a524c630\",\"type\":\"BasicTicker\"}},\"id\":\"5ed01124-3718-4a4c-8bad-192fe1ce665c\",\"type\":\"Grid\"},{\"attributes\":{},\"id\":\"cf689d54-fde5-4667-9a1f-befde19dae18\",\"type\":\"Selection\"},{\"attributes\":{\"axis_label\":\"Costs\",\"formatter\":{\"id\":\"ebc5e8eb-2872-44a0-837a-d639c82883e1\",\"type\":\"BasicTickFormatter\"},\"plot\":{\"id\":\"abc234ca-0586-406a-b36a-48fd6343f5c8\",\"subtype\":\"Figure\",\"type\":\"Plot\"},\"ticker\":{\"id\":\"6d9a26a0-512d-4a7b-931f-b08df02342b1\",\"type\":\"BasicTicker\"}},\"id\":\"8826097d-dbdf-4d0b-9164-602e55b54f8d\",\"type\":\"LinearAxis\"},{\"attributes\":{\"line_color\":\"#fee08b\",\"x\":{\"field\":\"x\"},\"y\":{\"field\":\"y\"}},\"id\":\"2d0b6a73-d85b-438a-bb5d-62956e2e0147\",\"type\":\"Line\"},{\"attributes\":{},\"id\":\"6d9a26a0-512d-4a7b-931f-b08df02342b1\",\"type\":\"BasicTicker\"},{\"attributes\":{},\"id\":\"6c75cefe-86ea-41d8-a016-5adf46aedab3\",\"type\":\"Selection\"},{\"attributes\":{\"dimension\":1,\"plot\":{\"id\":\"abc234ca-0586-406a-b36a-48fd6343f5c8\",\"subtype\":\"Figure\",\"type\":\"Plot\"},\"ticker\":{\"id\":\"6d9a26a0-512d-4a7b-931f-b08df02342b1\",\"type\":\"BasicTicker\"}},\"id\":\"169e76d6-7dd4-4ebb-89d0-186d257560a6\",\"type\":\"Grid\"},{\"attributes\":{\"data_source\":{\"id\":\"ce20f5f5-671e-41b5-800f-f71e4cf97614\",\"type\":\"ColumnDataSource\"},\"glyph\":{\"id\":\"2d0b6a73-d85b-438a-bb5d-62956e2e0147\",\"type\":\"Line\"},\"hover_glyph\":null,\"muted_glyph\":null,\"nonselection_glyph\":{\"id\":\"a3a8bfbc-5f4c-470c-9e4b-39c9a65963ee\",\"type\":\"Line\"},\"selection_glyph\":null,\"view\":{\"id\":\"ce3f22e2-b0dd-4904-9daa-248f042f6c69\",\"type\":\"CDSView\"}},\"id\":\"1ee69bb4-2daf-4020-ae6e-147a5a7c096b\",\"type\":\"GlyphRenderer\"},{\"attributes\":{\"line_color\":\"#3288bd\",\"x\":{\"field\":\"x\"},\"y\":{\"field\":\"y\"}},\"id\":\"83a3ec0a-ddce-41a1-9b95-8a47920cf561\",\"type\":\"Line\"},{\"attributes\":{\"items\":[{\"id\":\"9d6a6b2d-791a-4fd7-ab36-91002d466fcc\",\"type\":\"LegendItem\"},{\"id\":\"c0314556-29e3-44c1-b237-5e214a6fd578\",\"type\":\"LegendItem\"},{\"id\":\"afce2dd1-5332-491f-974a-f45b8bb832b5\",\"type\":\"LegendItem\"},{\"id\":\"092bf762-91f6-4783-ad0f-e969d5d48a2b\",\"type\":\"LegendItem\"},{\"id\":\"5b226cbb-44ba-4720-9c69-ac315e759b36\",\"type\":\"LegendItem\"}],\"plot\":{\"id\":\"abc234ca-0586-406a-b36a-48fd6343f5c8\",\"subtype\":\"Figure\",\"type\":\"Plot\"}},\"id\":\"9c30015a-318b-44c1-bc1e-1c3370f110c5\",\"type\":\"Legend\"},{\"attributes\":{\"line_alpha\":0.1,\"line_color\":\"#1f77b4\",\"x\":{\"field\":\"x\"},\"y\":{\"field\":\"y\"}},\"id\":\"a3a8bfbc-5f4c-470c-9e4b-39c9a65963ee\",\"type\":\"Line\"},{\"attributes\":{\"source\":{\"id\":\"ce20f5f5-671e-41b5-800f-f71e4cf97614\",\"type\":\"ColumnDataSource\"}},\"id\":\"ce3f22e2-b0dd-4904-9daa-248f042f6c69\",\"type\":\"CDSView\"},{\"attributes\":{\"callback\":null,\"data\":{\"x\":[2010,2011,2012,2013,2014,2015,2016,2017],\"y\":[8,7,6,5,4,3,4,5]},\"selected\":{\"id\":\"eef2112c-dc20-42cb-acff-9d860e20f7a4\",\"type\":\"Selection\"},\"selection_policy\":{\"id\":\"ad832e71-6101-4397-a95e-dedf8bdd91e3\",\"type\":\"UnionRenderers\"}},\"id\":\"c2c6946d-f06c-4ece-8f00-ead55c60b97c\",\"type\":\"ColumnDataSource\"},{\"attributes\":{},\"id\":\"4beb20fc-89f3-4090-be9d-bd53404188d9\",\"type\":\"UnionRenderers\"},{\"attributes\":{\"line_alpha\":0.1,\"line_color\":\"#1f77b4\",\"x\":{\"field\":\"x\"},\"y\":{\"field\":\"y\"}},\"id\":\"d7b14318-ae2a-4820-a310-709a38dec36f\",\"type\":\"Line\"},{\"attributes\":{\"label\":{\"value\":\"wisconson\"},\"renderers\":[{\"id\":\"1ee69bb4-2daf-4020-ae6e-147a5a7c096b\",\"type\":\"GlyphRenderer\"}]},\"id\":\"092bf762-91f6-4783-ad0f-e969d5d48a2b\",\"type\":\"LegendItem\"},{\"attributes\":{\"data_source\":{\"id\":\"d3e1d67d-2bda-43d4-ac19-a4a92e949c44\",\"type\":\"ColumnDataSource\"},\"glyph\":{\"id\":\"83a3ec0a-ddce-41a1-9b95-8a47920cf561\",\"type\":\"Line\"},\"hover_glyph\":null,\"muted_glyph\":null,\"nonselection_glyph\":{\"id\":\"d7b14318-ae2a-4820-a310-709a38dec36f\",\"type\":\"Line\"},\"selection_glyph\":null,\"view\":{\"id\":\"80023886-5fff-4953-a1d8-9b73951c3297\",\"type\":\"CDSView\"}},\"id\":\"3165afe1-4eb2-4c5b-ae39-faf53d400829\",\"type\":\"GlyphRenderer\"},{\"attributes\":{\"data_source\":{\"id\":\"c2c6946d-f06c-4ece-8f00-ead55c60b97c\",\"type\":\"ColumnDataSource\"},\"glyph\":{\"id\":\"0dfe6c75-415b-410b-b0d4-1377018a0850\",\"type\":\"Line\"},\"hover_glyph\":null,\"muted_glyph\":null,\"nonselection_glyph\":{\"id\":\"72b24ce2-73d9-47dc-b987-49fc5abcdc9c\",\"type\":\"Line\"},\"selection_glyph\":null,\"view\":{\"id\":\"845744ae-2855-40b3-a9d4-3f2b45bf43ff\",\"type\":\"CDSView\"}},\"id\":\"b682cbe3-3008-475f-a516-13afa73858ab\",\"type\":\"GlyphRenderer\"},{\"attributes\":{\"source\":{\"id\":\"d3e1d67d-2bda-43d4-ac19-a4a92e949c44\",\"type\":\"ColumnDataSource\"}},\"id\":\"80023886-5fff-4953-a1d8-9b73951c3297\",\"type\":\"CDSView\"},{\"attributes\":{\"line_alpha\":0.1,\"line_color\":\"#1f77b4\",\"x\":{\"field\":\"x\"},\"y\":{\"field\":\"y\"}},\"id\":\"72b24ce2-73d9-47dc-b987-49fc5abcdc9c\",\"type\":\"Line\"},{\"attributes\":{\"line_color\":\"#fc8d59\",\"x\":{\"field\":\"x\"},\"y\":{\"field\":\"y\"}},\"id\":\"0dfe6c75-415b-410b-b0d4-1377018a0850\",\"type\":\"Line\"},{\"attributes\":{},\"id\":\"ebc5e8eb-2872-44a0-837a-d639c82883e1\",\"type\":\"BasicTickFormatter\"},{\"attributes\":{\"source\":{\"id\":\"c2c6946d-f06c-4ece-8f00-ead55c60b97c\",\"type\":\"ColumnDataSource\"}},\"id\":\"845744ae-2855-40b3-a9d4-3f2b45bf43ff\",\"type\":\"CDSView\"},{\"attributes\":{\"label\":{\"value\":\"florida\"},\"renderers\":[{\"id\":\"b682cbe3-3008-475f-a516-13afa73858ab\",\"type\":\"GlyphRenderer\"}]},\"id\":\"5b226cbb-44ba-4720-9c69-ac315e759b36\",\"type\":\"LegendItem\"},{\"attributes\":{},\"id\":\"00971b4a-ff6a-4647-8844-de711ac91160\",\"type\":\"UnionRenderers\"}],\"root_ids\":[\"abc234ca-0586-406a-b36a-48fd6343f5c8\"]},\"title\":\"Bokeh Application\",\"version\":\"0.12.16\"}};\n",
       "  var render_items = [{\"docid\":\"d8c78f28-fbe9-4d60-ac0d-9569a5a4a71e\",\"elementid\":\"db94786b-9c86-4842-869a-e962e4772916\",\"modelid\":\"abc234ca-0586-406a-b36a-48fd6343f5c8\",\"notebook_comms_target\":\"1836b515-cfb9-4d5f-9c99-bd16c57b4e40\"}];\n",
       "  root.Bokeh.embed.embed_items_notebook(docs_json, render_items);\n",
       "\n",
       "  }\n",
       "  if (root.Bokeh !== undefined) {\n",
       "    embed_document(root);\n",
       "  } else {\n",
       "    var attempts = 0;\n",
       "    var timer = setInterval(function(root) {\n",
       "      if (root.Bokeh !== undefined) {\n",
       "        embed_document(root);\n",
       "        clearInterval(timer);\n",
       "      }\n",
       "      attempts++;\n",
       "      if (attempts > 100) {\n",
       "        console.log(\"Bokeh: ERROR: Unable to run BokehJS code because BokehJS library is missing\")\n",
       "        clearInterval(timer);\n",
       "      }\n",
       "    }, 10, root)\n",
       "  }\n",
       "})(window);"
      ],
      "application/vnd.bokehjs_exec.v0+json": ""
     },
     "metadata": {
      "application/vnd.bokehjs_exec.v0+json": {
       "id": "abc234ca-0586-406a-b36a-48fd6343f5c8"
      }
     },
     "output_type": "display_data"
    },
    {
     "data": {
      "text/html": [
       "<p><code>&lt;Bokeh Notebook handle for <strong>In[8]</strong>&gt;</code></p>"
      ],
      "text/plain": [
       "<bokeh.io.notebook.CommsHandle at 0x261df119438>"
      ]
     },
     "execution_count": 8,
     "metadata": {},
     "output_type": "execute_result"
    }
   ],
   "source": [
    "from bokeh.transform import linear_cmap\n",
    "\n",
    "#mapper = linear_cmap(palette=Spectral6)\n",
    "\n",
    "source_line = ColumnDataSource(data=dict(\n",
    "    x = ,\n",
    "    y = ,\n",
    "))\n",
    "\n",
    "p = figure(\n",
    "    title='costs per trainee',\n",
    "    tools=[HoverTool(tooltips='@location', show_arrow=False)],\n",
    "    **PLOT_OPTS)\n",
    "\n",
    "for i, x in enumerate(df_cost[df_cost.columns[1:]]):\n",
    "    colors = Spectral6\n",
    "    p.line(\n",
    "        df_cost['year'],\n",
    "        df_cost[x],\n",
    "        legend = x,\n",
    "        color = colors[i]\n",
    "        \n",
    "    )\n",
    "\n",
    "p.xaxis[0].formatter = NumeralTickFormatter()\n",
    "p.xaxis.axis_label = \"year\"\n",
    "p.yaxis.axis_label = \"Costs\"\n",
    "\n",
    "show(p, notebook_handle=True)"
   ]
  },
  {
   "cell_type": "code",
   "execution_count": 30,
   "metadata": {},
   "outputs": [
    {
     "data": {
      "text/html": [
       "\n",
       "<div class=\"bk-root\">\n",
       "    <div class=\"bk-plotdiv\" id=\"860c90d2-d596-4c3a-919e-98eab5aafe3e\"></div>\n",
       "</div>"
      ]
     },
     "metadata": {},
     "output_type": "display_data"
    },
    {
     "data": {
      "application/javascript": [
       "(function(root) {\n",
       "  function embed_document(root) {\n",
       "    \n",
       "  var docs_json = {\"860ef0fb-4840-459f-a1e6-c5480f8000d1\":{\"roots\":{\"references\":[{\"attributes\":{\"data_source\":{\"id\":\"1699d98c-3391-4078-9283-e728cda9dcb8\",\"type\":\"ColumnDataSource\"},\"glyph\":{\"id\":\"9831bfed-0ac9-4a94-89fb-9d73e117ee25\",\"type\":\"Line\"},\"hover_glyph\":null,\"muted_glyph\":null,\"nonselection_glyph\":{\"id\":\"d03caf6b-31de-4309-8590-27411712c850\",\"type\":\"Line\"},\"selection_glyph\":null,\"view\":{\"id\":\"913ae38e-a6e2-41c0-b6d2-9d2fa362db48\",\"type\":\"CDSView\"}},\"id\":\"8ec5c61d-7c44-4ad2-853b-731786cf2e69\",\"type\":\"GlyphRenderer\"},{\"attributes\":{},\"id\":\"73960a7f-7067-4276-b855-16bc586b7e0d\",\"type\":\"BasicTicker\"},{\"attributes\":{\"callback\":null,\"data\":{\"x\":[2010,2011,2012,2013,2014,2015,2016,2017],\"y\":[10,11,12,13,14,15,16,17]},\"selected\":{\"id\":\"0d81f222-40d5-47eb-a598-56811f20c931\",\"type\":\"Selection\"},\"selection_policy\":{\"id\":\"2dc05c46-2978-4c35-852f-321816ac48fb\",\"type\":\"UnionRenderers\"}},\"id\":\"4650dcca-b695-402a-9454-921d93cc2edb\",\"type\":\"ColumnDataSource\"},{\"attributes\":{\"callback\":null,\"data\":{\"x\":[2010,2011,2012,2013,2014,2015,2016,2017],\"y\":[7,8,7,6,5,6,8,10]},\"selected\":{\"id\":\"30cc5561-2b6c-48ed-b5f7-c87b3347f2f1\",\"type\":\"Selection\"},\"selection_policy\":{\"id\":\"24c5c382-17c5-44cf-a43c-8b793d094f1b\",\"type\":\"UnionRenderers\"}},\"id\":\"1699d98c-3391-4078-9283-e728cda9dcb8\",\"type\":\"ColumnDataSource\"},{\"attributes\":{\"line_alpha\":0.1,\"line_color\":\"#1f77b4\",\"x\":{\"field\":\"x\"},\"y\":{\"field\":\"y\"}},\"id\":\"d03caf6b-31de-4309-8590-27411712c850\",\"type\":\"Line\"},{\"attributes\":{\"source\":{\"id\":\"1699d98c-3391-4078-9283-e728cda9dcb8\",\"type\":\"ColumnDataSource\"}},\"id\":\"913ae38e-a6e2-41c0-b6d2-9d2fa362db48\",\"type\":\"CDSView\"},{\"attributes\":{},\"id\":\"30cc5561-2b6c-48ed-b5f7-c87b3347f2f1\",\"type\":\"Selection\"},{\"attributes\":{},\"id\":\"d9a24327-db60-4937-9f51-ee42f932c702\",\"type\":\"UnionRenderers\"},{\"attributes\":{\"dimension\":1,\"plot\":{\"id\":\"c981f64e-8af4-4eb2-aed5-c82a8a98318b\",\"subtype\":\"Figure\",\"type\":\"Plot\"},\"ticker\":{\"id\":\"70558435-6a45-42f5-a683-91b0e32d1f71\",\"type\":\"BasicTicker\"}},\"id\":\"7d86f66f-d568-41f8-8c23-af5155251475\",\"type\":\"Grid\"},{\"attributes\":{},\"id\":\"f2b5a34e-0c97-461e-a164-497560b6e962\",\"type\":\"UnionRenderers\"},{\"attributes\":{},\"id\":\"1e232413-f63f-4b7d-a4ec-712f933c905b\",\"type\":\"Selection\"},{\"attributes\":{},\"id\":\"70558435-6a45-42f5-a683-91b0e32d1f71\",\"type\":\"BasicTicker\"},{\"attributes\":{\"callback\":null,\"data\":{\"x\":[2010,2011,2012,2013,2014,2015,2016,2017],\"y\":[5,5,6,6,5,6,5,5]},\"selected\":{\"id\":\"5b9e0d50-0992-4bf8-bc80-1110b04dd7d4\",\"type\":\"Selection\"},\"selection_policy\":{\"id\":\"f2b5a34e-0c97-461e-a164-497560b6e962\",\"type\":\"UnionRenderers\"}},\"id\":\"8512bde2-2f53-4315-a21d-8d010b21957c\",\"type\":\"ColumnDataSource\"},{\"attributes\":{\"line_color\":\"#fc8d59\",\"x\":{\"field\":\"x\"},\"y\":{\"field\":\"y\"}},\"id\":\"bb7f920b-51cd-448a-9933-40aae90fb2f0\",\"type\":\"Line\"},{\"attributes\":{\"label\":{\"value\":\"wisconson\"},\"renderers\":[{\"id\":\"8ec5c61d-7c44-4ad2-853b-731786cf2e69\",\"type\":\"GlyphRenderer\"}]},\"id\":\"a4c7e7d9-bc16-49e2-abcc-0750d9bcbe8b\",\"type\":\"LegendItem\"},{\"attributes\":{},\"id\":\"c23421fb-1a5e-4544-b753-8fd69969df80\",\"type\":\"UnionRenderers\"},{\"attributes\":{\"callback\":null,\"data\":{\"x\":[2010,2011,2012,2013,2014,2015,2016,2017],\"y\":[8,7,6,5,4,3,4,5]},\"selected\":{\"id\":\"1e232413-f63f-4b7d-a4ec-712f933c905b\",\"type\":\"Selection\"},\"selection_policy\":{\"id\":\"d9a24327-db60-4937-9f51-ee42f932c702\",\"type\":\"UnionRenderers\"}},\"id\":\"e84fef60-d26f-4ce2-b292-d1f8072546d2\",\"type\":\"ColumnDataSource\"},{\"attributes\":{\"data_source\":{\"id\":\"e84fef60-d26f-4ce2-b292-d1f8072546d2\",\"type\":\"ColumnDataSource\"},\"glyph\":{\"id\":\"bb7f920b-51cd-448a-9933-40aae90fb2f0\",\"type\":\"Line\"},\"hover_glyph\":null,\"muted_glyph\":null,\"nonselection_glyph\":{\"id\":\"4a37ddaf-d157-4d0d-bdf6-093888d68839\",\"type\":\"Line\"},\"selection_glyph\":null,\"view\":{\"id\":\"3f4f7a2a-7f58-4074-9c08-bd14c4efbbdd\",\"type\":\"CDSView\"}},\"id\":\"fb205d31-89e4-4831-b02e-95b1846ef35d\",\"type\":\"GlyphRenderer\"},{\"attributes\":{\"line_color\":\"#3288bd\",\"x\":{\"field\":\"x\"},\"y\":{\"field\":\"y\"}},\"id\":\"8f3a3d75-5ea6-4426-8bff-ce3af50d67b5\",\"type\":\"Line\"},{\"attributes\":{\"line_alpha\":0.1,\"line_color\":\"#1f77b4\",\"x\":{\"field\":\"x\"},\"y\":{\"field\":\"y\"}},\"id\":\"d72bf922-f4fe-4bab-9f09-35b8c83716f4\",\"type\":\"Line\"},{\"attributes\":{},\"id\":\"641aaa12-43e2-4937-a6f4-3818cde6157f\",\"type\":\"LinearScale\"},{\"attributes\":{\"line_alpha\":0.1,\"line_color\":\"#1f77b4\",\"x\":{\"field\":\"x\"},\"y\":{\"field\":\"y\"}},\"id\":\"f854d736-f747-4079-9d8f-74dfe644c3ad\",\"type\":\"Line\"},{\"attributes\":{\"line_alpha\":0.1,\"line_color\":\"#1f77b4\",\"x\":{\"field\":\"x\"},\"y\":{\"field\":\"y\"}},\"id\":\"4a37ddaf-d157-4d0d-bdf6-093888d68839\",\"type\":\"Line\"},{\"attributes\":{\"items\":[{\"id\":\"03cdbce4-fdfe-4067-a3d0-09b7b7bd18af\",\"type\":\"LegendItem\"},{\"id\":\"ad6b1720-e3ef-46de-8c0b-5a1f497c1629\",\"type\":\"LegendItem\"},{\"id\":\"808d718c-8feb-4769-a5f1-022da0719703\",\"type\":\"LegendItem\"},{\"id\":\"a4c7e7d9-bc16-49e2-abcc-0750d9bcbe8b\",\"type\":\"LegendItem\"},{\"id\":\"09782b83-8774-41a8-841c-60328c8b3c52\",\"type\":\"LegendItem\"}],\"plot\":{\"id\":\"c981f64e-8af4-4eb2-aed5-c82a8a98318b\",\"subtype\":\"Figure\",\"type\":\"Plot\"}},\"id\":\"48f2bab5-52b1-4666-a1d3-29db8be30a8d\",\"type\":\"Legend\"},{\"attributes\":{\"data_source\":{\"id\":\"8512bde2-2f53-4315-a21d-8d010b21957c\",\"type\":\"ColumnDataSource\"},\"glyph\":{\"id\":\"9cd4eb95-78aa-47ea-a76c-cb3553a57c5d\",\"type\":\"Line\"},\"hover_glyph\":null,\"muted_glyph\":null,\"nonselection_glyph\":{\"id\":\"4e80055a-b3ad-4c75-93d0-89153d1007a4\",\"type\":\"Line\"},\"selection_glyph\":null,\"view\":{\"id\":\"80f9a4fd-ab42-4384-82fb-18a211dfda19\",\"type\":\"CDSView\"}},\"id\":\"6943ed67-da3b-4fb0-ab37-89a602525dd5\",\"type\":\"GlyphRenderer\"},{\"attributes\":{\"source\":{\"id\":\"e84fef60-d26f-4ce2-b292-d1f8072546d2\",\"type\":\"ColumnDataSource\"}},\"id\":\"3f4f7a2a-7f58-4074-9c08-bd14c4efbbdd\",\"type\":\"CDSView\"},{\"attributes\":{\"data_source\":{\"id\":\"4650dcca-b695-402a-9454-921d93cc2edb\",\"type\":\"ColumnDataSource\"},\"glyph\":{\"id\":\"8f3a3d75-5ea6-4426-8bff-ce3af50d67b5\",\"type\":\"Line\"},\"hover_glyph\":null,\"muted_glyph\":null,\"nonselection_glyph\":{\"id\":\"f854d736-f747-4079-9d8f-74dfe644c3ad\",\"type\":\"Line\"},\"selection_glyph\":null,\"view\":{\"id\":\"a5a3abb9-603a-4314-95d8-249f6874a55e\",\"type\":\"CDSView\"}},\"id\":\"1ceec2bd-a91e-4c7c-a122-866c0822d77b\",\"type\":\"GlyphRenderer\"},{\"attributes\":{},\"id\":\"983e73e6-d30f-4bd7-948e-7ba5744737e7\",\"type\":\"BasicTickFormatter\"},{\"attributes\":{},\"id\":\"2d98d642-3333-448e-91e3-ef6b82880f98\",\"type\":\"BasicTickFormatter\"},{\"attributes\":{\"line_alpha\":0.1,\"line_color\":\"#1f77b4\",\"x\":{\"field\":\"x\"},\"y\":{\"field\":\"y\"}},\"id\":\"4e80055a-b3ad-4c75-93d0-89153d1007a4\",\"type\":\"Line\"},{\"attributes\":{},\"id\":\"24c5c382-17c5-44cf-a43c-8b793d094f1b\",\"type\":\"UnionRenderers\"},{\"attributes\":{\"label\":{\"value\":\"new_york\"},\"renderers\":[{\"id\":\"1ceec2bd-a91e-4c7c-a122-866c0822d77b\",\"type\":\"GlyphRenderer\"}]},\"id\":\"03cdbce4-fdfe-4067-a3d0-09b7b7bd18af\",\"type\":\"LegendItem\"},{\"attributes\":{\"source\":{\"id\":\"4650dcca-b695-402a-9454-921d93cc2edb\",\"type\":\"ColumnDataSource\"}},\"id\":\"a5a3abb9-603a-4314-95d8-249f6874a55e\",\"type\":\"CDSView\"},{\"attributes\":{\"data_source\":{\"id\":\"0cf372ee-d711-46e6-b6a4-1bab68644735\",\"type\":\"ColumnDataSource\"},\"glyph\":{\"id\":\"9ed6cbea-0d23-46f3-b385-511a0ef9f51a\",\"type\":\"Line\"},\"hover_glyph\":null,\"muted_glyph\":null,\"nonselection_glyph\":{\"id\":\"d72bf922-f4fe-4bab-9f09-35b8c83716f4\",\"type\":\"Line\"},\"selection_glyph\":null,\"view\":{\"id\":\"18b58842-9377-415f-99de-8a7cf18c662b\",\"type\":\"CDSView\"}},\"id\":\"d08c46a3-b0f3-4e55-a5ad-0adecda1c898\",\"type\":\"GlyphRenderer\"},{\"attributes\":{\"line_color\":\"#99d594\",\"x\":{\"field\":\"x\"},\"y\":{\"field\":\"y\"}},\"id\":\"9ed6cbea-0d23-46f3-b385-511a0ef9f51a\",\"type\":\"Line\"},{\"attributes\":{\"label\":{\"value\":\"florida\"},\"renderers\":[{\"id\":\"fb205d31-89e4-4831-b02e-95b1846ef35d\",\"type\":\"GlyphRenderer\"}]},\"id\":\"09782b83-8774-41a8-841c-60328c8b3c52\",\"type\":\"LegendItem\"},{\"attributes\":{},\"id\":\"0d81f222-40d5-47eb-a598-56811f20c931\",\"type\":\"Selection\"},{\"attributes\":{\"line_color\":\"#e6f598\",\"x\":{\"field\":\"x\"},\"y\":{\"field\":\"y\"}},\"id\":\"9cd4eb95-78aa-47ea-a76c-cb3553a57c5d\",\"type\":\"Line\"},{\"attributes\":{\"source\":{\"id\":\"0cf372ee-d711-46e6-b6a4-1bab68644735\",\"type\":\"ColumnDataSource\"}},\"id\":\"18b58842-9377-415f-99de-8a7cf18c662b\",\"type\":\"CDSView\"},{\"attributes\":{\"callback\":null,\"data\":{\"x\":[2010,2011,2012,2013,2014,2015,2016,2017],\"y\":[15,16,17,11,12,13,14,15]},\"selected\":{\"id\":\"0fa090c0-d883-428a-a724-1d1678de17db\",\"type\":\"Selection\"},\"selection_policy\":{\"id\":\"c23421fb-1a5e-4544-b753-8fd69969df80\",\"type\":\"UnionRenderers\"}},\"id\":\"0cf372ee-d711-46e6-b6a4-1bab68644735\",\"type\":\"ColumnDataSource\"},{\"attributes\":{\"axis_label\":\"year\",\"formatter\":{\"id\":\"2d98d642-3333-448e-91e3-ef6b82880f98\",\"type\":\"BasicTickFormatter\"},\"plot\":{\"id\":\"c981f64e-8af4-4eb2-aed5-c82a8a98318b\",\"subtype\":\"Figure\",\"type\":\"Plot\"},\"ticker\":{\"id\":\"73960a7f-7067-4276-b855-16bc586b7e0d\",\"type\":\"BasicTicker\"}},\"id\":\"7db7534d-274b-4e8c-a5a1-4eaf7e0a262d\",\"type\":\"LinearAxis\"},{\"attributes\":{\"callback\":null},\"id\":\"993584f0-4a42-43b7-92bc-0d805f84edf5\",\"type\":\"DataRange1d\"},{\"attributes\":{},\"id\":\"2dc05c46-2978-4c35-852f-321816ac48fb\",\"type\":\"UnionRenderers\"},{\"attributes\":{\"label\":{\"value\":\"california\"},\"renderers\":[{\"id\":\"d08c46a3-b0f3-4e55-a5ad-0adecda1c898\",\"type\":\"GlyphRenderer\"}]},\"id\":\"ad6b1720-e3ef-46de-8c0b-5a1f497c1629\",\"type\":\"LegendItem\"},{\"attributes\":{\"line_color\":\"#fee08b\",\"x\":{\"field\":\"x\"},\"y\":{\"field\":\"y\"}},\"id\":\"9831bfed-0ac9-4a94-89fb-9d73e117ee25\",\"type\":\"Line\"},{\"attributes\":{\"below\":[{\"id\":\"7db7534d-274b-4e8c-a5a1-4eaf7e0a262d\",\"type\":\"LinearAxis\"}],\"left\":[{\"id\":\"1fa0b379-053f-4fd6-a69c-439c1db8b446\",\"type\":\"LinearAxis\"}],\"plot_height\":400,\"renderers\":[{\"id\":\"7db7534d-274b-4e8c-a5a1-4eaf7e0a262d\",\"type\":\"LinearAxis\"},{\"id\":\"cfd4a8b3-582c-4687-9f43-3ad627c5a50d\",\"type\":\"Grid\"},{\"id\":\"1fa0b379-053f-4fd6-a69c-439c1db8b446\",\"type\":\"LinearAxis\"},{\"id\":\"7d86f66f-d568-41f8-8c23-af5155251475\",\"type\":\"Grid\"},{\"id\":\"48f2bab5-52b1-4666-a1d3-29db8be30a8d\",\"type\":\"Legend\"},{\"id\":\"1ceec2bd-a91e-4c7c-a122-866c0822d77b\",\"type\":\"GlyphRenderer\"},{\"id\":\"d08c46a3-b0f3-4e55-a5ad-0adecda1c898\",\"type\":\"GlyphRenderer\"},{\"id\":\"6943ed67-da3b-4fb0-ab37-89a602525dd5\",\"type\":\"GlyphRenderer\"},{\"id\":\"8ec5c61d-7c44-4ad2-853b-731786cf2e69\",\"type\":\"GlyphRenderer\"},{\"id\":\"fb205d31-89e4-4831-b02e-95b1846ef35d\",\"type\":\"GlyphRenderer\"}],\"title\":{\"id\":\"78db5431-b71c-443f-88ec-3fc9c0d31522\",\"type\":\"Title\"},\"toolbar\":{\"id\":\"fd361625-40ab-4ff4-99a8-dbf2365504a0\",\"type\":\"Toolbar\"},\"x_range\":{\"id\":\"993584f0-4a42-43b7-92bc-0d805f84edf5\",\"type\":\"DataRange1d\"},\"x_scale\":{\"id\":\"641aaa12-43e2-4937-a6f4-3818cde6157f\",\"type\":\"LinearScale\"},\"y_range\":{\"id\":\"cffa0001-c911-4ff4-83ca-465fc80035f2\",\"type\":\"DataRange1d\"},\"y_scale\":{\"id\":\"8c817458-5978-477a-b2f9-39b5a0f8a423\",\"type\":\"LinearScale\"}},\"id\":\"c981f64e-8af4-4eb2-aed5-c82a8a98318b\",\"subtype\":\"Figure\",\"type\":\"Plot\"},{\"attributes\":{\"label\":{\"value\":\"oklahoma\"},\"renderers\":[{\"id\":\"6943ed67-da3b-4fb0-ab37-89a602525dd5\",\"type\":\"GlyphRenderer\"}]},\"id\":\"808d718c-8feb-4769-a5f1-022da0719703\",\"type\":\"LegendItem\"},{\"attributes\":{\"callback\":null,\"renderers\":\"auto\",\"show_arrow\":false,\"tooltips\":\"@location\"},\"id\":\"8364ab3d-d3b4-4674-b1d7-5df3dd1dcc34\",\"type\":\"HoverTool\"},{\"attributes\":{\"active_drag\":\"auto\",\"active_inspect\":\"auto\",\"active_scroll\":\"auto\",\"active_tap\":\"auto\",\"tools\":[{\"id\":\"8364ab3d-d3b4-4674-b1d7-5df3dd1dcc34\",\"type\":\"HoverTool\"}]},\"id\":\"fd361625-40ab-4ff4-99a8-dbf2365504a0\",\"type\":\"Toolbar\"},{\"attributes\":{\"plot\":null,\"text\":\"costs per trainee\"},\"id\":\"78db5431-b71c-443f-88ec-3fc9c0d31522\",\"type\":\"Title\"},{\"attributes\":{\"callback\":null},\"id\":\"cffa0001-c911-4ff4-83ca-465fc80035f2\",\"type\":\"DataRange1d\"},{\"attributes\":{},\"id\":\"8c817458-5978-477a-b2f9-39b5a0f8a423\",\"type\":\"LinearScale\"},{\"attributes\":{},\"id\":\"0fa090c0-d883-428a-a724-1d1678de17db\",\"type\":\"Selection\"},{\"attributes\":{\"axis_label\":\"Costs\",\"formatter\":{\"id\":\"983e73e6-d30f-4bd7-948e-7ba5744737e7\",\"type\":\"BasicTickFormatter\"},\"plot\":{\"id\":\"c981f64e-8af4-4eb2-aed5-c82a8a98318b\",\"subtype\":\"Figure\",\"type\":\"Plot\"},\"ticker\":{\"id\":\"70558435-6a45-42f5-a683-91b0e32d1f71\",\"type\":\"BasicTicker\"}},\"id\":\"1fa0b379-053f-4fd6-a69c-439c1db8b446\",\"type\":\"LinearAxis\"},{\"attributes\":{\"source\":{\"id\":\"8512bde2-2f53-4315-a21d-8d010b21957c\",\"type\":\"ColumnDataSource\"}},\"id\":\"80f9a4fd-ab42-4384-82fb-18a211dfda19\",\"type\":\"CDSView\"},{\"attributes\":{\"plot\":{\"id\":\"c981f64e-8af4-4eb2-aed5-c82a8a98318b\",\"subtype\":\"Figure\",\"type\":\"Plot\"},\"ticker\":{\"id\":\"73960a7f-7067-4276-b855-16bc586b7e0d\",\"type\":\"BasicTicker\"}},\"id\":\"cfd4a8b3-582c-4687-9f43-3ad627c5a50d\",\"type\":\"Grid\"},{\"attributes\":{},\"id\":\"5b9e0d50-0992-4bf8-bc80-1110b04dd7d4\",\"type\":\"Selection\"}],\"root_ids\":[\"c981f64e-8af4-4eb2-aed5-c82a8a98318b\"]},\"title\":\"Bokeh Application\",\"version\":\"0.12.16\"}};\n",
       "  var render_items = [{\"docid\":\"860ef0fb-4840-459f-a1e6-c5480f8000d1\",\"elementid\":\"860c90d2-d596-4c3a-919e-98eab5aafe3e\",\"modelid\":\"c981f64e-8af4-4eb2-aed5-c82a8a98318b\",\"notebook_comms_target\":\"c8c0bb4b-f5c1-4d1c-824a-3639f2a199ba\"}];\n",
       "  root.Bokeh.embed.embed_items_notebook(docs_json, render_items);\n",
       "\n",
       "  }\n",
       "  if (root.Bokeh !== undefined) {\n",
       "    embed_document(root);\n",
       "  } else {\n",
       "    var attempts = 0;\n",
       "    var timer = setInterval(function(root) {\n",
       "      if (root.Bokeh !== undefined) {\n",
       "        embed_document(root);\n",
       "        clearInterval(timer);\n",
       "      }\n",
       "      attempts++;\n",
       "      if (attempts > 100) {\n",
       "        console.log(\"Bokeh: ERROR: Unable to run BokehJS code because BokehJS library is missing\")\n",
       "        clearInterval(timer);\n",
       "      }\n",
       "    }, 10, root)\n",
       "  }\n",
       "})(window);"
      ],
      "application/vnd.bokehjs_exec.v0+json": ""
     },
     "metadata": {
      "application/vnd.bokehjs_exec.v0+json": {
       "id": "c981f64e-8af4-4eb2-aed5-c82a8a98318b"
      }
     },
     "output_type": "display_data"
    },
    {
     "data": {
      "text/html": [
       "<p><code>&lt;Bokeh Notebook handle for <strong>In[30]</strong>&gt;</code></p>"
      ],
      "text/plain": [
       "<bokeh.io.notebook.CommsHandle at 0x261df6ae278>"
      ]
     },
     "execution_count": 30,
     "metadata": {},
     "output_type": "execute_result"
    }
   ],
   "source": [
    "#test graph with columnDataSource\n",
    "\n",
    "p = figure(\n",
    "    title='costs per trainee',\n",
    "    tools=[HoverTool(tooltips='@location', show_arrow=False)],\n",
    "    **PLOT_OPTS)\n",
    "\n",
    "for i, x in enumerate(df_cost[df_cost.columns[1:]]):\n",
    "    \n",
    "    source_line = ColumnDataSource(data=dict(\n",
    "    x = df_cost['year'],\n",
    "    y = df_cost[x]\n",
    "    ))\n",
    "    \n",
    "    colors = Spectral6\n",
    "    p.line(\n",
    "        x='x',\n",
    "        y='y',\n",
    "        legend = x,\n",
    "        color = colors[i],\n",
    "        source=source_line\n",
    "    )\n",
    "\n",
    "p.xaxis.axis_label = \"year\"\n",
    "p.yaxis.axis_label = \"Costs\"\n",
    "\n",
    "show(p, notebook_handle=True)"
   ]
  },
  {
   "cell_type": "code",
   "execution_count": 9,
   "metadata": {},
   "outputs": [
    {
     "name": "stderr",
     "output_type": "stream",
     "text": [
      "C:\\Users\\zacha\\Anaconda3\\lib\\site-packages\\bokeh\\models\\sources.py:110: BokehUserWarning: ColumnDataSource's columns must be of the same length. Current lengths: ('line_color', 6), ('xs', 5), ('ys', 5)\n",
      "  \"Current lengths: %s\" % \", \".join(sorted(str((k, len(v))) for k, v in data.items())), BokehUserWarning))\n"
     ]
    },
    {
     "data": {
      "text/html": [
       "\n",
       "<div class=\"bk-root\">\n",
       "    <div class=\"bk-plotdiv\" id=\"6e34c9cc-408f-4664-8b79-25ef0b07c0c4\"></div>\n",
       "</div>"
      ]
     },
     "metadata": {},
     "output_type": "display_data"
    },
    {
     "data": {
      "application/javascript": [
       "(function(root) {\n",
       "  function embed_document(root) {\n",
       "    \n",
       "  var docs_json = {\"b5590b74-d5ab-45bc-9c17-53936eed9869\":{\"roots\":{\"references\":[{\"attributes\":{},\"id\":\"73d0b88c-d9e7-42c2-8d89-eb4b6aee57ed\",\"type\":\"LinearScale\"},{\"attributes\":{\"callback\":null},\"id\":\"66f2c2e9-a2d6-45d8-a631-a8e38bb3b962\",\"type\":\"DataRange1d\"},{\"attributes\":{\"callback\":null},\"id\":\"c06cc2b0-933a-4589-9d1f-e6590a31bd00\",\"type\":\"DataRange1d\"},{\"attributes\":{\"line_alpha\":{\"value\":0.1},\"line_color\":{\"value\":\"#1f77b4\"},\"line_width\":{\"value\":4},\"xs\":{\"field\":\"xs\"},\"ys\":{\"field\":\"ys\"}},\"id\":\"ab6e1045-cf36-4ede-be11-0c7f1cd722f2\",\"type\":\"MultiLine\"},{\"attributes\":{\"axis_label\":\"Costs\",\"formatter\":{\"id\":\"e74db1dc-5388-4839-8d61-bd4f99f9f849\",\"type\":\"BasicTickFormatter\"},\"plot\":{\"id\":\"add7c73e-e675-4e73-9bb3-0a28f4544db4\",\"subtype\":\"Figure\",\"type\":\"Plot\"},\"ticker\":{\"id\":\"893f191a-2f27-40aa-a57b-b064e4efb0b8\",\"type\":\"BasicTicker\"}},\"id\":\"4d60f1ba-e5c0-4589-a4f2-a4566becdf61\",\"type\":\"LinearAxis\"},{\"attributes\":{},\"id\":\"96c28ebf-a03a-490d-a583-903a4f17e4da\",\"type\":\"BasicTicker\"},{\"attributes\":{},\"id\":\"37d67961-dd05-4b71-9db1-c6963c7cb28f\",\"type\":\"Selection\"},{\"attributes\":{\"below\":[{\"id\":\"702073d0-5aa4-4a31-870d-7903d27a6275\",\"type\":\"LinearAxis\"}],\"left\":[{\"id\":\"4d60f1ba-e5c0-4589-a4f2-a4566becdf61\",\"type\":\"LinearAxis\"}],\"plot_height\":400,\"renderers\":[{\"id\":\"702073d0-5aa4-4a31-870d-7903d27a6275\",\"type\":\"LinearAxis\"},{\"id\":\"75280c3e-87f2-4db7-be7d-4b43fde9ac3c\",\"type\":\"Grid\"},{\"id\":\"4d60f1ba-e5c0-4589-a4f2-a4566becdf61\",\"type\":\"LinearAxis\"},{\"id\":\"0d914487-d0fc-4ca6-a3b1-8f6e20bc08ac\",\"type\":\"Grid\"},{\"id\":\"8a34a87d-eccb-4684-80f0-c44a7559d620\",\"type\":\"GlyphRenderer\"}],\"title\":{\"id\":\"99f52c6f-9307-42b8-ba1c-c85265db9713\",\"type\":\"Title\"},\"toolbar\":{\"id\":\"6d0e2190-04e2-4b09-a6ad-db57edac1279\",\"type\":\"Toolbar\"},\"x_range\":{\"id\":\"c06cc2b0-933a-4589-9d1f-e6590a31bd00\",\"type\":\"DataRange1d\"},\"x_scale\":{\"id\":\"73d0b88c-d9e7-42c2-8d89-eb4b6aee57ed\",\"type\":\"LinearScale\"},\"y_range\":{\"id\":\"66f2c2e9-a2d6-45d8-a631-a8e38bb3b962\",\"type\":\"DataRange1d\"},\"y_scale\":{\"id\":\"fbff69c8-b123-4ca0-af2e-a36ca2a3c05e\",\"type\":\"LinearScale\"}},\"id\":\"add7c73e-e675-4e73-9bb3-0a28f4544db4\",\"subtype\":\"Figure\",\"type\":\"Plot\"},{\"attributes\":{},\"id\":\"893f191a-2f27-40aa-a57b-b064e4efb0b8\",\"type\":\"BasicTicker\"},{\"attributes\":{\"data_source\":{\"id\":\"d2ddc355-6779-4bac-afa2-c6792eec20d1\",\"type\":\"ColumnDataSource\"},\"glyph\":{\"id\":\"6517a661-d5d0-4853-a08f-7507835aa2b1\",\"type\":\"MultiLine\"},\"hover_glyph\":null,\"muted_glyph\":null,\"nonselection_glyph\":{\"id\":\"ab6e1045-cf36-4ede-be11-0c7f1cd722f2\",\"type\":\"MultiLine\"},\"selection_glyph\":null,\"view\":{\"id\":\"08a21bad-6f28-4278-ac56-cc43f898c426\",\"type\":\"CDSView\"}},\"id\":\"8a34a87d-eccb-4684-80f0-c44a7559d620\",\"type\":\"GlyphRenderer\"},{\"attributes\":{\"line_color\":{\"field\":\"line_color\"},\"line_width\":{\"value\":4},\"xs\":{\"field\":\"xs\"},\"ys\":{\"field\":\"ys\"}},\"id\":\"6517a661-d5d0-4853-a08f-7507835aa2b1\",\"type\":\"MultiLine\"},{\"attributes\":{},\"id\":\"40e77821-aebe-49b7-9f10-2ac4800efba7\",\"type\":\"NumeralTickFormatter\"},{\"attributes\":{\"source\":{\"id\":\"d2ddc355-6779-4bac-afa2-c6792eec20d1\",\"type\":\"ColumnDataSource\"}},\"id\":\"08a21bad-6f28-4278-ac56-cc43f898c426\",\"type\":\"CDSView\"},{\"attributes\":{\"active_drag\":\"auto\",\"active_inspect\":\"auto\",\"active_scroll\":\"auto\",\"active_tap\":\"auto\",\"tools\":[{\"id\":\"c00d030a-2729-4fee-99b5-0f48ccd6a7a7\",\"type\":\"HoverTool\"}]},\"id\":\"6d0e2190-04e2-4b09-a6ad-db57edac1279\",\"type\":\"Toolbar\"},{\"attributes\":{},\"id\":\"e74db1dc-5388-4839-8d61-bd4f99f9f849\",\"type\":\"BasicTickFormatter\"},{\"attributes\":{\"plot\":null,\"text\":\"costs per trainee\"},\"id\":\"99f52c6f-9307-42b8-ba1c-c85265db9713\",\"type\":\"Title\"},{\"attributes\":{\"callback\":null,\"renderers\":\"auto\",\"show_arrow\":false,\"tooltips\":\"@location\"},\"id\":\"c00d030a-2729-4fee-99b5-0f48ccd6a7a7\",\"type\":\"HoverTool\"},{\"attributes\":{\"callback\":null,\"data\":{\"line_color\":[\"#3288bd\",\"#99d594\",\"#e6f598\",\"#fee08b\",\"#fc8d59\",\"#d53e4f\"],\"xs\":[[2010,2011,2012,2013,2014,2015,2016,2017],[2010,2011,2012,2013,2014,2015,2016,2017],[2010,2011,2012,2013,2014,2015,2016,2017],[2010,2011,2012,2013,2014,2015,2016,2017],[2010,2011,2012,2013,2014,2015,2016,2017]],\"ys\":[[10,11,12,13,14,15,16,17],[15,16,17,11,12,13,14,15],[5,5,6,6,5,6,5,5],[7,8,7,6,5,6,8,10],[8,7,6,5,4,3,4,5]]},\"selected\":{\"id\":\"37d67961-dd05-4b71-9db1-c6963c7cb28f\",\"type\":\"Selection\"},\"selection_policy\":{\"id\":\"1196e0a3-c445-49e1-a45f-b360592a7620\",\"type\":\"UnionRenderers\"}},\"id\":\"d2ddc355-6779-4bac-afa2-c6792eec20d1\",\"type\":\"ColumnDataSource\"},{\"attributes\":{},\"id\":\"fbff69c8-b123-4ca0-af2e-a36ca2a3c05e\",\"type\":\"LinearScale\"},{\"attributes\":{\"axis_label\":\"year\",\"formatter\":{\"id\":\"40e77821-aebe-49b7-9f10-2ac4800efba7\",\"type\":\"NumeralTickFormatter\"},\"plot\":{\"id\":\"add7c73e-e675-4e73-9bb3-0a28f4544db4\",\"subtype\":\"Figure\",\"type\":\"Plot\"},\"ticker\":{\"id\":\"96c28ebf-a03a-490d-a583-903a4f17e4da\",\"type\":\"BasicTicker\"}},\"id\":\"702073d0-5aa4-4a31-870d-7903d27a6275\",\"type\":\"LinearAxis\"},{\"attributes\":{},\"id\":\"1196e0a3-c445-49e1-a45f-b360592a7620\",\"type\":\"UnionRenderers\"},{\"attributes\":{\"plot\":{\"id\":\"add7c73e-e675-4e73-9bb3-0a28f4544db4\",\"subtype\":\"Figure\",\"type\":\"Plot\"},\"ticker\":{\"id\":\"96c28ebf-a03a-490d-a583-903a4f17e4da\",\"type\":\"BasicTicker\"}},\"id\":\"75280c3e-87f2-4db7-be7d-4b43fde9ac3c\",\"type\":\"Grid\"},{\"attributes\":{\"dimension\":1,\"plot\":{\"id\":\"add7c73e-e675-4e73-9bb3-0a28f4544db4\",\"subtype\":\"Figure\",\"type\":\"Plot\"},\"ticker\":{\"id\":\"893f191a-2f27-40aa-a57b-b064e4efb0b8\",\"type\":\"BasicTicker\"}},\"id\":\"0d914487-d0fc-4ca6-a3b1-8f6e20bc08ac\",\"type\":\"Grid\"}],\"root_ids\":[\"add7c73e-e675-4e73-9bb3-0a28f4544db4\"]},\"title\":\"Bokeh Application\",\"version\":\"0.12.16\"}};\n",
       "  var render_items = [{\"docid\":\"b5590b74-d5ab-45bc-9c17-53936eed9869\",\"elementid\":\"6e34c9cc-408f-4664-8b79-25ef0b07c0c4\",\"modelid\":\"add7c73e-e675-4e73-9bb3-0a28f4544db4\",\"notebook_comms_target\":\"aea13bf7-e274-4a88-adce-d8f269f4c97b\"}];\n",
       "  root.Bokeh.embed.embed_items_notebook(docs_json, render_items);\n",
       "\n",
       "  }\n",
       "  if (root.Bokeh !== undefined) {\n",
       "    embed_document(root);\n",
       "  } else {\n",
       "    var attempts = 0;\n",
       "    var timer = setInterval(function(root) {\n",
       "      if (root.Bokeh !== undefined) {\n",
       "        embed_document(root);\n",
       "        clearInterval(timer);\n",
       "      }\n",
       "      attempts++;\n",
       "      if (attempts > 100) {\n",
       "        console.log(\"Bokeh: ERROR: Unable to run BokehJS code because BokehJS library is missing\")\n",
       "        clearInterval(timer);\n",
       "      }\n",
       "    }, 10, root)\n",
       "  }\n",
       "})(window);"
      ],
      "application/vnd.bokehjs_exec.v0+json": ""
     },
     "metadata": {
      "application/vnd.bokehjs_exec.v0+json": {
       "id": "add7c73e-e675-4e73-9bb3-0a28f4544db4"
      }
     },
     "output_type": "display_data"
    },
    {
     "data": {
      "text/html": [
       "<p><code>&lt;Bokeh Notebook handle for <strong>In[9]</strong>&gt;</code></p>"
      ],
      "text/plain": [
       "<bokeh.io.notebook.CommsHandle at 0x261df0d40f0>"
      ]
     },
     "execution_count": 9,
     "metadata": {},
     "output_type": "execute_result"
    }
   ],
   "source": [
    "p = figure(\n",
    "    title='costs per trainee',\n",
    "    tools=[HoverTool(tooltips='@location', show_arrow=False)],\n",
    "    **PLOT_OPTS)\n",
    "\n",
    "p.multi_line(\n",
    "    [df_cost['year'], df_cost['year'], df_cost['year'], df_cost['year'], df_cost['year']],\n",
    "    [df_cost['new_york'], df_cost['california'], df_cost['oklahoma'], df_cost['wisconson'], df_cost['florida']],\n",
    "    color=Spectral6,\n",
    "    line_width=4,\n",
    ")\n",
    "\n",
    "p.xaxis[0].formatter = NumeralTickFormatter()\n",
    "p.xaxis.axis_label = \"year\"\n",
    "p.yaxis.axis_label = \"Costs\"\n",
    "\n",
    "show(p, notebook_handle=True)"
   ]
  },
  {
   "cell_type": "code",
   "execution_count": 10,
   "metadata": {},
   "outputs": [
    {
     "data": {
      "text/html": [
       "<div>\n",
       "<style scoped>\n",
       "    .dataframe tbody tr th:only-of-type {\n",
       "        vertical-align: middle;\n",
       "    }\n",
       "\n",
       "    .dataframe tbody tr th {\n",
       "        vertical-align: top;\n",
       "    }\n",
       "\n",
       "    .dataframe thead th {\n",
       "        text-align: right;\n",
       "    }\n",
       "</style>\n",
       "<table border=\"1\" class=\"dataframe\">\n",
       "  <thead>\n",
       "    <tr style=\"text-align: right;\">\n",
       "      <th></th>\n",
       "      <th>facility</th>\n",
       "      <th>cost_per_trainee</th>\n",
       "      <th>time_per_trainee</th>\n",
       "    </tr>\n",
       "  </thead>\n",
       "  <tbody>\n",
       "    <tr>\n",
       "      <th>0</th>\n",
       "      <td>new_york</td>\n",
       "      <td>17</td>\n",
       "      <td>95</td>\n",
       "    </tr>\n",
       "    <tr>\n",
       "      <th>1</th>\n",
       "      <td>california</td>\n",
       "      <td>15</td>\n",
       "      <td>90</td>\n",
       "    </tr>\n",
       "    <tr>\n",
       "      <th>2</th>\n",
       "      <td>oklahoma</td>\n",
       "      <td>5</td>\n",
       "      <td>10</td>\n",
       "    </tr>\n",
       "    <tr>\n",
       "      <th>3</th>\n",
       "      <td>wisconson</td>\n",
       "      <td>10</td>\n",
       "      <td>70</td>\n",
       "    </tr>\n",
       "    <tr>\n",
       "      <th>4</th>\n",
       "      <td>florida</td>\n",
       "      <td>5</td>\n",
       "      <td>25</td>\n",
       "    </tr>\n",
       "  </tbody>\n",
       "</table>\n",
       "</div>"
      ],
      "text/plain": [
       "     facility  cost_per_trainee  time_per_trainee\n",
       "0    new_york                17                95\n",
       "1  california                15                90\n",
       "2    oklahoma                 5                10\n",
       "3   wisconson                10                70\n",
       "4     florida                 5                25"
      ]
     },
     "execution_count": 10,
     "metadata": {},
     "output_type": "execute_result"
    }
   ],
   "source": [
    "df_bar.head()"
   ]
  },
  {
   "cell_type": "code",
   "execution_count": 11,
   "metadata": {},
   "outputs": [
    {
     "name": "stderr",
     "output_type": "stream",
     "text": [
      "C:\\Users\\zacha\\Anaconda3\\lib\\site-packages\\bokeh\\models\\sources.py:110: BokehUserWarning: ColumnDataSource's columns must be of the same length. Current lengths: ('fill_color', 6), ('top', 5), ('x', 5)\n",
      "  \"Current lengths: %s\" % \", \".join(sorted(str((k, len(v))) for k, v in data.items())), BokehUserWarning))\n",
      "C:\\Users\\zacha\\Anaconda3\\lib\\site-packages\\bokeh\\models\\sources.py:110: BokehUserWarning: ColumnDataSource's columns must be of the same length. Current lengths: ('fill_color', 6), ('line_color', 6), ('top', 5), ('x', 5)\n",
      "  \"Current lengths: %s\" % \", \".join(sorted(str((k, len(v))) for k, v in data.items())), BokehUserWarning))\n"
     ]
    },
    {
     "data": {
      "text/html": [
       "\n",
       "<div class=\"bk-root\">\n",
       "    <div class=\"bk-plotdiv\" id=\"02e486ba-ce9d-40a3-ab3e-9a3440a240ce\"></div>\n",
       "</div>"
      ]
     },
     "metadata": {},
     "output_type": "display_data"
    },
    {
     "data": {
      "application/javascript": [
       "(function(root) {\n",
       "  function embed_document(root) {\n",
       "    \n",
       "  var docs_json = {\"9ce8c607-a901-492e-b94c-50a91b543b97\":{\"roots\":{\"references\":[{\"attributes\":{\"fill_color\":{\"field\":\"fill_color\"},\"line_color\":{\"field\":\"line_color\"},\"top\":{\"field\":\"top\"},\"width\":{\"value\":0.9},\"x\":{\"field\":\"x\"}},\"id\":\"6341f376-abac-45f2-8dda-4639e42ae93f\",\"type\":\"VBar\"},{\"attributes\":{},\"id\":\"f5073738-fdf2-42bf-b91f-a23894b2e908\",\"type\":\"UnionRenderers\"},{\"attributes\":{\"fill_alpha\":{\"value\":0.1},\"fill_color\":{\"value\":\"#1f77b4\"},\"line_alpha\":{\"value\":0.1},\"line_color\":{\"value\":\"#1f77b4\"},\"top\":{\"field\":\"top\"},\"width\":{\"value\":0.9},\"x\":{\"field\":\"x\"}},\"id\":\"7f2a5d19-7406-46c9-b06f-7ca1b619c517\",\"type\":\"VBar\"},{\"attributes\":{\"callback\":null,\"start\":0},\"id\":\"812ec652-62b2-4751-ab33-c193d1f1c8e7\",\"type\":\"DataRange1d\"},{\"attributes\":{\"callback\":null,\"data\":{\"fill_color\":[\"#3288bd\",\"#99d594\",\"#e6f598\",\"#fee08b\",\"#fc8d59\",\"#d53e4f\"],\"line_color\":[\"#3288bd\",\"#99d594\",\"#e6f598\",\"#fee08b\",\"#fc8d59\",\"#d53e4f\"],\"top\":[17,15,5,10,5],\"x\":[\"new_york\",\"california\",\"oklahoma\",\"wisconson\",\"florida\"]},\"selected\":{\"id\":\"e584a4ab-ba9e-4d52-9618-2178da03e698\",\"type\":\"Selection\"},\"selection_policy\":{\"id\":\"f5073738-fdf2-42bf-b91f-a23894b2e908\",\"type\":\"UnionRenderers\"}},\"id\":\"6ca73543-0cf0-4970-ad48-4182fe5afd2e\",\"type\":\"ColumnDataSource\"},{\"attributes\":{\"grid_line_color\":{\"value\":null},\"plot\":{\"id\":\"73199dfd-e87a-4dec-971d-e8c38d85ebd3\",\"subtype\":\"Figure\",\"type\":\"Plot\"},\"ticker\":{\"id\":\"7ea5b0ec-27c1-4949-904e-a88e3967cb7a\",\"type\":\"CategoricalTicker\"}},\"id\":\"d8f67c22-b06c-4a1d-b39e-0cec00605545\",\"type\":\"Grid\"},{\"attributes\":{\"dimension\":1,\"plot\":{\"id\":\"73199dfd-e87a-4dec-971d-e8c38d85ebd3\",\"subtype\":\"Figure\",\"type\":\"Plot\"},\"ticker\":{\"id\":\"c0a6c7be-4738-455a-9688-cc9a68578527\",\"type\":\"BasicTicker\"}},\"id\":\"98628c68-737d-4910-91bd-003e285eb3ac\",\"type\":\"Grid\"},{\"attributes\":{},\"id\":\"e7c07584-2e2b-465b-aa29-d473658d1eeb\",\"type\":\"BasicTickFormatter\"},{\"attributes\":{},\"id\":\"c0a6c7be-4738-455a-9688-cc9a68578527\",\"type\":\"BasicTicker\"},{\"attributes\":{},\"id\":\"fb2eb3bc-229e-4f1f-b73a-04e1dcdcc223\",\"type\":\"CategoricalTickFormatter\"},{\"attributes\":{\"source\":{\"id\":\"6ca73543-0cf0-4970-ad48-4182fe5afd2e\",\"type\":\"ColumnDataSource\"}},\"id\":\"fd630eb8-d007-44c0-864a-fba810f711de\",\"type\":\"CDSView\"},{\"attributes\":{\"data_source\":{\"id\":\"6ca73543-0cf0-4970-ad48-4182fe5afd2e\",\"type\":\"ColumnDataSource\"},\"glyph\":{\"id\":\"6341f376-abac-45f2-8dda-4639e42ae93f\",\"type\":\"VBar\"},\"hover_glyph\":null,\"muted_glyph\":null,\"nonselection_glyph\":{\"id\":\"7f2a5d19-7406-46c9-b06f-7ca1b619c517\",\"type\":\"VBar\"},\"selection_glyph\":null,\"view\":{\"id\":\"fd630eb8-d007-44c0-864a-fba810f711de\",\"type\":\"CDSView\"}},\"id\":\"9f8c7e54-74ce-4b07-8fb8-4e2f17d55ba5\",\"type\":\"GlyphRenderer\"},{\"attributes\":{\"plot\":null,\"text\":\"Costs\"},\"id\":\"d61c793e-0cad-40f5-a2a3-91d880e3d870\",\"type\":\"Title\"},{\"attributes\":{},\"id\":\"e584a4ab-ba9e-4d52-9618-2178da03e698\",\"type\":\"Selection\"},{\"attributes\":{},\"id\":\"7ea5b0ec-27c1-4949-904e-a88e3967cb7a\",\"type\":\"CategoricalTicker\"},{\"attributes\":{\"callback\":null,\"factors\":[\"new_york\",\"california\",\"oklahoma\",\"wisconson\",\"florida\"]},\"id\":\"e522abaf-397f-4b88-80b5-2b896b379673\",\"type\":\"FactorRange\"},{\"attributes\":{\"below\":[{\"id\":\"35dd68a5-9d39-4f44-bad9-6800e4defd03\",\"type\":\"CategoricalAxis\"}],\"left\":[{\"id\":\"069006e1-31b1-4a9c-956f-46eccc2685c0\",\"type\":\"LinearAxis\"}],\"plot_height\":250,\"renderers\":[{\"id\":\"35dd68a5-9d39-4f44-bad9-6800e4defd03\",\"type\":\"CategoricalAxis\"},{\"id\":\"d8f67c22-b06c-4a1d-b39e-0cec00605545\",\"type\":\"Grid\"},{\"id\":\"069006e1-31b1-4a9c-956f-46eccc2685c0\",\"type\":\"LinearAxis\"},{\"id\":\"98628c68-737d-4910-91bd-003e285eb3ac\",\"type\":\"Grid\"},{\"id\":\"9f8c7e54-74ce-4b07-8fb8-4e2f17d55ba5\",\"type\":\"GlyphRenderer\"}],\"title\":{\"id\":\"d61c793e-0cad-40f5-a2a3-91d880e3d870\",\"type\":\"Title\"},\"toolbar\":{\"id\":\"135fcefe-b58a-4d8a-a8b5-5c049f5a559e\",\"type\":\"Toolbar\"},\"toolbar_location\":null,\"x_range\":{\"id\":\"e522abaf-397f-4b88-80b5-2b896b379673\",\"type\":\"FactorRange\"},\"x_scale\":{\"id\":\"0f2fb825-8807-4c33-9796-b6b09b2ebdca\",\"type\":\"CategoricalScale\"},\"y_range\":{\"id\":\"812ec652-62b2-4751-ab33-c193d1f1c8e7\",\"type\":\"DataRange1d\"},\"y_scale\":{\"id\":\"1b4bba4e-31a7-45c4-9582-076643ef0113\",\"type\":\"LinearScale\"}},\"id\":\"73199dfd-e87a-4dec-971d-e8c38d85ebd3\",\"subtype\":\"Figure\",\"type\":\"Plot\"},{\"attributes\":{\"formatter\":{\"id\":\"fb2eb3bc-229e-4f1f-b73a-04e1dcdcc223\",\"type\":\"CategoricalTickFormatter\"},\"plot\":{\"id\":\"73199dfd-e87a-4dec-971d-e8c38d85ebd3\",\"subtype\":\"Figure\",\"type\":\"Plot\"},\"ticker\":{\"id\":\"7ea5b0ec-27c1-4949-904e-a88e3967cb7a\",\"type\":\"CategoricalTicker\"}},\"id\":\"35dd68a5-9d39-4f44-bad9-6800e4defd03\",\"type\":\"CategoricalAxis\"},{\"attributes\":{},\"id\":\"1b4bba4e-31a7-45c4-9582-076643ef0113\",\"type\":\"LinearScale\"},{\"attributes\":{},\"id\":\"0f2fb825-8807-4c33-9796-b6b09b2ebdca\",\"type\":\"CategoricalScale\"},{\"attributes\":{\"formatter\":{\"id\":\"e7c07584-2e2b-465b-aa29-d473658d1eeb\",\"type\":\"BasicTickFormatter\"},\"plot\":{\"id\":\"73199dfd-e87a-4dec-971d-e8c38d85ebd3\",\"subtype\":\"Figure\",\"type\":\"Plot\"},\"ticker\":{\"id\":\"c0a6c7be-4738-455a-9688-cc9a68578527\",\"type\":\"BasicTicker\"}},\"id\":\"069006e1-31b1-4a9c-956f-46eccc2685c0\",\"type\":\"LinearAxis\"},{\"attributes\":{\"active_drag\":\"auto\",\"active_inspect\":\"auto\",\"active_scroll\":\"auto\",\"active_tap\":\"auto\"},\"id\":\"135fcefe-b58a-4d8a-a8b5-5c049f5a559e\",\"type\":\"Toolbar\"}],\"root_ids\":[\"73199dfd-e87a-4dec-971d-e8c38d85ebd3\"]},\"title\":\"Bokeh Application\",\"version\":\"0.12.16\"}};\n",
       "  var render_items = [{\"docid\":\"9ce8c607-a901-492e-b94c-50a91b543b97\",\"elementid\":\"02e486ba-ce9d-40a3-ab3e-9a3440a240ce\",\"modelid\":\"73199dfd-e87a-4dec-971d-e8c38d85ebd3\"}];\n",
       "  root.Bokeh.embed.embed_items_notebook(docs_json, render_items);\n",
       "\n",
       "  }\n",
       "  if (root.Bokeh !== undefined) {\n",
       "    embed_document(root);\n",
       "  } else {\n",
       "    var attempts = 0;\n",
       "    var timer = setInterval(function(root) {\n",
       "      if (root.Bokeh !== undefined) {\n",
       "        embed_document(root);\n",
       "        clearInterval(timer);\n",
       "      }\n",
       "      attempts++;\n",
       "      if (attempts > 100) {\n",
       "        console.log(\"Bokeh: ERROR: Unable to run BokehJS code because BokehJS library is missing\")\n",
       "        clearInterval(timer);\n",
       "      }\n",
       "    }, 10, root)\n",
       "  }\n",
       "})(window);"
      ],
      "application/vnd.bokehjs_exec.v0+json": ""
     },
     "metadata": {
      "application/vnd.bokehjs_exec.v0+json": {
       "id": "73199dfd-e87a-4dec-971d-e8c38d85ebd3"
      }
     },
     "output_type": "display_data"
    }
   ],
   "source": [
    "p = figure(x_range= list(df_bar['facility']), plot_height=250, title=\"Costs\",\n",
    "           toolbar_location=None, tools=\"\")\n",
    "\n",
    "p.vbar(x=df_bar['facility'], top=df_bar['cost_per_trainee'], width=0.9, color=Spectral6)\n",
    "\n",
    "p.xgrid.grid_line_color = None\n",
    "p.y_range.start = 0\n",
    "\n",
    "show(p)"
   ]
  },
  {
   "cell_type": "code",
   "execution_count": 12,
   "metadata": {},
   "outputs": [
    {
     "data": {
      "text/html": [
       "\n",
       "<div class=\"bk-root\">\n",
       "    <div class=\"bk-plotdiv\" id=\"7f46d4b6-4224-43db-b9f3-9a437aa511ae\"></div>\n",
       "</div>"
      ]
     },
     "metadata": {},
     "output_type": "display_data"
    },
    {
     "data": {
      "application/javascript": [
       "(function(root) {\n",
       "  function embed_document(root) {\n",
       "    \n",
       "  var docs_json = {\"5a008d69-74e4-4203-b093-7dbf7f939248\":{\"roots\":{\"references\":[{\"attributes\":{},\"id\":\"bc67ff75-d14c-4d26-8f03-9f7d118f251c\",\"type\":\"LinearScale\"},{\"attributes\":{\"grid_line_color\":{\"value\":null},\"plot\":{\"id\":\"ab967789-a911-495f-9585-2af994a4b6ba\",\"subtype\":\"Figure\",\"type\":\"Plot\"},\"ticker\":{\"id\":\"c2dbbbf8-84fd-41bd-8b2d-136077c0ce10\",\"type\":\"CategoricalTicker\"}},\"id\":\"b5b168bc-caa6-402b-8ea3-3da6a54b4b04\",\"type\":\"Grid\"},{\"attributes\":{\"formatter\":{\"id\":\"36b30546-6ba0-464b-a324-43e1bb2da970\",\"type\":\"CategoricalTickFormatter\"},\"plot\":{\"id\":\"ab967789-a911-495f-9585-2af994a4b6ba\",\"subtype\":\"Figure\",\"type\":\"Plot\"},\"ticker\":{\"id\":\"c2dbbbf8-84fd-41bd-8b2d-136077c0ce10\",\"type\":\"CategoricalTicker\"}},\"id\":\"38913a8d-e6ec-4b01-8e9c-bb6595c488e7\",\"type\":\"CategoricalAxis\"},{\"attributes\":{},\"id\":\"c2dbbbf8-84fd-41bd-8b2d-136077c0ce10\",\"type\":\"CategoricalTicker\"},{\"attributes\":{},\"id\":\"f2246c1d-fd4d-47cc-a75c-f9623d9bc07c\",\"type\":\"BasicTicker\"},{\"attributes\":{\"dimension\":1,\"plot\":{\"id\":\"ab967789-a911-495f-9585-2af994a4b6ba\",\"subtype\":\"Figure\",\"type\":\"Plot\"},\"ticker\":{\"id\":\"f2246c1d-fd4d-47cc-a75c-f9623d9bc07c\",\"type\":\"BasicTicker\"}},\"id\":\"b979ed7d-b776-47f2-819b-e03b60a333fd\",\"type\":\"Grid\"},{\"attributes\":{},\"id\":\"42e2facf-8ea0-4840-bd32-5592005003da\",\"type\":\"BasicTickFormatter\"},{\"attributes\":{\"below\":[{\"id\":\"38913a8d-e6ec-4b01-8e9c-bb6595c488e7\",\"type\":\"CategoricalAxis\"}],\"extra_y_ranges\":{\"foo\":{\"id\":\"54f4fac0-0643-4bf6-9f4e-02e72680febe\",\"type\":\"Range1d\"}},\"left\":[{\"id\":\"23368a06-ccf2-4116-8ab9-e992e0eab846\",\"type\":\"LinearAxis\"}],\"plot_height\":250,\"renderers\":[{\"id\":\"38913a8d-e6ec-4b01-8e9c-bb6595c488e7\",\"type\":\"CategoricalAxis\"},{\"id\":\"b5b168bc-caa6-402b-8ea3-3da6a54b4b04\",\"type\":\"Grid\"},{\"id\":\"23368a06-ccf2-4116-8ab9-e992e0eab846\",\"type\":\"LinearAxis\"},{\"id\":\"b979ed7d-b776-47f2-819b-e03b60a333fd\",\"type\":\"Grid\"},{\"id\":\"34bf3f55-01c4-4cb6-8c3a-68333a360fb6\",\"type\":\"Legend\"},{\"id\":\"fb0f81ca-9cbf-4770-b1f6-8f80b9ae8a37\",\"type\":\"GlyphRenderer\"},{\"id\":\"2f9dd21b-e19c-48fe-a0d0-b0fe7ec15969\",\"type\":\"LinearAxis\"},{\"id\":\"95f55807-befa-4a5b-aed9-0ba9a09a1b8e\",\"type\":\"GlyphRenderer\"}],\"right\":[{\"id\":\"2f9dd21b-e19c-48fe-a0d0-b0fe7ec15969\",\"type\":\"LinearAxis\"}],\"title\":{\"id\":\"4161f68f-440e-4979-b27a-85751f36740a\",\"type\":\"Title\"},\"toolbar\":{\"id\":\"a56a2986-7590-45ff-8ff0-d88fefe875c9\",\"type\":\"Toolbar\"},\"toolbar_location\":null,\"x_range\":{\"id\":\"fb99e0f0-0ada-4b9e-b527-4b254ffe346a\",\"type\":\"FactorRange\"},\"x_scale\":{\"id\":\"5556b1bb-1834-449c-886d-4997ee94ba71\",\"type\":\"CategoricalScale\"},\"y_range\":{\"id\":\"58441150-b85f-46e7-bca3-c930eb4e8a94\",\"type\":\"Range1d\"},\"y_scale\":{\"id\":\"bc67ff75-d14c-4d26-8f03-9f7d118f251c\",\"type\":\"LinearScale\"}},\"id\":\"ab967789-a911-495f-9585-2af994a4b6ba\",\"subtype\":\"Figure\",\"type\":\"Plot\"},{\"attributes\":{\"fill_color\":{\"value\":\"#1f77b4\"},\"line_color\":{\"value\":\"#1f77b4\"},\"top\":{\"field\":\"cost\"},\"width\":{\"value\":0.2},\"x\":{\"field\":\"facility\",\"transform\":{\"id\":\"c2c40823-9252-49b7-9a40-c8647cea9e65\",\"type\":\"Dodge\"}}},\"id\":\"8d0dc279-f5ea-4c28-b840-3a5f1c34fbce\",\"type\":\"VBar\"},{\"attributes\":{\"fill_alpha\":{\"value\":0.1},\"fill_color\":{\"value\":\"#1f77b4\"},\"line_alpha\":{\"value\":0.1},\"line_color\":{\"value\":\"#1f77b4\"},\"top\":{\"field\":\"cost\"},\"width\":{\"value\":0.2},\"x\":{\"field\":\"facility\",\"transform\":{\"id\":\"c2c40823-9252-49b7-9a40-c8647cea9e65\",\"type\":\"Dodge\"}}},\"id\":\"9ad08d8c-283b-480a-925a-b34beeb5b7f7\",\"type\":\"VBar\"},{\"attributes\":{\"callback\":null,\"end\":95},\"id\":\"54f4fac0-0643-4bf6-9f4e-02e72680febe\",\"type\":\"Range1d\"},{\"attributes\":{\"data_source\":{\"id\":\"d0f5b000-4b2b-4228-8d14-c7d86482f49b\",\"type\":\"ColumnDataSource\"},\"glyph\":{\"id\":\"8d0dc279-f5ea-4c28-b840-3a5f1c34fbce\",\"type\":\"VBar\"},\"hover_glyph\":null,\"muted_glyph\":null,\"nonselection_glyph\":{\"id\":\"9ad08d8c-283b-480a-925a-b34beeb5b7f7\",\"type\":\"VBar\"},\"selection_glyph\":null,\"view\":{\"id\":\"01ac54cc-1e38-4e8f-8850-7645775b23bb\",\"type\":\"CDSView\"}},\"id\":\"fb0f81ca-9cbf-4770-b1f6-8f80b9ae8a37\",\"type\":\"GlyphRenderer\"},{\"attributes\":{\"label\":{\"value\":\"cost\"},\"renderers\":[{\"id\":\"fb0f81ca-9cbf-4770-b1f6-8f80b9ae8a37\",\"type\":\"GlyphRenderer\"}]},\"id\":\"0811c2d5-9c06-4710-bdd9-ccce0b0818f8\",\"type\":\"LegendItem\"},{\"attributes\":{\"source\":{\"id\":\"d0f5b000-4b2b-4228-8d14-c7d86482f49b\",\"type\":\"ColumnDataSource\"}},\"id\":\"01ac54cc-1e38-4e8f-8850-7645775b23bb\",\"type\":\"CDSView\"},{\"attributes\":{},\"id\":\"36b30546-6ba0-464b-a324-43e1bb2da970\",\"type\":\"CategoricalTickFormatter\"},{\"attributes\":{\"items\":[{\"id\":\"0811c2d5-9c06-4710-bdd9-ccce0b0818f8\",\"type\":\"LegendItem\"},{\"id\":\"5d803abb-95ec-45fa-91f1-b1095a6bb18d\",\"type\":\"LegendItem\"}],\"plot\":{\"id\":\"ab967789-a911-495f-9585-2af994a4b6ba\",\"subtype\":\"Figure\",\"type\":\"Plot\"}},\"id\":\"34bf3f55-01c4-4cb6-8c3a-68333a360fb6\",\"type\":\"Legend\"},{\"attributes\":{},\"id\":\"0989a0e6-3d9a-4155-b0ed-ff8fb168117d\",\"type\":\"UnionRenderers\"},{\"attributes\":{\"formatter\":{\"id\":\"f24f4eb9-3b7e-4a9a-b679-888e9690f40e\",\"type\":\"BasicTickFormatter\"},\"plot\":{\"id\":\"ab967789-a911-495f-9585-2af994a4b6ba\",\"subtype\":\"Figure\",\"type\":\"Plot\"},\"ticker\":{\"id\":\"29206f11-2b22-4108-87ec-004d2381988d\",\"type\":\"BasicTicker\"},\"y_range_name\":\"foo\"},\"id\":\"2f9dd21b-e19c-48fe-a0d0-b0fe7ec15969\",\"type\":\"LinearAxis\"},{\"attributes\":{\"range\":{\"id\":\"fb99e0f0-0ada-4b9e-b527-4b254ffe346a\",\"type\":\"FactorRange\"},\"value\":0.1},\"id\":\"7b2c8cea-d877-4509-b492-0e4b2a8ed105\",\"type\":\"Dodge\"},{\"attributes\":{\"fill_color\":{\"value\":\"red\"},\"line_color\":{\"value\":\"red\"},\"top\":{\"field\":\"time\"},\"width\":{\"value\":0.2},\"x\":{\"field\":\"facility\",\"transform\":{\"id\":\"7b2c8cea-d877-4509-b492-0e4b2a8ed105\",\"type\":\"Dodge\"}}},\"id\":\"9339edc9-3102-4756-a6f2-de9843225ddd\",\"type\":\"VBar\"},{\"attributes\":{\"fill_alpha\":{\"value\":0.1},\"fill_color\":{\"value\":\"#1f77b4\"},\"line_alpha\":{\"value\":0.1},\"line_color\":{\"value\":\"#1f77b4\"},\"top\":{\"field\":\"time\"},\"width\":{\"value\":0.2},\"x\":{\"field\":\"facility\",\"transform\":{\"id\":\"7b2c8cea-d877-4509-b492-0e4b2a8ed105\",\"type\":\"Dodge\"}}},\"id\":\"d7a3db83-e766-4df7-a312-d49561c86d1c\",\"type\":\"VBar\"},{\"attributes\":{},\"id\":\"0c8059eb-dd44-4fa4-ab3a-686840526fc8\",\"type\":\"Selection\"},{\"attributes\":{\"callback\":null,\"data\":{\"cost\":[17,15,5,10,5],\"facility\":[\"new_york\",\"california\",\"oklahoma\",\"wisconson\",\"florida\"],\"time\":[95,90,10,70,25]},\"selected\":{\"id\":\"0c8059eb-dd44-4fa4-ab3a-686840526fc8\",\"type\":\"Selection\"},\"selection_policy\":{\"id\":\"0989a0e6-3d9a-4155-b0ed-ff8fb168117d\",\"type\":\"UnionRenderers\"}},\"id\":\"d0f5b000-4b2b-4228-8d14-c7d86482f49b\",\"type\":\"ColumnDataSource\"},{\"attributes\":{\"data_source\":{\"id\":\"d0f5b000-4b2b-4228-8d14-c7d86482f49b\",\"type\":\"ColumnDataSource\"},\"glyph\":{\"id\":\"9339edc9-3102-4756-a6f2-de9843225ddd\",\"type\":\"VBar\"},\"hover_glyph\":null,\"muted_glyph\":null,\"nonselection_glyph\":{\"id\":\"d7a3db83-e766-4df7-a312-d49561c86d1c\",\"type\":\"VBar\"},\"selection_glyph\":null,\"view\":{\"id\":\"26a077e3-ca03-4613-8d5c-4102eb54ff70\",\"type\":\"CDSView\"},\"y_range_name\":\"foo\"},\"id\":\"95f55807-befa-4a5b-aed9-0ba9a09a1b8e\",\"type\":\"GlyphRenderer\"},{\"attributes\":{\"callback\":null,\"end\":17},\"id\":\"58441150-b85f-46e7-bca3-c930eb4e8a94\",\"type\":\"Range1d\"},{\"attributes\":{},\"id\":\"29206f11-2b22-4108-87ec-004d2381988d\",\"type\":\"BasicTicker\"},{\"attributes\":{\"range\":{\"id\":\"fb99e0f0-0ada-4b9e-b527-4b254ffe346a\",\"type\":\"FactorRange\"},\"value\":-0.1},\"id\":\"c2c40823-9252-49b7-9a40-c8647cea9e65\",\"type\":\"Dodge\"},{\"attributes\":{\"source\":{\"id\":\"d0f5b000-4b2b-4228-8d14-c7d86482f49b\",\"type\":\"ColumnDataSource\"}},\"id\":\"26a077e3-ca03-4613-8d5c-4102eb54ff70\",\"type\":\"CDSView\"},{\"attributes\":{\"plot\":null,\"text\":\"Costs\"},\"id\":\"4161f68f-440e-4979-b27a-85751f36740a\",\"type\":\"Title\"},{\"attributes\":{},\"id\":\"f24f4eb9-3b7e-4a9a-b679-888e9690f40e\",\"type\":\"BasicTickFormatter\"},{\"attributes\":{\"callback\":null,\"factors\":[\"new_york\",\"california\",\"oklahoma\",\"wisconson\",\"florida\"]},\"id\":\"fb99e0f0-0ada-4b9e-b527-4b254ffe346a\",\"type\":\"FactorRange\"},{\"attributes\":{\"active_drag\":\"auto\",\"active_inspect\":\"auto\",\"active_scroll\":\"auto\",\"active_tap\":\"auto\"},\"id\":\"a56a2986-7590-45ff-8ff0-d88fefe875c9\",\"type\":\"Toolbar\"},{\"attributes\":{\"label\":{\"value\":\"time\"},\"renderers\":[{\"id\":\"95f55807-befa-4a5b-aed9-0ba9a09a1b8e\",\"type\":\"GlyphRenderer\"}]},\"id\":\"5d803abb-95ec-45fa-91f1-b1095a6bb18d\",\"type\":\"LegendItem\"},{\"attributes\":{\"formatter\":{\"id\":\"42e2facf-8ea0-4840-bd32-5592005003da\",\"type\":\"BasicTickFormatter\"},\"plot\":{\"id\":\"ab967789-a911-495f-9585-2af994a4b6ba\",\"subtype\":\"Figure\",\"type\":\"Plot\"},\"ticker\":{\"id\":\"f2246c1d-fd4d-47cc-a75c-f9623d9bc07c\",\"type\":\"BasicTicker\"}},\"id\":\"23368a06-ccf2-4116-8ab9-e992e0eab846\",\"type\":\"LinearAxis\"},{\"attributes\":{},\"id\":\"5556b1bb-1834-449c-886d-4997ee94ba71\",\"type\":\"CategoricalScale\"}],\"root_ids\":[\"ab967789-a911-495f-9585-2af994a4b6ba\"]},\"title\":\"Bokeh Application\",\"version\":\"0.12.16\"}};\n",
       "  var render_items = [{\"docid\":\"5a008d69-74e4-4203-b093-7dbf7f939248\",\"elementid\":\"7f46d4b6-4224-43db-b9f3-9a437aa511ae\",\"modelid\":\"ab967789-a911-495f-9585-2af994a4b6ba\"}];\n",
       "  root.Bokeh.embed.embed_items_notebook(docs_json, render_items);\n",
       "\n",
       "  }\n",
       "  if (root.Bokeh !== undefined) {\n",
       "    embed_document(root);\n",
       "  } else {\n",
       "    var attempts = 0;\n",
       "    var timer = setInterval(function(root) {\n",
       "      if (root.Bokeh !== undefined) {\n",
       "        embed_document(root);\n",
       "        clearInterval(timer);\n",
       "      }\n",
       "      attempts++;\n",
       "      if (attempts > 100) {\n",
       "        console.log(\"Bokeh: ERROR: Unable to run BokehJS code because BokehJS library is missing\")\n",
       "        clearInterval(timer);\n",
       "      }\n",
       "    }, 10, root)\n",
       "  }\n",
       "})(window);"
      ],
      "application/vnd.bokehjs_exec.v0+json": ""
     },
     "metadata": {
      "application/vnd.bokehjs_exec.v0+json": {
       "id": "ab967789-a911-495f-9585-2af994a4b6ba"
      }
     },
     "output_type": "display_data"
    }
   ],
   "source": [
    "source = ColumnDataSource(data=dict(\n",
    "    facility = df_bar['facility'],\n",
    "    cost = df_bar['cost_per_trainee'],\n",
    "    time = df_bar['time_per_trainee']\n",
    "))\n",
    "\n",
    "p = figure(x_range= list(df_bar['facility']), plot_height=250, title=\"Costs\",\n",
    "           toolbar_location=None, tools=\"\")\n",
    "\n",
    "p.vbar(x=dodge('facility', -0.1, range=p.x_range), top='cost', width=0.2, source=source, legend=value(\"cost\"))\n",
    "\n",
    "p.y_range = Range1d(0, max(df_bar['cost_per_trainee']))\n",
    "\n",
    "p.extra_y_ranges = {\"foo\": Range1d(start=0, end=max(df_bar['time_per_trainee']))}\n",
    "p.add_layout(LinearAxis(y_range_name=\"foo\"), 'right')\n",
    "\n",
    "p.vbar(x=dodge('facility', 0.1, range=p.x_range), top='time', width=.2, y_range_name='foo', source=source, color='red', legend=value('time'))\n",
    "#p.circle(x=df_bar['facility'], y=df_bar['time_per_trainee'], y_range_name='foo')\n",
    "\n",
    "p.x_range.range_padding = 0.0\n",
    "p.xgrid.grid_line_color = None\n",
    "p.xgrid.grid_line_color = None\n",
    "p.y_range.start = 0\n",
    "\n",
    "show(p)"
   ]
  },
  {
   "cell_type": "code",
   "execution_count": 26,
   "metadata": {},
   "outputs": [
    {
     "data": {
      "text/html": [
       "\n",
       "<div class=\"bk-root\">\n",
       "    <div class=\"bk-plotdiv\" id=\"55a459d8-7081-4baa-9c58-eed2764524bb\"></div>\n",
       "</div>"
      ]
     },
     "metadata": {},
     "output_type": "display_data"
    },
    {
     "data": {
      "application/javascript": [
       "(function(root) {\n",
       "  function embed_document(root) {\n",
       "    \n",
       "  var docs_json = {\"9c5b88e5-d569-4a63-bdd1-bb7ecb5cff3e\":{\"roots\":{\"references\":[{\"attributes\":{\"label\":{\"value\":\"time\"},\"renderers\":[{\"id\":\"cbb9a696-fe56-48f5-9777-af5b9fd199f0\",\"type\":\"GlyphRenderer\"}]},\"id\":\"a1a7f3ab-b1bc-4eed-9f9f-6ebb4b9e1f05\",\"type\":\"LegendItem\"},{\"attributes\":{\"callback\":null,\"data\":{\"cost\":[20,10,8,11,25],\"facility\":[\"new_york\",\"california\",\"oklahoma\",\"wisconson\",\"florida\"],\"time\":[50,70,30,60,45]},\"selected\":{\"id\":\"eeb1ac95-8cfc-431e-8b5a-12302056690a\",\"type\":\"Selection\"},\"selection_policy\":{\"id\":\"11ca9b83-ca3f-4161-9dfb-5ee154ec4e08\",\"type\":\"UnionRenderers\"}},\"id\":\"02a02f5f-cc8b-4452-ae44-e06c3e92549d\",\"type\":\"ColumnDataSource\"},{\"attributes\":{\"callback\":null,\"end\":17},\"id\":\"d49638cc-c7cf-4951-bbb6-be7339bbed1d\",\"type\":\"Range1d\"},{\"attributes\":{\"range\":{\"id\":\"bf8e4c37-fb4d-4d31-89ea-ec3ef9dfe5ab\",\"type\":\"FactorRange\"},\"value\":-0.1},\"id\":\"31f25a78-ebb6-46d6-b9c1-3b0ed0285595\",\"type\":\"Dodge\"},{\"attributes\":{\"plot\":null,\"text\":\"Costs\"},\"id\":\"334efb3b-403b-41b6-8c83-3afe2cdfc282\",\"type\":\"Title\"},{\"attributes\":{\"items\":[{\"id\":\"37a1d48d-9a36-4868-9d11-1ac5e3e23e0f\",\"type\":\"LegendItem\"},{\"id\":\"a1a7f3ab-b1bc-4eed-9f9f-6ebb4b9e1f05\",\"type\":\"LegendItem\"}],\"plot\":{\"id\":\"5f8aadff-ba15-45a8-9d86-63691d5de8f3\",\"subtype\":\"Figure\",\"type\":\"Plot\"}},\"id\":\"09b88674-2c1e-4cd1-b7d3-e6fd0c061f13\",\"type\":\"Legend\"},{\"attributes\":{\"callback\":null,\"factors\":[\"new_york\",\"california\",\"oklahoma\",\"wisconson\",\"florida\"]},\"id\":\"bf8e4c37-fb4d-4d31-89ea-ec3ef9dfe5ab\",\"type\":\"FactorRange\"},{\"attributes\":{\"active_drag\":\"auto\",\"active_inspect\":\"auto\",\"active_scroll\":\"auto\",\"active_tap\":\"auto\"},\"id\":\"e54e7ee4-3f80-457d-b228-d2b66e3d7a1b\",\"type\":\"Toolbar\"},{\"attributes\":{\"formatter\":{\"id\":\"e85e2621-b464-47f4-bf81-fa41271c1523\",\"type\":\"BasicTickFormatter\"},\"plot\":{\"id\":\"5f8aadff-ba15-45a8-9d86-63691d5de8f3\",\"subtype\":\"Figure\",\"type\":\"Plot\"},\"ticker\":{\"id\":\"492ba1fd-ac06-4b24-8d75-7677ec25d5f1\",\"type\":\"BasicTicker\"}},\"id\":\"1dc88f9e-9bd0-4841-9bcb-ccc13a528593\",\"type\":\"LinearAxis\"},{\"attributes\":{},\"id\":\"7091cf79-88f8-436e-aa02-1e7ac6c468fb\",\"type\":\"CategoricalScale\"},{\"attributes\":{},\"id\":\"8b05f484-c476-4d96-b35a-6e72184f69c0\",\"type\":\"LinearScale\"},{\"attributes\":{\"callback\":null,\"end\":95},\"id\":\"1853ac4d-c487-4ec8-9a00-f82c7d2a2ff4\",\"type\":\"Range1d\"},{\"attributes\":{\"grid_line_color\":{\"value\":null},\"plot\":{\"id\":\"5f8aadff-ba15-45a8-9d86-63691d5de8f3\",\"subtype\":\"Figure\",\"type\":\"Plot\"},\"ticker\":{\"id\":\"750decec-4e03-4269-bfde-f504fc823bee\",\"type\":\"CategoricalTicker\"}},\"id\":\"476ae76b-0d80-4bcd-8e55-04accde72d0e\",\"type\":\"Grid\"},{\"attributes\":{\"formatter\":{\"id\":\"3640ca2c-a016-47ec-b35b-849571839284\",\"type\":\"CategoricalTickFormatter\"},\"plot\":{\"id\":\"5f8aadff-ba15-45a8-9d86-63691d5de8f3\",\"subtype\":\"Figure\",\"type\":\"Plot\"},\"ticker\":{\"id\":\"750decec-4e03-4269-bfde-f504fc823bee\",\"type\":\"CategoricalTicker\"}},\"id\":\"992cef6a-f170-42b3-9e6b-a42f6df8736f\",\"type\":\"CategoricalAxis\"},{\"attributes\":{},\"id\":\"750decec-4e03-4269-bfde-f504fc823bee\",\"type\":\"CategoricalTicker\"},{\"attributes\":{},\"id\":\"492ba1fd-ac06-4b24-8d75-7677ec25d5f1\",\"type\":\"BasicTicker\"},{\"attributes\":{\"dimension\":1,\"plot\":{\"id\":\"5f8aadff-ba15-45a8-9d86-63691d5de8f3\",\"subtype\":\"Figure\",\"type\":\"Plot\"},\"ticker\":{\"id\":\"492ba1fd-ac06-4b24-8d75-7677ec25d5f1\",\"type\":\"BasicTicker\"}},\"id\":\"29d122ed-7e8b-4346-95cc-56b6731ddcda\",\"type\":\"Grid\"},{\"attributes\":{},\"id\":\"e85e2621-b464-47f4-bf81-fa41271c1523\",\"type\":\"BasicTickFormatter\"},{\"attributes\":{\"fill_color\":{\"value\":\"#1f77b4\"},\"line_color\":{\"value\":\"#1f77b4\"},\"top\":{\"field\":\"cost\"},\"width\":{\"value\":0.2},\"x\":{\"field\":\"facility\",\"transform\":{\"id\":\"31f25a78-ebb6-46d6-b9c1-3b0ed0285595\",\"type\":\"Dodge\"}}},\"id\":\"560258f1-abdd-472c-a366-485bad7b491d\",\"type\":\"VBar\"},{\"attributes\":{\"fill_alpha\":{\"value\":0.1},\"fill_color\":{\"value\":\"#1f77b4\"},\"line_alpha\":{\"value\":0.1},\"line_color\":{\"value\":\"#1f77b4\"},\"top\":{\"field\":\"cost\"},\"width\":{\"value\":0.2},\"x\":{\"field\":\"facility\",\"transform\":{\"id\":\"31f25a78-ebb6-46d6-b9c1-3b0ed0285595\",\"type\":\"Dodge\"}}},\"id\":\"75a12ab6-e884-484d-a8c2-6c957f9c59ea\",\"type\":\"VBar\"},{\"attributes\":{\"range\":{\"id\":\"bf8e4c37-fb4d-4d31-89ea-ec3ef9dfe5ab\",\"type\":\"FactorRange\"},\"value\":0.1},\"id\":\"87ade8ea-1f05-42b1-8ce4-f73a24496c96\",\"type\":\"Dodge\"},{\"attributes\":{\"data_source\":{\"id\":\"02a02f5f-cc8b-4452-ae44-e06c3e92549d\",\"type\":\"ColumnDataSource\"},\"glyph\":{\"id\":\"560258f1-abdd-472c-a366-485bad7b491d\",\"type\":\"VBar\"},\"hover_glyph\":null,\"muted_glyph\":null,\"nonselection_glyph\":{\"id\":\"75a12ab6-e884-484d-a8c2-6c957f9c59ea\",\"type\":\"VBar\"},\"selection_glyph\":null,\"view\":{\"id\":\"680ea899-855d-4287-85f4-df2361a42fb0\",\"type\":\"CDSView\"}},\"id\":\"b6610663-27c7-4793-90d2-04fe0096f726\",\"type\":\"GlyphRenderer\"},{\"attributes\":{\"formatter\":{\"id\":\"36a6036f-ad69-41cd-8196-a7509b47bfa0\",\"type\":\"BasicTickFormatter\"},\"plot\":{\"id\":\"5f8aadff-ba15-45a8-9d86-63691d5de8f3\",\"subtype\":\"Figure\",\"type\":\"Plot\"},\"ticker\":{\"id\":\"ef1d41b3-835e-476d-a3fd-b7b55802a192\",\"type\":\"BasicTicker\"},\"y_range_name\":\"foo\"},\"id\":\"7e5c3fc7-3662-41f0-9d3c-37369a40b016\",\"type\":\"LinearAxis\"},{\"attributes\":{\"source\":{\"id\":\"02a02f5f-cc8b-4452-ae44-e06c3e92549d\",\"type\":\"ColumnDataSource\"}},\"id\":\"680ea899-855d-4287-85f4-df2361a42fb0\",\"type\":\"CDSView\"},{\"attributes\":{},\"id\":\"3640ca2c-a016-47ec-b35b-849571839284\",\"type\":\"CategoricalTickFormatter\"},{\"attributes\":{\"below\":[{\"id\":\"992cef6a-f170-42b3-9e6b-a42f6df8736f\",\"type\":\"CategoricalAxis\"}],\"extra_y_ranges\":{\"foo\":{\"id\":\"1853ac4d-c487-4ec8-9a00-f82c7d2a2ff4\",\"type\":\"Range1d\"}},\"left\":[{\"id\":\"1dc88f9e-9bd0-4841-9bcb-ccc13a528593\",\"type\":\"LinearAxis\"}],\"plot_height\":250,\"renderers\":[{\"id\":\"992cef6a-f170-42b3-9e6b-a42f6df8736f\",\"type\":\"CategoricalAxis\"},{\"id\":\"476ae76b-0d80-4bcd-8e55-04accde72d0e\",\"type\":\"Grid\"},{\"id\":\"1dc88f9e-9bd0-4841-9bcb-ccc13a528593\",\"type\":\"LinearAxis\"},{\"id\":\"29d122ed-7e8b-4346-95cc-56b6731ddcda\",\"type\":\"Grid\"},{\"id\":\"09b88674-2c1e-4cd1-b7d3-e6fd0c061f13\",\"type\":\"Legend\"},{\"id\":\"b6610663-27c7-4793-90d2-04fe0096f726\",\"type\":\"GlyphRenderer\"},{\"id\":\"7e5c3fc7-3662-41f0-9d3c-37369a40b016\",\"type\":\"LinearAxis\"},{\"id\":\"cbb9a696-fe56-48f5-9777-af5b9fd199f0\",\"type\":\"GlyphRenderer\"}],\"right\":[{\"id\":\"7e5c3fc7-3662-41f0-9d3c-37369a40b016\",\"type\":\"LinearAxis\"}],\"title\":{\"id\":\"334efb3b-403b-41b6-8c83-3afe2cdfc282\",\"type\":\"Title\"},\"toolbar\":{\"id\":\"e54e7ee4-3f80-457d-b228-d2b66e3d7a1b\",\"type\":\"Toolbar\"},\"toolbar_location\":null,\"x_range\":{\"id\":\"bf8e4c37-fb4d-4d31-89ea-ec3ef9dfe5ab\",\"type\":\"FactorRange\"},\"x_scale\":{\"id\":\"7091cf79-88f8-436e-aa02-1e7ac6c468fb\",\"type\":\"CategoricalScale\"},\"y_range\":{\"id\":\"d49638cc-c7cf-4951-bbb6-be7339bbed1d\",\"type\":\"Range1d\"},\"y_scale\":{\"id\":\"8b05f484-c476-4d96-b35a-6e72184f69c0\",\"type\":\"LinearScale\"}},\"id\":\"5f8aadff-ba15-45a8-9d86-63691d5de8f3\",\"subtype\":\"Figure\",\"type\":\"Plot\"},{\"attributes\":{},\"id\":\"11ca9b83-ca3f-4161-9dfb-5ee154ec4e08\",\"type\":\"UnionRenderers\"},{\"attributes\":{\"fill_color\":{\"value\":\"red\"},\"line_color\":{\"value\":\"red\"},\"top\":{\"field\":\"time\"},\"width\":{\"value\":0.2},\"x\":{\"field\":\"facility\",\"transform\":{\"id\":\"87ade8ea-1f05-42b1-8ce4-f73a24496c96\",\"type\":\"Dodge\"}}},\"id\":\"be68b1fd-64e3-4ddc-8f3c-8bbe821f2556\",\"type\":\"VBar\"},{\"attributes\":{\"fill_alpha\":{\"value\":0.1},\"fill_color\":{\"value\":\"#1f77b4\"},\"line_alpha\":{\"value\":0.1},\"line_color\":{\"value\":\"#1f77b4\"},\"top\":{\"field\":\"time\"},\"width\":{\"value\":0.2},\"x\":{\"field\":\"facility\",\"transform\":{\"id\":\"87ade8ea-1f05-42b1-8ce4-f73a24496c96\",\"type\":\"Dodge\"}}},\"id\":\"8c432f89-f74a-45f0-91a1-28ae41c54939\",\"type\":\"VBar\"},{\"attributes\":{},\"id\":\"eeb1ac95-8cfc-431e-8b5a-12302056690a\",\"type\":\"Selection\"},{\"attributes\":{\"data_source\":{\"id\":\"02a02f5f-cc8b-4452-ae44-e06c3e92549d\",\"type\":\"ColumnDataSource\"},\"glyph\":{\"id\":\"be68b1fd-64e3-4ddc-8f3c-8bbe821f2556\",\"type\":\"VBar\"},\"hover_glyph\":null,\"muted_glyph\":null,\"nonselection_glyph\":{\"id\":\"8c432f89-f74a-45f0-91a1-28ae41c54939\",\"type\":\"VBar\"},\"selection_glyph\":null,\"view\":{\"id\":\"4163ee70-3133-4c28-b310-2cda745ec271\",\"type\":\"CDSView\"},\"y_range_name\":\"foo\"},\"id\":\"cbb9a696-fe56-48f5-9777-af5b9fd199f0\",\"type\":\"GlyphRenderer\"},{\"attributes\":{\"label\":{\"value\":\"cost\"},\"renderers\":[{\"id\":\"b6610663-27c7-4793-90d2-04fe0096f726\",\"type\":\"GlyphRenderer\"}]},\"id\":\"37a1d48d-9a36-4868-9d11-1ac5e3e23e0f\",\"type\":\"LegendItem\"},{\"attributes\":{},\"id\":\"ef1d41b3-835e-476d-a3fd-b7b55802a192\",\"type\":\"BasicTicker\"},{\"attributes\":{\"source\":{\"id\":\"02a02f5f-cc8b-4452-ae44-e06c3e92549d\",\"type\":\"ColumnDataSource\"}},\"id\":\"4163ee70-3133-4c28-b310-2cda745ec271\",\"type\":\"CDSView\"},{\"attributes\":{},\"id\":\"36a6036f-ad69-41cd-8196-a7509b47bfa0\",\"type\":\"BasicTickFormatter\"}],\"root_ids\":[\"5f8aadff-ba15-45a8-9d86-63691d5de8f3\"]},\"title\":\"Bokeh Application\",\"version\":\"0.12.16\"}};\n",
       "  var render_items = [{\"docid\":\"9c5b88e5-d569-4a63-bdd1-bb7ecb5cff3e\",\"elementid\":\"55a459d8-7081-4baa-9c58-eed2764524bb\",\"modelid\":\"5f8aadff-ba15-45a8-9d86-63691d5de8f3\"}];\n",
       "  root.Bokeh.embed.embed_items_notebook(docs_json, render_items);\n",
       "\n",
       "  }\n",
       "  if (root.Bokeh !== undefined) {\n",
       "    embed_document(root);\n",
       "  } else {\n",
       "    var attempts = 0;\n",
       "    var timer = setInterval(function(root) {\n",
       "      if (root.Bokeh !== undefined) {\n",
       "        embed_document(root);\n",
       "        clearInterval(timer);\n",
       "      }\n",
       "      attempts++;\n",
       "      if (attempts > 100) {\n",
       "        console.log(\"Bokeh: ERROR: Unable to run BokehJS code because BokehJS library is missing\")\n",
       "        clearInterval(timer);\n",
       "      }\n",
       "    }, 10, root)\n",
       "  }\n",
       "})(window);"
      ],
      "application/vnd.bokehjs_exec.v0+json": ""
     },
     "metadata": {
      "application/vnd.bokehjs_exec.v0+json": {
       "id": "5f8aadff-ba15-45a8-9d86-63691d5de8f3"
      }
     },
     "output_type": "display_data"
    }
   ],
   "source": [
    "source = ColumnDataSource(data=dict(\n",
    "    facility = df_bar_m[df_bar_m['year'] == 2011]['facility'],\n",
    "    cost = df_bar_m[df_bar_m['year'] == 2011]['cost_per_trainee'],\n",
    "    time = df_bar_m[df_bar_m['year'] == 2011]['time_per_trainee']\n",
    "))\n",
    "\n",
    "p = figure(x_range= list(df_bar['facility']), plot_height=250, title=\"Costs\",\n",
    "           toolbar_location=None, tools=\"\")\n",
    "\n",
    "p.vbar(x=dodge('facility', -0.1, range=p.x_range), top='cost', width=0.2, source=source, legend=value(\"cost\"))\n",
    "\n",
    "p.y_range = Range1d(0, max(df_bar['cost_per_trainee']))\n",
    "\n",
    "p.extra_y_ranges = {\"foo\": Range1d(start=0, end=max(df_bar['time_per_trainee']))}\n",
    "p.add_layout(LinearAxis(y_range_name=\"foo\"), 'right')\n",
    "\n",
    "p.vbar(x=dodge('facility', 0.1, range=p.x_range), top='time', width=.2, y_range_name='foo', source=source, color='red', legend=value('time'))\n",
    "#p.circle(x=df_bar['facility'], y=df_bar['time_per_trainee'], y_range_name='foo')\n",
    "\n",
    "p.x_range.range_padding = 0.0\n",
    "p.xgrid.grid_line_color = None\n",
    "p.xgrid.grid_line_color = None\n",
    "p.y_range.start = 0\n",
    "\n",
    "show(p)"
   ]
  },
  {
   "cell_type": "code",
   "execution_count": 17,
   "metadata": {},
   "outputs": [
    {
     "data": {
      "text/plain": [
       "year                 int64\n",
       "facility            object\n",
       "cost_per_trainee     int64\n",
       "time_per_trainee     int64\n",
       "dtype: object"
      ]
     },
     "execution_count": 17,
     "metadata": {},
     "output_type": "execute_result"
    }
   ],
   "source": [
    "df_bar_m.dtypes"
   ]
  },
  {
   "cell_type": "code",
   "execution_count": null,
   "metadata": {},
   "outputs": [],
   "source": []
  }
 ],
 "metadata": {
  "kernelspec": {
   "display_name": "Python 3",
   "language": "python",
   "name": "python3"
  },
  "language_info": {
   "codemirror_mode": {
    "name": "ipython",
    "version": 3
   },
   "file_extension": ".py",
   "mimetype": "text/x-python",
   "name": "python",
   "nbconvert_exporter": "python",
   "pygments_lexer": "ipython3",
   "version": "3.6.5"
  }
 },
 "nbformat": 4,
 "nbformat_minor": 2
}
