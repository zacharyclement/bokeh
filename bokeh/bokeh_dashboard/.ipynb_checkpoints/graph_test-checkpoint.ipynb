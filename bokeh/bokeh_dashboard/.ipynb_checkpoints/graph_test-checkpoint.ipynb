{
 "cells": [
  {
   "cell_type": "code",
   "execution_count": 72,
   "metadata": {
    "collapsed": true
   },
   "outputs": [],
   "source": [
    "import pandas as pd\n",
    "from bokeh.io import curdoc\n",
    "\n",
    "from bokeh.io import output_notebook\n",
    "from bokeh.io import show\n",
    "from bokeh.plotting import figure\n",
    "from bokeh.models import NumeralTickFormatter\n",
    "from bokeh.models import ColumnDataSource\n",
    "from bokeh.models import HoverTool\n",
    "from bokeh.models import LinearInterpolator\n",
    "from bokeh.palettes import Spectral6\n",
    "from bokeh.models import CategoricalColorMapper\n",
    "from bokeh.models import Slider\n",
    "from bokeh.layouts import column\n",
    "from bokeh.models.ranges import Range1d\n",
    "from bokeh.models import LinearAxis\n",
    "from bokeh.transform import dodge\n",
    "from bokeh.core.properties import value\n",
    "\n",
    "from ipywidgets import interact\n",
    "from bokeh.io import push_notebook"
   ]
  },
  {
   "cell_type": "code",
   "execution_count": 2,
   "metadata": {},
   "outputs": [
    {
     "data": {
      "text/html": [
       "\n",
       "    <div class=\"bk-root\">\n",
       "        <a href=\"https://bokeh.pydata.org\" target=\"_blank\" class=\"bk-logo bk-logo-small bk-logo-notebook\"></a>\n",
       "        <span id=\"48052774-0c79-45c9-80f8-434c204133bf\">Loading BokehJS ...</span>\n",
       "    </div>"
      ]
     },
     "metadata": {},
     "output_type": "display_data"
    },
    {
     "data": {
      "application/javascript": [
       "\n",
       "(function(root) {\n",
       "  function now() {\n",
       "    return new Date();\n",
       "  }\n",
       "\n",
       "  var force = true;\n",
       "\n",
       "  if (typeof (root._bokeh_onload_callbacks) === \"undefined\" || force === true) {\n",
       "    root._bokeh_onload_callbacks = [];\n",
       "    root._bokeh_is_loading = undefined;\n",
       "  }\n",
       "\n",
       "  var JS_MIME_TYPE = 'application/javascript';\n",
       "  var HTML_MIME_TYPE = 'text/html';\n",
       "  var EXEC_MIME_TYPE = 'application/vnd.bokehjs_exec.v0+json';\n",
       "  var CLASS_NAME = 'output_bokeh rendered_html';\n",
       "\n",
       "  /**\n",
       "   * Render data to the DOM node\n",
       "   */\n",
       "  function render(props, node) {\n",
       "    var script = document.createElement(\"script\");\n",
       "    node.appendChild(script);\n",
       "  }\n",
       "\n",
       "  /**\n",
       "   * Handle when an output is cleared or removed\n",
       "   */\n",
       "  function handleClearOutput(event, handle) {\n",
       "    var cell = handle.cell;\n",
       "\n",
       "    var id = cell.output_area._bokeh_element_id;\n",
       "    var server_id = cell.output_area._bokeh_server_id;\n",
       "    // Clean up Bokeh references\n",
       "    if (id !== undefined) {\n",
       "      Bokeh.index[id].model.document.clear();\n",
       "      delete Bokeh.index[id];\n",
       "    }\n",
       "\n",
       "    if (server_id !== undefined) {\n",
       "      // Clean up Bokeh references\n",
       "      var cmd = \"from bokeh.io.state import curstate; print(curstate().uuid_to_server['\" + server_id + \"'].get_sessions()[0].document.roots[0]._id)\";\n",
       "      cell.notebook.kernel.execute(cmd, {\n",
       "        iopub: {\n",
       "          output: function(msg) {\n",
       "            var element_id = msg.content.text.trim();\n",
       "            Bokeh.index[element_id].model.document.clear();\n",
       "            delete Bokeh.index[element_id];\n",
       "          }\n",
       "        }\n",
       "      });\n",
       "      // Destroy server and session\n",
       "      var cmd = \"import bokeh.io.notebook as ion; ion.destroy_server('\" + server_id + \"')\";\n",
       "      cell.notebook.kernel.execute(cmd);\n",
       "    }\n",
       "  }\n",
       "\n",
       "  /**\n",
       "   * Handle when a new output is added\n",
       "   */\n",
       "  function handleAddOutput(event, handle) {\n",
       "    var output_area = handle.output_area;\n",
       "    var output = handle.output;\n",
       "\n",
       "    // limit handleAddOutput to display_data with EXEC_MIME_TYPE content only\n",
       "    if ((output.output_type != \"display_data\") || (!output.data.hasOwnProperty(EXEC_MIME_TYPE))) {\n",
       "      return\n",
       "    }\n",
       "\n",
       "    var toinsert = output_area.element.find(`.${CLASS_NAME.split(' ')[0]}`);\n",
       "\n",
       "    if (output.metadata[EXEC_MIME_TYPE][\"id\"] !== undefined) {\n",
       "      toinsert[0].firstChild.textContent = output.data[JS_MIME_TYPE];\n",
       "      // store reference to embed id on output_area\n",
       "      output_area._bokeh_element_id = output.metadata[EXEC_MIME_TYPE][\"id\"];\n",
       "    }\n",
       "    if (output.metadata[EXEC_MIME_TYPE][\"server_id\"] !== undefined) {\n",
       "      var bk_div = document.createElement(\"div\");\n",
       "      bk_div.innerHTML = output.data[HTML_MIME_TYPE];\n",
       "      var script_attrs = bk_div.children[0].attributes;\n",
       "      for (var i = 0; i < script_attrs.length; i++) {\n",
       "        toinsert[0].firstChild.setAttribute(script_attrs[i].name, script_attrs[i].value);\n",
       "      }\n",
       "      // store reference to server id on output_area\n",
       "      output_area._bokeh_server_id = output.metadata[EXEC_MIME_TYPE][\"server_id\"];\n",
       "    }\n",
       "  }\n",
       "\n",
       "  function register_renderer(events, OutputArea) {\n",
       "\n",
       "    function append_mime(data, metadata, element) {\n",
       "      // create a DOM node to render to\n",
       "      var toinsert = this.create_output_subarea(\n",
       "        metadata,\n",
       "        CLASS_NAME,\n",
       "        EXEC_MIME_TYPE\n",
       "      );\n",
       "      this.keyboard_manager.register_events(toinsert);\n",
       "      // Render to node\n",
       "      var props = {data: data, metadata: metadata[EXEC_MIME_TYPE]};\n",
       "      render(props, toinsert[0]);\n",
       "      element.append(toinsert);\n",
       "      return toinsert\n",
       "    }\n",
       "\n",
       "    /* Handle when an output is cleared or removed */\n",
       "    events.on('clear_output.CodeCell', handleClearOutput);\n",
       "    events.on('delete.Cell', handleClearOutput);\n",
       "\n",
       "    /* Handle when a new output is added */\n",
       "    events.on('output_added.OutputArea', handleAddOutput);\n",
       "\n",
       "    /**\n",
       "     * Register the mime type and append_mime function with output_area\n",
       "     */\n",
       "    OutputArea.prototype.register_mime_type(EXEC_MIME_TYPE, append_mime, {\n",
       "      /* Is output safe? */\n",
       "      safe: true,\n",
       "      /* Index of renderer in `output_area.display_order` */\n",
       "      index: 0\n",
       "    });\n",
       "  }\n",
       "\n",
       "  // register the mime type if in Jupyter Notebook environment and previously unregistered\n",
       "  if (root.Jupyter !== undefined) {\n",
       "    var events = require('base/js/events');\n",
       "    var OutputArea = require('notebook/js/outputarea').OutputArea;\n",
       "\n",
       "    if (OutputArea.prototype.mime_types().indexOf(EXEC_MIME_TYPE) == -1) {\n",
       "      register_renderer(events, OutputArea);\n",
       "    }\n",
       "  }\n",
       "\n",
       "  \n",
       "  if (typeof (root._bokeh_timeout) === \"undefined\" || force === true) {\n",
       "    root._bokeh_timeout = Date.now() + 5000;\n",
       "    root._bokeh_failed_load = false;\n",
       "  }\n",
       "\n",
       "  var NB_LOAD_WARNING = {'data': {'text/html':\n",
       "     \"<div style='background-color: #fdd'>\\n\"+\n",
       "     \"<p>\\n\"+\n",
       "     \"BokehJS does not appear to have successfully loaded. If loading BokehJS from CDN, this \\n\"+\n",
       "     \"may be due to a slow or bad network connection. Possible fixes:\\n\"+\n",
       "     \"</p>\\n\"+\n",
       "     \"<ul>\\n\"+\n",
       "     \"<li>re-rerun `output_notebook()` to attempt to load from CDN again, or</li>\\n\"+\n",
       "     \"<li>use INLINE resources instead, as so:</li>\\n\"+\n",
       "     \"</ul>\\n\"+\n",
       "     \"<code>\\n\"+\n",
       "     \"from bokeh.resources import INLINE\\n\"+\n",
       "     \"output_notebook(resources=INLINE)\\n\"+\n",
       "     \"</code>\\n\"+\n",
       "     \"</div>\"}};\n",
       "\n",
       "  function display_loaded() {\n",
       "    var el = document.getElementById(\"48052774-0c79-45c9-80f8-434c204133bf\");\n",
       "    if (el != null) {\n",
       "      el.textContent = \"BokehJS is loading...\";\n",
       "    }\n",
       "    if (root.Bokeh !== undefined) {\n",
       "      if (el != null) {\n",
       "        el.textContent = \"BokehJS \" + root.Bokeh.version + \" successfully loaded.\";\n",
       "      }\n",
       "    } else if (Date.now() < root._bokeh_timeout) {\n",
       "      setTimeout(display_loaded, 100)\n",
       "    }\n",
       "  }\n",
       "\n",
       "\n",
       "  function run_callbacks() {\n",
       "    try {\n",
       "      root._bokeh_onload_callbacks.forEach(function(callback) { callback() });\n",
       "    }\n",
       "    finally {\n",
       "      delete root._bokeh_onload_callbacks\n",
       "    }\n",
       "    console.info(\"Bokeh: all callbacks have finished\");\n",
       "  }\n",
       "\n",
       "  function load_libs(js_urls, callback) {\n",
       "    root._bokeh_onload_callbacks.push(callback);\n",
       "    if (root._bokeh_is_loading > 0) {\n",
       "      console.log(\"Bokeh: BokehJS is being loaded, scheduling callback at\", now());\n",
       "      return null;\n",
       "    }\n",
       "    if (js_urls == null || js_urls.length === 0) {\n",
       "      run_callbacks();\n",
       "      return null;\n",
       "    }\n",
       "    console.log(\"Bokeh: BokehJS not loaded, scheduling load and callback at\", now());\n",
       "    root._bokeh_is_loading = js_urls.length;\n",
       "    for (var i = 0; i < js_urls.length; i++) {\n",
       "      var url = js_urls[i];\n",
       "      var s = document.createElement('script');\n",
       "      s.src = url;\n",
       "      s.async = false;\n",
       "      s.onreadystatechange = s.onload = function() {\n",
       "        root._bokeh_is_loading--;\n",
       "        if (root._bokeh_is_loading === 0) {\n",
       "          console.log(\"Bokeh: all BokehJS libraries loaded\");\n",
       "          run_callbacks()\n",
       "        }\n",
       "      };\n",
       "      s.onerror = function() {\n",
       "        console.warn(\"failed to load library \" + url);\n",
       "      };\n",
       "      console.log(\"Bokeh: injecting script tag for BokehJS library: \", url);\n",
       "      document.getElementsByTagName(\"head\")[0].appendChild(s);\n",
       "    }\n",
       "  };var element = document.getElementById(\"48052774-0c79-45c9-80f8-434c204133bf\");\n",
       "  if (element == null) {\n",
       "    console.log(\"Bokeh: ERROR: autoload.js configured with elementid '48052774-0c79-45c9-80f8-434c204133bf' but no matching script tag was found. \")\n",
       "    return false;\n",
       "  }\n",
       "\n",
       "  var js_urls = [\"https://cdn.pydata.org/bokeh/release/bokeh-0.12.10.min.js\", \"https://cdn.pydata.org/bokeh/release/bokeh-widgets-0.12.10.min.js\", \"https://cdn.pydata.org/bokeh/release/bokeh-tables-0.12.10.min.js\", \"https://cdn.pydata.org/bokeh/release/bokeh-gl-0.12.10.min.js\"];\n",
       "\n",
       "  var inline_js = [\n",
       "    function(Bokeh) {\n",
       "      Bokeh.set_log_level(\"info\");\n",
       "    },\n",
       "    \n",
       "    function(Bokeh) {\n",
       "      \n",
       "    },\n",
       "    function(Bokeh) {\n",
       "      console.log(\"Bokeh: injecting CSS: https://cdn.pydata.org/bokeh/release/bokeh-0.12.10.min.css\");\n",
       "      Bokeh.embed.inject_css(\"https://cdn.pydata.org/bokeh/release/bokeh-0.12.10.min.css\");\n",
       "      console.log(\"Bokeh: injecting CSS: https://cdn.pydata.org/bokeh/release/bokeh-widgets-0.12.10.min.css\");\n",
       "      Bokeh.embed.inject_css(\"https://cdn.pydata.org/bokeh/release/bokeh-widgets-0.12.10.min.css\");\n",
       "      console.log(\"Bokeh: injecting CSS: https://cdn.pydata.org/bokeh/release/bokeh-tables-0.12.10.min.css\");\n",
       "      Bokeh.embed.inject_css(\"https://cdn.pydata.org/bokeh/release/bokeh-tables-0.12.10.min.css\");\n",
       "    }\n",
       "  ];\n",
       "\n",
       "  function run_inline_js() {\n",
       "    \n",
       "    if ((root.Bokeh !== undefined) || (force === true)) {\n",
       "      for (var i = 0; i < inline_js.length; i++) {\n",
       "        inline_js[i].call(root, root.Bokeh);\n",
       "      }if (force === true) {\n",
       "        display_loaded();\n",
       "      }} else if (Date.now() < root._bokeh_timeout) {\n",
       "      setTimeout(run_inline_js, 100);\n",
       "    } else if (!root._bokeh_failed_load) {\n",
       "      console.log(\"Bokeh: BokehJS failed to load within specified timeout.\");\n",
       "      root._bokeh_failed_load = true;\n",
       "    } else if (force !== true) {\n",
       "      var cell = $(document.getElementById(\"48052774-0c79-45c9-80f8-434c204133bf\")).parents('.cell').data().cell;\n",
       "      cell.output_area.append_execute_result(NB_LOAD_WARNING)\n",
       "    }\n",
       "\n",
       "  }\n",
       "\n",
       "  if (root._bokeh_is_loading === 0) {\n",
       "    console.log(\"Bokeh: BokehJS loaded, going straight to plotting\");\n",
       "    run_inline_js();\n",
       "  } else {\n",
       "    load_libs(js_urls, function() {\n",
       "      console.log(\"Bokeh: BokehJS plotting callback run at\", now());\n",
       "      run_inline_js();\n",
       "    });\n",
       "  }\n",
       "}(window));"
      ],
      "application/vnd.bokehjs_load.v0+json": "\n(function(root) {\n  function now() {\n    return new Date();\n  }\n\n  var force = true;\n\n  if (typeof (root._bokeh_onload_callbacks) === \"undefined\" || force === true) {\n    root._bokeh_onload_callbacks = [];\n    root._bokeh_is_loading = undefined;\n  }\n\n  \n\n  \n  if (typeof (root._bokeh_timeout) === \"undefined\" || force === true) {\n    root._bokeh_timeout = Date.now() + 5000;\n    root._bokeh_failed_load = false;\n  }\n\n  var NB_LOAD_WARNING = {'data': {'text/html':\n     \"<div style='background-color: #fdd'>\\n\"+\n     \"<p>\\n\"+\n     \"BokehJS does not appear to have successfully loaded. If loading BokehJS from CDN, this \\n\"+\n     \"may be due to a slow or bad network connection. Possible fixes:\\n\"+\n     \"</p>\\n\"+\n     \"<ul>\\n\"+\n     \"<li>re-rerun `output_notebook()` to attempt to load from CDN again, or</li>\\n\"+\n     \"<li>use INLINE resources instead, as so:</li>\\n\"+\n     \"</ul>\\n\"+\n     \"<code>\\n\"+\n     \"from bokeh.resources import INLINE\\n\"+\n     \"output_notebook(resources=INLINE)\\n\"+\n     \"</code>\\n\"+\n     \"</div>\"}};\n\n  function display_loaded() {\n    var el = document.getElementById(\"48052774-0c79-45c9-80f8-434c204133bf\");\n    if (el != null) {\n      el.textContent = \"BokehJS is loading...\";\n    }\n    if (root.Bokeh !== undefined) {\n      if (el != null) {\n        el.textContent = \"BokehJS \" + root.Bokeh.version + \" successfully loaded.\";\n      }\n    } else if (Date.now() < root._bokeh_timeout) {\n      setTimeout(display_loaded, 100)\n    }\n  }\n\n\n  function run_callbacks() {\n    try {\n      root._bokeh_onload_callbacks.forEach(function(callback) { callback() });\n    }\n    finally {\n      delete root._bokeh_onload_callbacks\n    }\n    console.info(\"Bokeh: all callbacks have finished\");\n  }\n\n  function load_libs(js_urls, callback) {\n    root._bokeh_onload_callbacks.push(callback);\n    if (root._bokeh_is_loading > 0) {\n      console.log(\"Bokeh: BokehJS is being loaded, scheduling callback at\", now());\n      return null;\n    }\n    if (js_urls == null || js_urls.length === 0) {\n      run_callbacks();\n      return null;\n    }\n    console.log(\"Bokeh: BokehJS not loaded, scheduling load and callback at\", now());\n    root._bokeh_is_loading = js_urls.length;\n    for (var i = 0; i < js_urls.length; i++) {\n      var url = js_urls[i];\n      var s = document.createElement('script');\n      s.src = url;\n      s.async = false;\n      s.onreadystatechange = s.onload = function() {\n        root._bokeh_is_loading--;\n        if (root._bokeh_is_loading === 0) {\n          console.log(\"Bokeh: all BokehJS libraries loaded\");\n          run_callbacks()\n        }\n      };\n      s.onerror = function() {\n        console.warn(\"failed to load library \" + url);\n      };\n      console.log(\"Bokeh: injecting script tag for BokehJS library: \", url);\n      document.getElementsByTagName(\"head\")[0].appendChild(s);\n    }\n  };var element = document.getElementById(\"48052774-0c79-45c9-80f8-434c204133bf\");\n  if (element == null) {\n    console.log(\"Bokeh: ERROR: autoload.js configured with elementid '48052774-0c79-45c9-80f8-434c204133bf' but no matching script tag was found. \")\n    return false;\n  }\n\n  var js_urls = [\"https://cdn.pydata.org/bokeh/release/bokeh-0.12.10.min.js\", \"https://cdn.pydata.org/bokeh/release/bokeh-widgets-0.12.10.min.js\", \"https://cdn.pydata.org/bokeh/release/bokeh-tables-0.12.10.min.js\", \"https://cdn.pydata.org/bokeh/release/bokeh-gl-0.12.10.min.js\"];\n\n  var inline_js = [\n    function(Bokeh) {\n      Bokeh.set_log_level(\"info\");\n    },\n    \n    function(Bokeh) {\n      \n    },\n    function(Bokeh) {\n      console.log(\"Bokeh: injecting CSS: https://cdn.pydata.org/bokeh/release/bokeh-0.12.10.min.css\");\n      Bokeh.embed.inject_css(\"https://cdn.pydata.org/bokeh/release/bokeh-0.12.10.min.css\");\n      console.log(\"Bokeh: injecting CSS: https://cdn.pydata.org/bokeh/release/bokeh-widgets-0.12.10.min.css\");\n      Bokeh.embed.inject_css(\"https://cdn.pydata.org/bokeh/release/bokeh-widgets-0.12.10.min.css\");\n      console.log(\"Bokeh: injecting CSS: https://cdn.pydata.org/bokeh/release/bokeh-tables-0.12.10.min.css\");\n      Bokeh.embed.inject_css(\"https://cdn.pydata.org/bokeh/release/bokeh-tables-0.12.10.min.css\");\n    }\n  ];\n\n  function run_inline_js() {\n    \n    if ((root.Bokeh !== undefined) || (force === true)) {\n      for (var i = 0; i < inline_js.length; i++) {\n        inline_js[i].call(root, root.Bokeh);\n      }if (force === true) {\n        display_loaded();\n      }} else if (Date.now() < root._bokeh_timeout) {\n      setTimeout(run_inline_js, 100);\n    } else if (!root._bokeh_failed_load) {\n      console.log(\"Bokeh: BokehJS failed to load within specified timeout.\");\n      root._bokeh_failed_load = true;\n    } else if (force !== true) {\n      var cell = $(document.getElementById(\"48052774-0c79-45c9-80f8-434c204133bf\")).parents('.cell').data().cell;\n      cell.output_area.append_execute_result(NB_LOAD_WARNING)\n    }\n\n  }\n\n  if (root._bokeh_is_loading === 0) {\n    console.log(\"Bokeh: BokehJS loaded, going straight to plotting\");\n    run_inline_js();\n  } else {\n    load_libs(js_urls, function() {\n      console.log(\"Bokeh: BokehJS plotting callback run at\", now());\n      run_inline_js();\n    });\n  }\n}(window));"
     },
     "metadata": {},
     "output_type": "display_data"
    }
   ],
   "source": [
    "output_notebook()"
   ]
  },
  {
   "cell_type": "code",
   "execution_count": 3,
   "metadata": {
    "collapsed": true
   },
   "outputs": [],
   "source": [
    "df_cost = pd.read_csv('data/cost_trainee.csv')\n",
    "df_time = pd.read_csv('data/time_trainee.csv')\n",
    "df_bar = pd.read_csv('data/bar.csv')"
   ]
  },
  {
   "cell_type": "code",
   "execution_count": 4,
   "metadata": {
    "collapsed": true
   },
   "outputs": [],
   "source": [
    "#make line graphs and two bar graphs"
   ]
  },
  {
   "cell_type": "code",
   "execution_count": 5,
   "metadata": {},
   "outputs": [
    {
     "data": {
      "text/html": [
       "<div>\n",
       "<style scoped>\n",
       "    .dataframe tbody tr th:only-of-type {\n",
       "        vertical-align: middle;\n",
       "    }\n",
       "\n",
       "    .dataframe tbody tr th {\n",
       "        vertical-align: top;\n",
       "    }\n",
       "\n",
       "    .dataframe thead th {\n",
       "        text-align: right;\n",
       "    }\n",
       "</style>\n",
       "<table border=\"1\" class=\"dataframe\">\n",
       "  <thead>\n",
       "    <tr style=\"text-align: right;\">\n",
       "      <th></th>\n",
       "      <th>year</th>\n",
       "      <th>new_york</th>\n",
       "      <th>california</th>\n",
       "      <th>oklahoma</th>\n",
       "      <th>wisconson</th>\n",
       "      <th>florida</th>\n",
       "    </tr>\n",
       "  </thead>\n",
       "  <tbody>\n",
       "    <tr>\n",
       "      <th>0</th>\n",
       "      <td>2010</td>\n",
       "      <td>10</td>\n",
       "      <td>15</td>\n",
       "      <td>5</td>\n",
       "      <td>7</td>\n",
       "      <td>8</td>\n",
       "    </tr>\n",
       "    <tr>\n",
       "      <th>1</th>\n",
       "      <td>2011</td>\n",
       "      <td>11</td>\n",
       "      <td>16</td>\n",
       "      <td>5</td>\n",
       "      <td>8</td>\n",
       "      <td>7</td>\n",
       "    </tr>\n",
       "    <tr>\n",
       "      <th>2</th>\n",
       "      <td>2012</td>\n",
       "      <td>12</td>\n",
       "      <td>17</td>\n",
       "      <td>6</td>\n",
       "      <td>7</td>\n",
       "      <td>6</td>\n",
       "    </tr>\n",
       "    <tr>\n",
       "      <th>3</th>\n",
       "      <td>2013</td>\n",
       "      <td>13</td>\n",
       "      <td>11</td>\n",
       "      <td>6</td>\n",
       "      <td>6</td>\n",
       "      <td>5</td>\n",
       "    </tr>\n",
       "    <tr>\n",
       "      <th>4</th>\n",
       "      <td>2014</td>\n",
       "      <td>14</td>\n",
       "      <td>12</td>\n",
       "      <td>5</td>\n",
       "      <td>5</td>\n",
       "      <td>4</td>\n",
       "    </tr>\n",
       "  </tbody>\n",
       "</table>\n",
       "</div>"
      ],
      "text/plain": [
       "   year  new_york  california  oklahoma  wisconson  florida\n",
       "0  2010        10          15         5          7        8\n",
       "1  2011        11          16         5          8        7\n",
       "2  2012        12          17         6          7        6\n",
       "3  2013        13          11         6          6        5\n",
       "4  2014        14          12         5          5        4"
      ]
     },
     "execution_count": 5,
     "metadata": {},
     "output_type": "execute_result"
    }
   ],
   "source": [
    "df_cost.head()"
   ]
  },
  {
   "cell_type": "code",
   "execution_count": 6,
   "metadata": {
    "collapsed": true
   },
   "outputs": [],
   "source": [
    "# source = ColumnDataSource(dict(\n",
    "#     x = df_cost['facility'],\n",
    "#     y = df_cost[df_cost.columns[1:]],   \n",
    "# ))"
   ]
  },
  {
   "cell_type": "code",
   "execution_count": 7,
   "metadata": {
    "collapsed": true
   },
   "outputs": [],
   "source": [
    "PLOT_OPTS = dict(\n",
    "    plot_height = 400,\n",
    "#     x_range = (data['trainees_total'].min(), data['trainees_total'].max()),\n",
    "#     y_range = (data['costs'].min(), data['costs'].max()),\n",
    "    )"
   ]
  },
  {
   "cell_type": "code",
   "execution_count": 10,
   "metadata": {},
   "outputs": [
    {
     "data": {
      "text/html": [
       "\n",
       "<div class=\"bk-root\">\n",
       "    <div class=\"bk-plotdiv\" id=\"a9ef7759-cdf1-4dc6-b673-6ab1d888c182\"></div>\n",
       "</div>"
      ]
     },
     "metadata": {},
     "output_type": "display_data"
    },
    {
     "data": {
      "application/javascript": [
       "(function(root) {\n",
       "  function embed_document(root) {\n",
       "    var docs_json = {\"6310c14e-5c54-4565-b46d-cd6aac7fdf9c\":{\"roots\":{\"references\":[{\"attributes\":{},\"id\":\"9e21d241-61d9-4289-bcfd-273e5eec156a\",\"type\":\"BasicTicker\"},{\"attributes\":{\"callback\":null},\"id\":\"2a7b7dfd-6bdd-485b-9e15-17b3683e55d1\",\"type\":\"DataRange1d\"},{\"attributes\":{\"source\":{\"id\":\"01991de2-3d64-4e1a-b73e-83b1cee4617e\",\"type\":\"ColumnDataSource\"}},\"id\":\"cdd3f9e7-7c8c-44b4-ac6a-23a2621a67e3\",\"type\":\"CDSView\"},{\"attributes\":{\"callback\":null,\"column_names\":[\"x\",\"y\"],\"data\":{\"x\":[2010,2011,2012,2013,2014,2015,2016,2017],\"y\":[5,5,6,6,5,6,5,5]}},\"id\":\"25f39f85-96b0-4430-9ae4-80c5f1d045cb\",\"type\":\"ColumnDataSource\"},{\"attributes\":{\"data_source\":{\"id\":\"01991de2-3d64-4e1a-b73e-83b1cee4617e\",\"type\":\"ColumnDataSource\"},\"glyph\":{\"id\":\"5f28288c-59aa-4fe0-97ea-2ab7e6c26e89\",\"type\":\"Line\"},\"hover_glyph\":null,\"muted_glyph\":null,\"nonselection_glyph\":{\"id\":\"b531bf6f-82d6-43be-9fa7-ad593d3497c4\",\"type\":\"Line\"},\"selection_glyph\":null,\"view\":{\"id\":\"cdd3f9e7-7c8c-44b4-ac6a-23a2621a67e3\",\"type\":\"CDSView\"}},\"id\":\"4c43fb16-1fa6-44ab-a650-791213ff908b\",\"type\":\"GlyphRenderer\"},{\"attributes\":{\"source\":{\"id\":\"45e2dd2c-31c3-483a-b784-ebfa12ca363c\",\"type\":\"ColumnDataSource\"}},\"id\":\"a499c7be-298a-4c3a-993c-5766168e6956\",\"type\":\"CDSView\"},{\"attributes\":{\"active_drag\":\"auto\",\"active_inspect\":\"auto\",\"active_scroll\":\"auto\",\"active_tap\":\"auto\",\"tools\":[{\"id\":\"bd7adf3e-9659-4c94-8066-598eb8352ce4\",\"type\":\"HoverTool\"}]},\"id\":\"05428171-071a-4698-8abe-1d9c747879e1\",\"type\":\"Toolbar\"},{\"attributes\":{\"plot\":null,\"text\":\"costs per trainee\"},\"id\":\"500528cc-a133-46ae-b733-e0ca9adaa83c\",\"type\":\"Title\"},{\"attributes\":{\"callback\":null},\"id\":\"d0eb0391-7415-4f3d-a5aa-e7e3dddf31e7\",\"type\":\"DataRange1d\"},{\"attributes\":{},\"id\":\"799e40ff-1bae-45df-a373-e348ad347136\",\"type\":\"LinearScale\"},{\"attributes\":{\"line_alpha\":{\"value\":0.1},\"line_color\":{\"value\":\"#1f77b4\"},\"x\":{\"field\":\"x\"},\"y\":{\"field\":\"y\"}},\"id\":\"b531bf6f-82d6-43be-9fa7-ad593d3497c4\",\"type\":\"Line\"},{\"attributes\":{\"line_color\":{\"value\":\"#99d594\"},\"x\":{\"field\":\"x\"},\"y\":{\"field\":\"y\"}},\"id\":\"8ee1ed8e-a924-40b1-86ce-fe5686465df3\",\"type\":\"Line\"},{\"attributes\":{\"line_color\":{\"value\":\"#3288bd\"},\"x\":{\"field\":\"x\"},\"y\":{\"field\":\"y\"}},\"id\":\"5f28288c-59aa-4fe0-97ea-2ab7e6c26e89\",\"type\":\"Line\"},{\"attributes\":{\"axis_label\":\"Costs\",\"formatter\":{\"id\":\"0698d537-8c5e-4b6a-91fb-29ef9439e2ba\",\"type\":\"BasicTickFormatter\"},\"plot\":{\"id\":\"7fec9f1d-dd5e-4190-8504-306a24d5e00d\",\"subtype\":\"Figure\",\"type\":\"Plot\"},\"ticker\":{\"id\":\"9e21d241-61d9-4289-bcfd-273e5eec156a\",\"type\":\"BasicTicker\"}},\"id\":\"1487100d-40ca-4bec-823b-1a4a6a95d019\",\"type\":\"LinearAxis\"},{\"attributes\":{\"label\":{\"value\":\"new_york\"},\"renderers\":[{\"id\":\"4c43fb16-1fa6-44ab-a650-791213ff908b\",\"type\":\"GlyphRenderer\"}]},\"id\":\"5ac0ad3d-98a0-40a6-b79e-31fd98a86c3f\",\"type\":\"LegendItem\"},{\"attributes\":{\"callback\":null,\"column_names\":[\"x\",\"y\"],\"data\":{\"x\":[2010,2011,2012,2013,2014,2015,2016,2017],\"y\":[7,8,7,6,5,6,8,10]}},\"id\":\"45e2dd2c-31c3-483a-b784-ebfa12ca363c\",\"type\":\"ColumnDataSource\"},{\"attributes\":{\"items\":[{\"id\":\"5ac0ad3d-98a0-40a6-b79e-31fd98a86c3f\",\"type\":\"LegendItem\"},{\"id\":\"85276111-c5fe-4b90-bfaa-e8c686812ae1\",\"type\":\"LegendItem\"},{\"id\":\"8a5cec16-b950-4926-af15-cfaee7d76f87\",\"type\":\"LegendItem\"},{\"id\":\"6f5ec4a0-e3ff-412a-8de6-749afe02e584\",\"type\":\"LegendItem\"},{\"id\":\"1b641700-062e-4c68-9744-ae652fdb1509\",\"type\":\"LegendItem\"}],\"plot\":{\"id\":\"7fec9f1d-dd5e-4190-8504-306a24d5e00d\",\"subtype\":\"Figure\",\"type\":\"Plot\"}},\"id\":\"6699f6d2-3554-445d-ae10-87bff659d2e7\",\"type\":\"Legend\"},{\"attributes\":{\"label\":{\"value\":\"california\"},\"renderers\":[{\"id\":\"002cd9da-b894-40cd-97aa-73d6b2841779\",\"type\":\"GlyphRenderer\"}]},\"id\":\"85276111-c5fe-4b90-bfaa-e8c686812ae1\",\"type\":\"LegendItem\"},{\"attributes\":{\"callback\":null,\"column_names\":[\"x\",\"y\"],\"data\":{\"x\":[2010,2011,2012,2013,2014,2015,2016,2017],\"y\":[10,11,12,13,14,15,16,17]}},\"id\":\"01991de2-3d64-4e1a-b73e-83b1cee4617e\",\"type\":\"ColumnDataSource\"},{\"attributes\":{\"line_alpha\":{\"value\":0.1},\"line_color\":{\"value\":\"#1f77b4\"},\"x\":{\"field\":\"x\"},\"y\":{\"field\":\"y\"}},\"id\":\"9468bad5-3e0f-4850-a723-08b4725cdcdb\",\"type\":\"Line\"},{\"attributes\":{\"data_source\":{\"id\":\"45e2dd2c-31c3-483a-b784-ebfa12ca363c\",\"type\":\"ColumnDataSource\"},\"glyph\":{\"id\":\"c429a4ac-b92b-403e-a8ab-b933091ff1fd\",\"type\":\"Line\"},\"hover_glyph\":null,\"muted_glyph\":null,\"nonselection_glyph\":{\"id\":\"661dbc28-22de-498e-9e36-9de33dd3b1ae\",\"type\":\"Line\"},\"selection_glyph\":null,\"view\":{\"id\":\"a499c7be-298a-4c3a-993c-5766168e6956\",\"type\":\"CDSView\"}},\"id\":\"b47188aa-c6e3-4a78-b87e-14ebbb7bb85b\",\"type\":\"GlyphRenderer\"},{\"attributes\":{\"callback\":null,\"column_names\":[\"x\",\"y\"],\"data\":{\"x\":[2010,2011,2012,2013,2014,2015,2016,2017],\"y\":[15,16,17,11,12,13,14,15]}},\"id\":\"2546243f-89e8-4e21-8052-ef16036a00f4\",\"type\":\"ColumnDataSource\"},{\"attributes\":{\"data_source\":{\"id\":\"2546243f-89e8-4e21-8052-ef16036a00f4\",\"type\":\"ColumnDataSource\"},\"glyph\":{\"id\":\"8ee1ed8e-a924-40b1-86ce-fe5686465df3\",\"type\":\"Line\"},\"hover_glyph\":null,\"muted_glyph\":null,\"nonselection_glyph\":{\"id\":\"9468bad5-3e0f-4850-a723-08b4725cdcdb\",\"type\":\"Line\"},\"selection_glyph\":null,\"view\":{\"id\":\"26aadd73-b4a6-40eb-bf7d-9cdd1fdc81eb\",\"type\":\"CDSView\"}},\"id\":\"002cd9da-b894-40cd-97aa-73d6b2841779\",\"type\":\"GlyphRenderer\"},{\"attributes\":{\"label\":{\"value\":\"florida\"},\"renderers\":[{\"id\":\"c26b7d6f-5aa2-4c97-b0d8-9f6ab96449ad\",\"type\":\"GlyphRenderer\"}]},\"id\":\"1b641700-062e-4c68-9744-ae652fdb1509\",\"type\":\"LegendItem\"},{\"attributes\":{\"source\":{\"id\":\"2546243f-89e8-4e21-8052-ef16036a00f4\",\"type\":\"ColumnDataSource\"}},\"id\":\"26aadd73-b4a6-40eb-bf7d-9cdd1fdc81eb\",\"type\":\"CDSView\"},{\"attributes\":{\"source\":{\"id\":\"25f39f85-96b0-4430-9ae4-80c5f1d045cb\",\"type\":\"ColumnDataSource\"}},\"id\":\"fc207c5c-bd8d-4871-b4b0-8526b816df4d\",\"type\":\"CDSView\"},{\"attributes\":{\"line_alpha\":{\"value\":0.1},\"line_color\":{\"value\":\"#1f77b4\"},\"x\":{\"field\":\"x\"},\"y\":{\"field\":\"y\"}},\"id\":\"0b3a23f2-1a82-4e64-994b-5e0fcce414fd\",\"type\":\"Line\"},{\"attributes\":{\"axis_label\":\"year\",\"formatter\":{\"id\":\"4bbb70d0-d77c-4a25-9c6c-a69cefa2bf3a\",\"type\":\"NumeralTickFormatter\"},\"plot\":{\"id\":\"7fec9f1d-dd5e-4190-8504-306a24d5e00d\",\"subtype\":\"Figure\",\"type\":\"Plot\"},\"ticker\":{\"id\":\"c39e52b8-3d29-47f4-8b0b-322bd44c28ac\",\"type\":\"BasicTicker\"}},\"id\":\"207b4466-ca88-49d1-9f26-955807101e3d\",\"type\":\"LinearAxis\"},{\"attributes\":{\"source\":{\"id\":\"30298d1a-bf36-4929-9444-6dbf57a5a316\",\"type\":\"ColumnDataSource\"}},\"id\":\"c4792b33-c64c-4f92-8bc3-1ffcbc80566f\",\"type\":\"CDSView\"},{\"attributes\":{\"label\":{\"value\":\"oklahoma\"},\"renderers\":[{\"id\":\"757b84f9-2781-415b-94a4-ce815968364d\",\"type\":\"GlyphRenderer\"}]},\"id\":\"8a5cec16-b950-4926-af15-cfaee7d76f87\",\"type\":\"LegendItem\"},{\"attributes\":{\"line_color\":{\"value\":\"#e6f598\"},\"x\":{\"field\":\"x\"},\"y\":{\"field\":\"y\"}},\"id\":\"5b48c5f6-7bb0-4dc6-bf7c-3973e9d554eb\",\"type\":\"Line\"},{\"attributes\":{\"data_source\":{\"id\":\"30298d1a-bf36-4929-9444-6dbf57a5a316\",\"type\":\"ColumnDataSource\"},\"glyph\":{\"id\":\"52bacb20-1531-4cbc-b1f5-a55d7ec05c0c\",\"type\":\"Line\"},\"hover_glyph\":null,\"muted_glyph\":null,\"nonselection_glyph\":{\"id\":\"b579e64a-9e39-4e0f-ba60-7a26b71dc9f8\",\"type\":\"Line\"},\"selection_glyph\":null,\"view\":{\"id\":\"c4792b33-c64c-4f92-8bc3-1ffcbc80566f\",\"type\":\"CDSView\"}},\"id\":\"c26b7d6f-5aa2-4c97-b0d8-9f6ab96449ad\",\"type\":\"GlyphRenderer\"},{\"attributes\":{},\"id\":\"c39e52b8-3d29-47f4-8b0b-322bd44c28ac\",\"type\":\"BasicTicker\"},{\"attributes\":{\"line_color\":{\"value\":\"#fc8d59\"},\"x\":{\"field\":\"x\"},\"y\":{\"field\":\"y\"}},\"id\":\"52bacb20-1531-4cbc-b1f5-a55d7ec05c0c\",\"type\":\"Line\"},{\"attributes\":{\"data_source\":{\"id\":\"25f39f85-96b0-4430-9ae4-80c5f1d045cb\",\"type\":\"ColumnDataSource\"},\"glyph\":{\"id\":\"5b48c5f6-7bb0-4dc6-bf7c-3973e9d554eb\",\"type\":\"Line\"},\"hover_glyph\":null,\"muted_glyph\":null,\"nonselection_glyph\":{\"id\":\"0b3a23f2-1a82-4e64-994b-5e0fcce414fd\",\"type\":\"Line\"},\"selection_glyph\":null,\"view\":{\"id\":\"fc207c5c-bd8d-4871-b4b0-8526b816df4d\",\"type\":\"CDSView\"}},\"id\":\"757b84f9-2781-415b-94a4-ce815968364d\",\"type\":\"GlyphRenderer\"},{\"attributes\":{\"line_alpha\":{\"value\":0.1},\"line_color\":{\"value\":\"#1f77b4\"},\"x\":{\"field\":\"x\"},\"y\":{\"field\":\"y\"}},\"id\":\"661dbc28-22de-498e-9e36-9de33dd3b1ae\",\"type\":\"Line\"},{\"attributes\":{\"callback\":null,\"show_arrow\":false,\"tooltips\":\"@location\"},\"id\":\"bd7adf3e-9659-4c94-8066-598eb8352ce4\",\"type\":\"HoverTool\"},{\"attributes\":{\"line_color\":{\"value\":\"#fee08b\"},\"x\":{\"field\":\"x\"},\"y\":{\"field\":\"y\"}},\"id\":\"c429a4ac-b92b-403e-a8ab-b933091ff1fd\",\"type\":\"Line\"},{\"attributes\":{},\"id\":\"4bbb70d0-d77c-4a25-9c6c-a69cefa2bf3a\",\"type\":\"NumeralTickFormatter\"},{\"attributes\":{\"line_alpha\":{\"value\":0.1},\"line_color\":{\"value\":\"#1f77b4\"},\"x\":{\"field\":\"x\"},\"y\":{\"field\":\"y\"}},\"id\":\"b579e64a-9e39-4e0f-ba60-7a26b71dc9f8\",\"type\":\"Line\"},{\"attributes\":{\"dimension\":1,\"plot\":{\"id\":\"7fec9f1d-dd5e-4190-8504-306a24d5e00d\",\"subtype\":\"Figure\",\"type\":\"Plot\"},\"ticker\":{\"id\":\"9e21d241-61d9-4289-bcfd-273e5eec156a\",\"type\":\"BasicTicker\"}},\"id\":\"6d14b029-5839-4b5c-87e8-f5a00f5d3689\",\"type\":\"Grid\"},{\"attributes\":{},\"id\":\"a82ea3a4-50c4-4f13-8801-0f43fbb355a4\",\"type\":\"LinearScale\"},{\"attributes\":{\"label\":{\"value\":\"wisconson\"},\"renderers\":[{\"id\":\"b47188aa-c6e3-4a78-b87e-14ebbb7bb85b\",\"type\":\"GlyphRenderer\"}]},\"id\":\"6f5ec4a0-e3ff-412a-8de6-749afe02e584\",\"type\":\"LegendItem\"},{\"attributes\":{},\"id\":\"0698d537-8c5e-4b6a-91fb-29ef9439e2ba\",\"type\":\"BasicTickFormatter\"},{\"attributes\":{\"plot\":{\"id\":\"7fec9f1d-dd5e-4190-8504-306a24d5e00d\",\"subtype\":\"Figure\",\"type\":\"Plot\"},\"ticker\":{\"id\":\"c39e52b8-3d29-47f4-8b0b-322bd44c28ac\",\"type\":\"BasicTicker\"}},\"id\":\"6e5b0157-86b0-4ea6-a591-d9397e0803e9\",\"type\":\"Grid\"},{\"attributes\":{\"callback\":null,\"column_names\":[\"x\",\"y\"],\"data\":{\"x\":[2010,2011,2012,2013,2014,2015,2016,2017],\"y\":[8,7,6,5,4,3,4,5]}},\"id\":\"30298d1a-bf36-4929-9444-6dbf57a5a316\",\"type\":\"ColumnDataSource\"},{\"attributes\":{\"below\":[{\"id\":\"207b4466-ca88-49d1-9f26-955807101e3d\",\"type\":\"LinearAxis\"}],\"left\":[{\"id\":\"1487100d-40ca-4bec-823b-1a4a6a95d019\",\"type\":\"LinearAxis\"}],\"plot_height\":400,\"renderers\":[{\"id\":\"207b4466-ca88-49d1-9f26-955807101e3d\",\"type\":\"LinearAxis\"},{\"id\":\"6e5b0157-86b0-4ea6-a591-d9397e0803e9\",\"type\":\"Grid\"},{\"id\":\"1487100d-40ca-4bec-823b-1a4a6a95d019\",\"type\":\"LinearAxis\"},{\"id\":\"6d14b029-5839-4b5c-87e8-f5a00f5d3689\",\"type\":\"Grid\"},{\"id\":\"6699f6d2-3554-445d-ae10-87bff659d2e7\",\"type\":\"Legend\"},{\"id\":\"4c43fb16-1fa6-44ab-a650-791213ff908b\",\"type\":\"GlyphRenderer\"},{\"id\":\"002cd9da-b894-40cd-97aa-73d6b2841779\",\"type\":\"GlyphRenderer\"},{\"id\":\"757b84f9-2781-415b-94a4-ce815968364d\",\"type\":\"GlyphRenderer\"},{\"id\":\"b47188aa-c6e3-4a78-b87e-14ebbb7bb85b\",\"type\":\"GlyphRenderer\"},{\"id\":\"c26b7d6f-5aa2-4c97-b0d8-9f6ab96449ad\",\"type\":\"GlyphRenderer\"}],\"title\":{\"id\":\"500528cc-a133-46ae-b733-e0ca9adaa83c\",\"type\":\"Title\"},\"toolbar\":{\"id\":\"05428171-071a-4698-8abe-1d9c747879e1\",\"type\":\"Toolbar\"},\"x_range\":{\"id\":\"2a7b7dfd-6bdd-485b-9e15-17b3683e55d1\",\"type\":\"DataRange1d\"},\"x_scale\":{\"id\":\"799e40ff-1bae-45df-a373-e348ad347136\",\"type\":\"LinearScale\"},\"y_range\":{\"id\":\"d0eb0391-7415-4f3d-a5aa-e7e3dddf31e7\",\"type\":\"DataRange1d\"},\"y_scale\":{\"id\":\"a82ea3a4-50c4-4f13-8801-0f43fbb355a4\",\"type\":\"LinearScale\"}},\"id\":\"7fec9f1d-dd5e-4190-8504-306a24d5e00d\",\"subtype\":\"Figure\",\"type\":\"Plot\"}],\"root_ids\":[\"7fec9f1d-dd5e-4190-8504-306a24d5e00d\"]},\"title\":\"Bokeh Application\",\"version\":\"0.12.10\"}};\n",
       "    var render_items = [{\"docid\":\"6310c14e-5c54-4565-b46d-cd6aac7fdf9c\",\"elementid\":\"a9ef7759-cdf1-4dc6-b673-6ab1d888c182\",\"modelid\":\"7fec9f1d-dd5e-4190-8504-306a24d5e00d\",\"notebook_comms_target\":\"f4d07852-7c94-40c3-a4dc-383294b98521\"}];\n",
       "\n",
       "    root.Bokeh.embed.embed_items(docs_json, render_items);\n",
       "  }\n",
       "\n",
       "  if (root.Bokeh !== undefined) {\n",
       "    embed_document(root);\n",
       "  } else {\n",
       "    var attempts = 0;\n",
       "    var timer = setInterval(function(root) {\n",
       "      if (root.Bokeh !== undefined) {\n",
       "        embed_document(root);\n",
       "        clearInterval(timer);\n",
       "      }\n",
       "      attempts++;\n",
       "      if (attempts > 100) {\n",
       "        console.log(\"Bokeh: ERROR: Unable to embed document because BokehJS library is missing\")\n",
       "        clearInterval(timer);\n",
       "      }\n",
       "    }, 10, root)\n",
       "  }\n",
       "})(window);"
      ],
      "application/vnd.bokehjs_exec.v0+json": ""
     },
     "metadata": {
      "application/vnd.bokehjs_exec.v0+json": {
       "id": "7fec9f1d-dd5e-4190-8504-306a24d5e00d"
      }
     },
     "output_type": "display_data"
    },
    {
     "data": {
      "text/html": [
       "<p><code>&lt;Bokeh Notebook handle for <strong>In[10]</strong>&gt;</code></p>"
      ],
      "text/plain": [
       "<bokeh.io.notebook.CommsHandle at 0x11acc2240>"
      ]
     },
     "execution_count": 10,
     "metadata": {},
     "output_type": "execute_result"
    }
   ],
   "source": [
    "from bokeh.transform import linear_cmap\n",
    "\n",
    "#mapper = linear_cmap(palette=Spectral6)\n",
    "\n",
    "p = figure(\n",
    "    title='costs per trainee',\n",
    "    tools=[HoverTool(tooltips='@location', show_arrow=False)],\n",
    "    **PLOT_OPTS)\n",
    "\n",
    "for i, x in enumerate(df_cost[df_cost.columns[1:]]):\n",
    "    colors = Spectral6\n",
    "    p.line(\n",
    "        df_cost['year'],\n",
    "        df_cost[x],\n",
    "        legend = x,\n",
    "        color = colors[i]\n",
    "        \n",
    "    )\n",
    "\n",
    "p.xaxis[0].formatter = NumeralTickFormatter()\n",
    "p.xaxis.axis_label = \"year\"\n",
    "p.yaxis.axis_label = \"Costs\"\n",
    "\n",
    "show(p, notebook_handle=True)"
   ]
  },
  {
   "cell_type": "code",
   "execution_count": 11,
   "metadata": {},
   "outputs": [
    {
     "name": "stderr",
     "output_type": "stream",
     "text": [
      "/Users/zach/anaconda3/lib/python3.6/site-packages/bokeh/models/sources.py:137: BokehUserWarning: ColumnDataSource's columns must be of the same length. Current lengths: ('line_color', 6), ('xs', 5), ('ys', 5)\n",
      "  \"Current lengths: %s\" % \", \".join(sorted(str((k, len(v))) for k, v in data.items())), BokehUserWarning))\n"
     ]
    },
    {
     "data": {
      "text/html": [
       "\n",
       "<div class=\"bk-root\">\n",
       "    <div class=\"bk-plotdiv\" id=\"a6ee834d-e41e-4c01-a87c-cef6b4c6cdc7\"></div>\n",
       "</div>"
      ]
     },
     "metadata": {},
     "output_type": "display_data"
    },
    {
     "data": {
      "application/javascript": [
       "(function(root) {\n",
       "  function embed_document(root) {\n",
       "    var docs_json = {\"509b64f7-f1bb-4ee4-be54-d5053ff3d493\":{\"roots\":{\"references\":[{\"attributes\":{\"callback\":null,\"show_arrow\":false,\"tooltips\":\"@location\"},\"id\":\"efb818e6-4f89-44f4-9452-ccf51cfbce8b\",\"type\":\"HoverTool\"},{\"attributes\":{\"dimension\":1,\"plot\":{\"id\":\"c939a28e-0c83-47cd-bc26-5e1269efd369\",\"subtype\":\"Figure\",\"type\":\"Plot\"},\"ticker\":{\"id\":\"26dd9292-7d33-4d2d-843e-990df8ed4ff3\",\"type\":\"BasicTicker\"}},\"id\":\"0ffa04e5-26e7-43bd-921d-456421a67df2\",\"type\":\"Grid\"},{\"attributes\":{},\"id\":\"58fb07b6-dfda-402d-8c5c-8f18493019cf\",\"type\":\"NumeralTickFormatter\"},{\"attributes\":{\"line_color\":{\"field\":\"line_color\"},\"line_width\":{\"value\":4},\"xs\":{\"field\":\"xs\"},\"ys\":{\"field\":\"ys\"}},\"id\":\"40a695b2-00cb-49f7-a6c2-7e7009c67791\",\"type\":\"MultiLine\"},{\"attributes\":{\"below\":[{\"id\":\"fd0ef4bc-703b-48bf-827e-db8898c0aee1\",\"type\":\"LinearAxis\"}],\"left\":[{\"id\":\"591005d5-88f6-4746-b618-7c4127a19c72\",\"type\":\"LinearAxis\"}],\"plot_height\":400,\"renderers\":[{\"id\":\"fd0ef4bc-703b-48bf-827e-db8898c0aee1\",\"type\":\"LinearAxis\"},{\"id\":\"795cdc2c-77a1-4cb1-a1ab-43683b604519\",\"type\":\"Grid\"},{\"id\":\"591005d5-88f6-4746-b618-7c4127a19c72\",\"type\":\"LinearAxis\"},{\"id\":\"0ffa04e5-26e7-43bd-921d-456421a67df2\",\"type\":\"Grid\"},{\"id\":\"0b32081e-f114-4e9b-8335-e92cb586a811\",\"type\":\"GlyphRenderer\"}],\"title\":{\"id\":\"a4dfefa5-85ca-4996-9cf7-473aa1dead63\",\"type\":\"Title\"},\"toolbar\":{\"id\":\"dc4f67d4-58b3-4fd4-bf80-12eb0b851bda\",\"type\":\"Toolbar\"},\"x_range\":{\"id\":\"9943d0f2-bf97-49ff-b881-944b9b37c0c5\",\"type\":\"DataRange1d\"},\"x_scale\":{\"id\":\"d1dd5144-2efa-44fd-a481-da9b6860678f\",\"type\":\"LinearScale\"},\"y_range\":{\"id\":\"b41cbc8a-3822-4910-90d6-43f4d67225a2\",\"type\":\"DataRange1d\"},\"y_scale\":{\"id\":\"56b47b7c-3eb0-452a-8107-7c74b3db3e61\",\"type\":\"LinearScale\"}},\"id\":\"c939a28e-0c83-47cd-bc26-5e1269efd369\",\"subtype\":\"Figure\",\"type\":\"Plot\"},{\"attributes\":{\"line_alpha\":{\"value\":0.1},\"line_color\":{\"value\":\"#1f77b4\"},\"line_width\":{\"value\":4},\"xs\":{\"field\":\"xs\"},\"ys\":{\"field\":\"ys\"}},\"id\":\"0019ea2f-117d-4ffa-8493-40aee43c1f46\",\"type\":\"MultiLine\"},{\"attributes\":{\"callback\":null},\"id\":\"9943d0f2-bf97-49ff-b881-944b9b37c0c5\",\"type\":\"DataRange1d\"},{\"attributes\":{\"plot\":null,\"text\":\"costs per trainee\"},\"id\":\"a4dfefa5-85ca-4996-9cf7-473aa1dead63\",\"type\":\"Title\"},{\"attributes\":{\"active_drag\":\"auto\",\"active_inspect\":\"auto\",\"active_scroll\":\"auto\",\"active_tap\":\"auto\",\"tools\":[{\"id\":\"efb818e6-4f89-44f4-9452-ccf51cfbce8b\",\"type\":\"HoverTool\"}]},\"id\":\"dc4f67d4-58b3-4fd4-bf80-12eb0b851bda\",\"type\":\"Toolbar\"},{\"attributes\":{\"callback\":null},\"id\":\"b41cbc8a-3822-4910-90d6-43f4d67225a2\",\"type\":\"DataRange1d\"},{\"attributes\":{},\"id\":\"d1dd5144-2efa-44fd-a481-da9b6860678f\",\"type\":\"LinearScale\"},{\"attributes\":{},\"id\":\"56b47b7c-3eb0-452a-8107-7c74b3db3e61\",\"type\":\"LinearScale\"},{\"attributes\":{\"plot\":{\"id\":\"c939a28e-0c83-47cd-bc26-5e1269efd369\",\"subtype\":\"Figure\",\"type\":\"Plot\"},\"ticker\":{\"id\":\"e432f89d-eb1d-489e-940a-c273bc11f560\",\"type\":\"BasicTicker\"}},\"id\":\"795cdc2c-77a1-4cb1-a1ab-43683b604519\",\"type\":\"Grid\"},{\"attributes\":{\"axis_label\":\"year\",\"formatter\":{\"id\":\"58fb07b6-dfda-402d-8c5c-8f18493019cf\",\"type\":\"NumeralTickFormatter\"},\"plot\":{\"id\":\"c939a28e-0c83-47cd-bc26-5e1269efd369\",\"subtype\":\"Figure\",\"type\":\"Plot\"},\"ticker\":{\"id\":\"e432f89d-eb1d-489e-940a-c273bc11f560\",\"type\":\"BasicTicker\"}},\"id\":\"fd0ef4bc-703b-48bf-827e-db8898c0aee1\",\"type\":\"LinearAxis\"},{\"attributes\":{},\"id\":\"e432f89d-eb1d-489e-940a-c273bc11f560\",\"type\":\"BasicTicker\"},{\"attributes\":{},\"id\":\"421b9795-44da-4d71-870a-cdb75d60fce8\",\"type\":\"BasicTickFormatter\"},{\"attributes\":{\"source\":{\"id\":\"a9fce084-b71f-4037-90f8-3b452f429662\",\"type\":\"ColumnDataSource\"}},\"id\":\"75984166-9fc2-4af0-94cc-4f08b55ed267\",\"type\":\"CDSView\"},{\"attributes\":{\"data_source\":{\"id\":\"a9fce084-b71f-4037-90f8-3b452f429662\",\"type\":\"ColumnDataSource\"},\"glyph\":{\"id\":\"40a695b2-00cb-49f7-a6c2-7e7009c67791\",\"type\":\"MultiLine\"},\"hover_glyph\":null,\"muted_glyph\":null,\"nonselection_glyph\":{\"id\":\"0019ea2f-117d-4ffa-8493-40aee43c1f46\",\"type\":\"MultiLine\"},\"selection_glyph\":null,\"view\":{\"id\":\"75984166-9fc2-4af0-94cc-4f08b55ed267\",\"type\":\"CDSView\"}},\"id\":\"0b32081e-f114-4e9b-8335-e92cb586a811\",\"type\":\"GlyphRenderer\"},{\"attributes\":{\"axis_label\":\"Costs\",\"formatter\":{\"id\":\"421b9795-44da-4d71-870a-cdb75d60fce8\",\"type\":\"BasicTickFormatter\"},\"plot\":{\"id\":\"c939a28e-0c83-47cd-bc26-5e1269efd369\",\"subtype\":\"Figure\",\"type\":\"Plot\"},\"ticker\":{\"id\":\"26dd9292-7d33-4d2d-843e-990df8ed4ff3\",\"type\":\"BasicTicker\"}},\"id\":\"591005d5-88f6-4746-b618-7c4127a19c72\",\"type\":\"LinearAxis\"},{\"attributes\":{\"callback\":null,\"column_names\":[\"xs\",\"ys\",\"line_color\"],\"data\":{\"line_color\":[\"#3288bd\",\"#99d594\",\"#e6f598\",\"#fee08b\",\"#fc8d59\",\"#d53e4f\"],\"xs\":[[2010,2011,2012,2013,2014,2015,2016,2017],[2010,2011,2012,2013,2014,2015,2016,2017],[2010,2011,2012,2013,2014,2015,2016,2017],[2010,2011,2012,2013,2014,2015,2016,2017],[2010,2011,2012,2013,2014,2015,2016,2017]],\"ys\":[[10,11,12,13,14,15,16,17],[15,16,17,11,12,13,14,15],[5,5,6,6,5,6,5,5],[7,8,7,6,5,6,8,10],[8,7,6,5,4,3,4,5]]}},\"id\":\"a9fce084-b71f-4037-90f8-3b452f429662\",\"type\":\"ColumnDataSource\"},{\"attributes\":{},\"id\":\"26dd9292-7d33-4d2d-843e-990df8ed4ff3\",\"type\":\"BasicTicker\"}],\"root_ids\":[\"c939a28e-0c83-47cd-bc26-5e1269efd369\"]},\"title\":\"Bokeh Application\",\"version\":\"0.12.10\"}};\n",
       "    var render_items = [{\"docid\":\"509b64f7-f1bb-4ee4-be54-d5053ff3d493\",\"elementid\":\"a6ee834d-e41e-4c01-a87c-cef6b4c6cdc7\",\"modelid\":\"c939a28e-0c83-47cd-bc26-5e1269efd369\",\"notebook_comms_target\":\"a4c99e1d-1c2b-4849-acb2-ed81c538287a\"}];\n",
       "\n",
       "    root.Bokeh.embed.embed_items(docs_json, render_items);\n",
       "  }\n",
       "\n",
       "  if (root.Bokeh !== undefined) {\n",
       "    embed_document(root);\n",
       "  } else {\n",
       "    var attempts = 0;\n",
       "    var timer = setInterval(function(root) {\n",
       "      if (root.Bokeh !== undefined) {\n",
       "        embed_document(root);\n",
       "        clearInterval(timer);\n",
       "      }\n",
       "      attempts++;\n",
       "      if (attempts > 100) {\n",
       "        console.log(\"Bokeh: ERROR: Unable to embed document because BokehJS library is missing\")\n",
       "        clearInterval(timer);\n",
       "      }\n",
       "    }, 10, root)\n",
       "  }\n",
       "})(window);"
      ],
      "application/vnd.bokehjs_exec.v0+json": ""
     },
     "metadata": {
      "application/vnd.bokehjs_exec.v0+json": {
       "id": "c939a28e-0c83-47cd-bc26-5e1269efd369"
      }
     },
     "output_type": "display_data"
    },
    {
     "data": {
      "text/html": [
       "<p><code>&lt;Bokeh Notebook handle for <strong>In[11]</strong>&gt;</code></p>"
      ],
      "text/plain": [
       "<bokeh.io.notebook.CommsHandle at 0x11ad0dc18>"
      ]
     },
     "execution_count": 11,
     "metadata": {},
     "output_type": "execute_result"
    }
   ],
   "source": [
    "p = figure(\n",
    "    title='costs per trainee',\n",
    "    tools=[HoverTool(tooltips='@location', show_arrow=False)],\n",
    "    **PLOT_OPTS)\n",
    "\n",
    "p.multi_line(\n",
    "    [df_cost['year'], df_cost['year'], df_cost['year'], df_cost['year'], df_cost['year']],\n",
    "    [df_cost['new_york'], df_cost['california'], df_cost['oklahoma'], df_cost['wisconson'], df_cost['florida']],\n",
    "    color=Spectral6,\n",
    "    line_width=4,\n",
    ")\n",
    "\n",
    "p.xaxis[0].formatter = NumeralTickFormatter()\n",
    "p.xaxis.axis_label = \"year\"\n",
    "p.yaxis.axis_label = \"Costs\"\n",
    "\n",
    "show(p, notebook_handle=True)"
   ]
  },
  {
   "cell_type": "code",
   "execution_count": 12,
   "metadata": {},
   "outputs": [
    {
     "data": {
      "text/html": [
       "<div>\n",
       "<style scoped>\n",
       "    .dataframe tbody tr th:only-of-type {\n",
       "        vertical-align: middle;\n",
       "    }\n",
       "\n",
       "    .dataframe tbody tr th {\n",
       "        vertical-align: top;\n",
       "    }\n",
       "\n",
       "    .dataframe thead th {\n",
       "        text-align: right;\n",
       "    }\n",
       "</style>\n",
       "<table border=\"1\" class=\"dataframe\">\n",
       "  <thead>\n",
       "    <tr style=\"text-align: right;\">\n",
       "      <th></th>\n",
       "      <th>facility</th>\n",
       "      <th>cost_per_trainee</th>\n",
       "      <th>time_per_trainee</th>\n",
       "    </tr>\n",
       "  </thead>\n",
       "  <tbody>\n",
       "    <tr>\n",
       "      <th>0</th>\n",
       "      <td>new_york</td>\n",
       "      <td>17</td>\n",
       "      <td>95</td>\n",
       "    </tr>\n",
       "    <tr>\n",
       "      <th>1</th>\n",
       "      <td>california</td>\n",
       "      <td>15</td>\n",
       "      <td>90</td>\n",
       "    </tr>\n",
       "    <tr>\n",
       "      <th>2</th>\n",
       "      <td>oklahoma</td>\n",
       "      <td>5</td>\n",
       "      <td>10</td>\n",
       "    </tr>\n",
       "    <tr>\n",
       "      <th>3</th>\n",
       "      <td>wisconson</td>\n",
       "      <td>10</td>\n",
       "      <td>70</td>\n",
       "    </tr>\n",
       "    <tr>\n",
       "      <th>4</th>\n",
       "      <td>florida</td>\n",
       "      <td>5</td>\n",
       "      <td>25</td>\n",
       "    </tr>\n",
       "  </tbody>\n",
       "</table>\n",
       "</div>"
      ],
      "text/plain": [
       "     facility  cost_per_trainee  time_per_trainee\n",
       "0    new_york                17                95\n",
       "1  california                15                90\n",
       "2    oklahoma                 5                10\n",
       "3   wisconson                10                70\n",
       "4     florida                 5                25"
      ]
     },
     "execution_count": 12,
     "metadata": {},
     "output_type": "execute_result"
    }
   ],
   "source": [
    "df_bar.head()"
   ]
  },
  {
   "cell_type": "code",
   "execution_count": 20,
   "metadata": {},
   "outputs": [
    {
     "name": "stderr",
     "output_type": "stream",
     "text": [
      "/Users/zach/anaconda3/lib/python3.6/site-packages/bokeh/models/sources.py:137: BokehUserWarning: ColumnDataSource's columns must be of the same length. Current lengths: ('fill_color', 6), ('top', 5), ('x', 5)\n",
      "  \"Current lengths: %s\" % \", \".join(sorted(str((k, len(v))) for k, v in data.items())), BokehUserWarning))\n",
      "/Users/zach/anaconda3/lib/python3.6/site-packages/bokeh/models/sources.py:137: BokehUserWarning: ColumnDataSource's columns must be of the same length. Current lengths: ('fill_color', 6), ('line_color', 6), ('top', 5), ('x', 5)\n",
      "  \"Current lengths: %s\" % \", \".join(sorted(str((k, len(v))) for k, v in data.items())), BokehUserWarning))\n"
     ]
    },
    {
     "data": {
      "text/html": [
       "\n",
       "<div class=\"bk-root\">\n",
       "    <div class=\"bk-plotdiv\" id=\"bc5d7102-e9a8-4227-8d10-e3ad02a72154\"></div>\n",
       "</div>"
      ]
     },
     "metadata": {},
     "output_type": "display_data"
    },
    {
     "data": {
      "application/javascript": [
       "(function(root) {\n",
       "  function embed_document(root) {\n",
       "    var docs_json = {\"bb1805a8-d6bb-48ab-9b21-4d4124744685\":{\"roots\":{\"references\":[{\"attributes\":{},\"id\":\"84a2f300-441a-40da-8e66-685406cd20a7\",\"type\":\"CategoricalScale\"},{\"attributes\":{\"callback\":null,\"column_names\":[\"x\",\"top\",\"fill_color\",\"line_color\"],\"data\":{\"fill_color\":[\"#3288bd\",\"#99d594\",\"#e6f598\",\"#fee08b\",\"#fc8d59\",\"#d53e4f\"],\"line_color\":[\"#3288bd\",\"#99d594\",\"#e6f598\",\"#fee08b\",\"#fc8d59\",\"#d53e4f\"],\"top\":[17,15,5,10,5],\"x\":[\"new_york\",\"california\",\"oklahoma\",\"wisconson\",\"florida\"]}},\"id\":\"031f06c3-e734-49f6-93db-584f124ef2d6\",\"type\":\"ColumnDataSource\"},{\"attributes\":{\"data_source\":{\"id\":\"031f06c3-e734-49f6-93db-584f124ef2d6\",\"type\":\"ColumnDataSource\"},\"glyph\":{\"id\":\"d58eb345-9a37-4f86-bcc3-1d4e9bbf35fc\",\"type\":\"VBar\"},\"hover_glyph\":null,\"muted_glyph\":null,\"nonselection_glyph\":{\"id\":\"fc9e116b-fe5d-4af8-b83e-1c99250745c1\",\"type\":\"VBar\"},\"selection_glyph\":null,\"view\":{\"id\":\"859761bd-1b24-4237-ace7-92879ff3c5a5\",\"type\":\"CDSView\"}},\"id\":\"279d9ed1-9bf6-40c3-841b-4cba4f5e517d\",\"type\":\"GlyphRenderer\"},{\"attributes\":{\"plot\":null,\"text\":\"Costs\"},\"id\":\"dca7076e-d359-4668-a34d-264e476ad63f\",\"type\":\"Title\"},{\"attributes\":{\"fill_alpha\":{\"value\":0.1},\"fill_color\":{\"value\":\"#1f77b4\"},\"line_alpha\":{\"value\":0.1},\"line_color\":{\"value\":\"#1f77b4\"},\"top\":{\"field\":\"top\"},\"width\":{\"value\":0.9},\"x\":{\"field\":\"x\"}},\"id\":\"fc9e116b-fe5d-4af8-b83e-1c99250745c1\",\"type\":\"VBar\"},{\"attributes\":{\"callback\":null,\"factors\":[\"new_york\",\"california\",\"oklahoma\",\"wisconson\",\"florida\"]},\"id\":\"843e257b-77a3-4b33-aec0-976e05a62071\",\"type\":\"FactorRange\"},{\"attributes\":{\"formatter\":{\"id\":\"be54ebb4-65cd-4dd8-8a1d-6bc1b057a820\",\"type\":\"CategoricalTickFormatter\"},\"plot\":{\"id\":\"73e621a4-86b0-48c6-b35b-db3894b125fe\",\"subtype\":\"Figure\",\"type\":\"Plot\"},\"ticker\":{\"id\":\"a9d3ec9b-680d-4cde-af6d-21b36dd7eb3c\",\"type\":\"CategoricalTicker\"}},\"id\":\"70689435-8c4d-4cd0-a3e7-a2fb368b32ef\",\"type\":\"CategoricalAxis\"},{\"attributes\":{},\"id\":\"be54ebb4-65cd-4dd8-8a1d-6bc1b057a820\",\"type\":\"CategoricalTickFormatter\"},{\"attributes\":{\"dimension\":1,\"plot\":{\"id\":\"73e621a4-86b0-48c6-b35b-db3894b125fe\",\"subtype\":\"Figure\",\"type\":\"Plot\"},\"ticker\":{\"id\":\"18aa4304-6431-4f50-8cd9-aae1b5d8f930\",\"type\":\"BasicTicker\"}},\"id\":\"6fba925c-c4d7-4b00-8f87-c4eb7cbdc249\",\"type\":\"Grid\"},{\"attributes\":{\"formatter\":{\"id\":\"6e0c58b1-cc33-4784-83c6-1d89e3fbfb0c\",\"type\":\"BasicTickFormatter\"},\"plot\":{\"id\":\"73e621a4-86b0-48c6-b35b-db3894b125fe\",\"subtype\":\"Figure\",\"type\":\"Plot\"},\"ticker\":{\"id\":\"18aa4304-6431-4f50-8cd9-aae1b5d8f930\",\"type\":\"BasicTicker\"}},\"id\":\"843ac131-b446-4f62-9133-92bfcf1cc4a2\",\"type\":\"LinearAxis\"},{\"attributes\":{},\"id\":\"a9d3ec9b-680d-4cde-af6d-21b36dd7eb3c\",\"type\":\"CategoricalTicker\"},{\"attributes\":{\"fill_color\":{\"field\":\"fill_color\"},\"line_color\":{\"field\":\"line_color\"},\"top\":{\"field\":\"top\"},\"width\":{\"value\":0.9},\"x\":{\"field\":\"x\"}},\"id\":\"d58eb345-9a37-4f86-bcc3-1d4e9bbf35fc\",\"type\":\"VBar\"},{\"attributes\":{},\"id\":\"18aa4304-6431-4f50-8cd9-aae1b5d8f930\",\"type\":\"BasicTicker\"},{\"attributes\":{},\"id\":\"b8cb478a-c94d-4324-b766-455e1788d3ea\",\"type\":\"LinearScale\"},{\"attributes\":{\"source\":{\"id\":\"031f06c3-e734-49f6-93db-584f124ef2d6\",\"type\":\"ColumnDataSource\"}},\"id\":\"859761bd-1b24-4237-ace7-92879ff3c5a5\",\"type\":\"CDSView\"},{\"attributes\":{\"below\":[{\"id\":\"70689435-8c4d-4cd0-a3e7-a2fb368b32ef\",\"type\":\"CategoricalAxis\"}],\"left\":[{\"id\":\"843ac131-b446-4f62-9133-92bfcf1cc4a2\",\"type\":\"LinearAxis\"}],\"plot_height\":250,\"renderers\":[{\"id\":\"70689435-8c4d-4cd0-a3e7-a2fb368b32ef\",\"type\":\"CategoricalAxis\"},{\"id\":\"bc894323-b3c7-4195-9d59-f6d9756684eb\",\"type\":\"Grid\"},{\"id\":\"843ac131-b446-4f62-9133-92bfcf1cc4a2\",\"type\":\"LinearAxis\"},{\"id\":\"6fba925c-c4d7-4b00-8f87-c4eb7cbdc249\",\"type\":\"Grid\"},{\"id\":\"279d9ed1-9bf6-40c3-841b-4cba4f5e517d\",\"type\":\"GlyphRenderer\"}],\"title\":{\"id\":\"dca7076e-d359-4668-a34d-264e476ad63f\",\"type\":\"Title\"},\"toolbar\":{\"id\":\"1bc8e8f3-de5b-47a2-b32e-d0a2ab72f53d\",\"type\":\"Toolbar\"},\"toolbar_location\":null,\"x_range\":{\"id\":\"843e257b-77a3-4b33-aec0-976e05a62071\",\"type\":\"FactorRange\"},\"x_scale\":{\"id\":\"84a2f300-441a-40da-8e66-685406cd20a7\",\"type\":\"CategoricalScale\"},\"y_range\":{\"id\":\"11fc461c-c66d-44b8-ac8f-17a304ffc137\",\"type\":\"DataRange1d\"},\"y_scale\":{\"id\":\"b8cb478a-c94d-4324-b766-455e1788d3ea\",\"type\":\"LinearScale\"}},\"id\":\"73e621a4-86b0-48c6-b35b-db3894b125fe\",\"subtype\":\"Figure\",\"type\":\"Plot\"},{\"attributes\":{},\"id\":\"6e0c58b1-cc33-4784-83c6-1d89e3fbfb0c\",\"type\":\"BasicTickFormatter\"},{\"attributes\":{\"callback\":null,\"start\":0},\"id\":\"11fc461c-c66d-44b8-ac8f-17a304ffc137\",\"type\":\"DataRange1d\"},{\"attributes\":{\"grid_line_color\":{\"value\":null},\"plot\":{\"id\":\"73e621a4-86b0-48c6-b35b-db3894b125fe\",\"subtype\":\"Figure\",\"type\":\"Plot\"},\"ticker\":{\"id\":\"a9d3ec9b-680d-4cde-af6d-21b36dd7eb3c\",\"type\":\"CategoricalTicker\"}},\"id\":\"bc894323-b3c7-4195-9d59-f6d9756684eb\",\"type\":\"Grid\"},{\"attributes\":{\"active_drag\":\"auto\",\"active_inspect\":\"auto\",\"active_scroll\":\"auto\",\"active_tap\":\"auto\"},\"id\":\"1bc8e8f3-de5b-47a2-b32e-d0a2ab72f53d\",\"type\":\"Toolbar\"}],\"root_ids\":[\"73e621a4-86b0-48c6-b35b-db3894b125fe\"]},\"title\":\"Bokeh Application\",\"version\":\"0.12.10\"}};\n",
       "    var render_items = [{\"docid\":\"bb1805a8-d6bb-48ab-9b21-4d4124744685\",\"elementid\":\"bc5d7102-e9a8-4227-8d10-e3ad02a72154\",\"modelid\":\"73e621a4-86b0-48c6-b35b-db3894b125fe\"}];\n",
       "\n",
       "    root.Bokeh.embed.embed_items(docs_json, render_items);\n",
       "  }\n",
       "\n",
       "  if (root.Bokeh !== undefined) {\n",
       "    embed_document(root);\n",
       "  } else {\n",
       "    var attempts = 0;\n",
       "    var timer = setInterval(function(root) {\n",
       "      if (root.Bokeh !== undefined) {\n",
       "        embed_document(root);\n",
       "        clearInterval(timer);\n",
       "      }\n",
       "      attempts++;\n",
       "      if (attempts > 100) {\n",
       "        console.log(\"Bokeh: ERROR: Unable to embed document because BokehJS library is missing\")\n",
       "        clearInterval(timer);\n",
       "      }\n",
       "    }, 10, root)\n",
       "  }\n",
       "})(window);"
      ],
      "application/vnd.bokehjs_exec.v0+json": ""
     },
     "metadata": {
      "application/vnd.bokehjs_exec.v0+json": {
       "id": "73e621a4-86b0-48c6-b35b-db3894b125fe"
      }
     },
     "output_type": "display_data"
    }
   ],
   "source": [
    "p = figure(x_range= list(df_bar['facility']), plot_height=250, title=\"Costs\",\n",
    "           toolbar_location=None, tools=\"\")\n",
    "\n",
    "p.vbar(x=df_bar['facility'], top=df_bar['cost_per_trainee'], width=0.9, color=Spectral6)\n",
    "\n",
    "p.xgrid.grid_line_color = None\n",
    "p.y_range.start = 0\n",
    "\n",
    "show(p)"
   ]
  },
  {
   "cell_type": "code",
   "execution_count": 73,
   "metadata": {},
   "outputs": [
    {
     "data": {
      "text/html": [
       "\n",
       "<div class=\"bk-root\">\n",
       "    <div class=\"bk-plotdiv\" id=\"8671e76b-031c-4424-93af-ca1de278e32d\"></div>\n",
       "</div>"
      ]
     },
     "metadata": {},
     "output_type": "display_data"
    },
    {
     "data": {
      "application/javascript": [
       "(function(root) {\n",
       "  function embed_document(root) {\n",
       "    var docs_json = {\"6acbbdf9-d6bb-43ef-895c-6804b6131b68\":{\"roots\":{\"references\":[{\"attributes\":{\"items\":[{\"id\":\"ee256495-d313-4d88-872c-019a74e2bee9\",\"type\":\"LegendItem\"},{\"id\":\"4d592d2b-d078-439a-ac55-2386b18851a5\",\"type\":\"LegendItem\"}],\"plot\":{\"id\":\"846de9d0-e4fd-4689-bd45-dc8a6f2927ba\",\"subtype\":\"Figure\",\"type\":\"Plot\"}},\"id\":\"728809c2-759c-4981-80f9-5e23df1ef993\",\"type\":\"Legend\"},{\"attributes\":{\"label\":{\"value\":\"cost\"},\"renderers\":[{\"id\":\"4ee5555a-1744-43a4-9b86-03abcc784b91\",\"type\":\"GlyphRenderer\"}]},\"id\":\"ee256495-d313-4d88-872c-019a74e2bee9\",\"type\":\"LegendItem\"},{\"attributes\":{\"callback\":null,\"end\":95},\"id\":\"89d0d8a9-fcf6-4cc5-8c00-6ed433969a2a\",\"type\":\"Range1d\"},{\"attributes\":{\"data_source\":{\"id\":\"e6948c48-0aa9-4f9a-9b75-06d63a92b3a2\",\"type\":\"ColumnDataSource\"},\"glyph\":{\"id\":\"c8dec44a-c464-482e-9129-b610e90f29c9\",\"type\":\"VBar\"},\"hover_glyph\":null,\"muted_glyph\":null,\"nonselection_glyph\":{\"id\":\"64ad9178-dd2d-48d8-b791-7d0fb5c7377b\",\"type\":\"VBar\"},\"selection_glyph\":null,\"view\":{\"id\":\"3d609d83-a94c-400a-9a95-a86542ccfb2a\",\"type\":\"CDSView\"}},\"id\":\"4ee5555a-1744-43a4-9b86-03abcc784b91\",\"type\":\"GlyphRenderer\"},{\"attributes\":{},\"id\":\"5fb2b828-0d9e-4ef1-8b74-230f00b2931a\",\"type\":\"BasicTickFormatter\"},{\"attributes\":{\"source\":{\"id\":\"e6948c48-0aa9-4f9a-9b75-06d63a92b3a2\",\"type\":\"ColumnDataSource\"}},\"id\":\"3d609d83-a94c-400a-9a95-a86542ccfb2a\",\"type\":\"CDSView\"},{\"attributes\":{},\"id\":\"d3e7f386-7bb9-4e1a-bdaf-a65a5b27f32e\",\"type\":\"CategoricalTickFormatter\"},{\"attributes\":{\"formatter\":{\"id\":\"1f1afde7-b21f-45a7-915a-26f9aafb577c\",\"type\":\"BasicTickFormatter\"},\"plot\":{\"id\":\"846de9d0-e4fd-4689-bd45-dc8a6f2927ba\",\"subtype\":\"Figure\",\"type\":\"Plot\"},\"ticker\":{\"id\":\"0c595e99-2b1a-4a2d-bdee-e459d4fc05dc\",\"type\":\"BasicTicker\"},\"y_range_name\":\"foo\"},\"id\":\"da312f87-738b-41e0-9dc3-12cc9cc38303\",\"type\":\"LinearAxis\"},{\"attributes\":{\"fill_alpha\":{\"value\":0.1},\"fill_color\":{\"value\":\"#1f77b4\"},\"line_alpha\":{\"value\":0.1},\"line_color\":{\"value\":\"#1f77b4\"},\"top\":{\"field\":\"time\"},\"width\":{\"value\":0.2},\"x\":{\"field\":\"facility\",\"transform\":{\"id\":\"37974443-bbba-4ca6-a4db-6cd6e3703dbd\",\"type\":\"Dodge\"}}},\"id\":\"e8cf30e6-4c16-481c-9c88-95ed3a7d3019\",\"type\":\"VBar\"},{\"attributes\":{\"fill_color\":{\"value\":\"red\"},\"line_color\":{\"value\":\"red\"},\"top\":{\"field\":\"time\"},\"width\":{\"value\":0.2},\"x\":{\"field\":\"facility\",\"transform\":{\"id\":\"37974443-bbba-4ca6-a4db-6cd6e3703dbd\",\"type\":\"Dodge\"}}},\"id\":\"3b06e48e-f02f-475d-acc6-38c40c84187e\",\"type\":\"VBar\"},{\"attributes\":{},\"id\":\"0c595e99-2b1a-4a2d-bdee-e459d4fc05dc\",\"type\":\"BasicTicker\"},{\"attributes\":{\"label\":{\"value\":\"time\"},\"renderers\":[{\"id\":\"dd1183c0-ffef-4637-aeca-260e5f3e1c5d\",\"type\":\"GlyphRenderer\"}]},\"id\":\"4d592d2b-d078-439a-ac55-2386b18851a5\",\"type\":\"LegendItem\"},{\"attributes\":{\"data_source\":{\"id\":\"e6948c48-0aa9-4f9a-9b75-06d63a92b3a2\",\"type\":\"ColumnDataSource\"},\"glyph\":{\"id\":\"3b06e48e-f02f-475d-acc6-38c40c84187e\",\"type\":\"VBar\"},\"hover_glyph\":null,\"muted_glyph\":null,\"nonselection_glyph\":{\"id\":\"e8cf30e6-4c16-481c-9c88-95ed3a7d3019\",\"type\":\"VBar\"},\"selection_glyph\":null,\"view\":{\"id\":\"fd92a992-0db4-4259-950e-eadaa04bdb83\",\"type\":\"CDSView\"},\"y_range_name\":\"foo\"},\"id\":\"dd1183c0-ffef-4637-aeca-260e5f3e1c5d\",\"type\":\"GlyphRenderer\"},{\"attributes\":{\"source\":{\"id\":\"e6948c48-0aa9-4f9a-9b75-06d63a92b3a2\",\"type\":\"ColumnDataSource\"}},\"id\":\"fd92a992-0db4-4259-950e-eadaa04bdb83\",\"type\":\"CDSView\"},{\"attributes\":{\"below\":[{\"id\":\"df9cf312-10c8-43fb-b154-09aa58c7e9fc\",\"type\":\"CategoricalAxis\"}],\"extra_y_ranges\":{\"foo\":{\"id\":\"89d0d8a9-fcf6-4cc5-8c00-6ed433969a2a\",\"type\":\"Range1d\"}},\"left\":[{\"id\":\"1c6a2ff7-db71-4681-82b9-f0859bbdf464\",\"type\":\"LinearAxis\"}],\"plot_height\":250,\"renderers\":[{\"id\":\"df9cf312-10c8-43fb-b154-09aa58c7e9fc\",\"type\":\"CategoricalAxis\"},{\"id\":\"e702dcbf-8ee4-48af-a4e6-8afad2eb5acc\",\"type\":\"Grid\"},{\"id\":\"1c6a2ff7-db71-4681-82b9-f0859bbdf464\",\"type\":\"LinearAxis\"},{\"id\":\"3ef0a7d5-3561-491c-a204-eae9378d7811\",\"type\":\"Grid\"},{\"id\":\"728809c2-759c-4981-80f9-5e23df1ef993\",\"type\":\"Legend\"},{\"id\":\"4ee5555a-1744-43a4-9b86-03abcc784b91\",\"type\":\"GlyphRenderer\"},{\"id\":\"da312f87-738b-41e0-9dc3-12cc9cc38303\",\"type\":\"LinearAxis\"},{\"id\":\"dd1183c0-ffef-4637-aeca-260e5f3e1c5d\",\"type\":\"GlyphRenderer\"}],\"right\":[{\"id\":\"da312f87-738b-41e0-9dc3-12cc9cc38303\",\"type\":\"LinearAxis\"}],\"title\":{\"id\":\"e1cafea0-cba8-4260-a320-a9560f0bf424\",\"type\":\"Title\"},\"toolbar\":{\"id\":\"a8b6d16b-0bdd-4470-b769-0ea6b3c61c14\",\"type\":\"Toolbar\"},\"toolbar_location\":null,\"x_range\":{\"id\":\"9954dc97-7172-41ba-9f22-2a0b84aa1dcd\",\"type\":\"FactorRange\"},\"x_scale\":{\"id\":\"f270daaf-8145-4865-b5e7-ac1cdea9a879\",\"type\":\"CategoricalScale\"},\"y_range\":{\"id\":\"d30ab422-40b0-41eb-b800-fa248353721f\",\"type\":\"Range1d\"},\"y_scale\":{\"id\":\"13ee72a2-7186-4ce6-83a7-3d141ec00ca3\",\"type\":\"LinearScale\"}},\"id\":\"846de9d0-e4fd-4689-bd45-dc8a6f2927ba\",\"subtype\":\"Figure\",\"type\":\"Plot\"},{\"attributes\":{},\"id\":\"1f1afde7-b21f-45a7-915a-26f9aafb577c\",\"type\":\"BasicTickFormatter\"},{\"attributes\":{\"callback\":null,\"column_names\":[\"facility\",\"cost\",\"time\"],\"data\":{\"cost\":[17,15,5,10,5],\"facility\":[\"new_york\",\"california\",\"oklahoma\",\"wisconson\",\"florida\"],\"time\":[95,90,10,70,25]}},\"id\":\"e6948c48-0aa9-4f9a-9b75-06d63a92b3a2\",\"type\":\"ColumnDataSource\"},{\"attributes\":{\"callback\":null,\"end\":17},\"id\":\"d30ab422-40b0-41eb-b800-fa248353721f\",\"type\":\"Range1d\"},{\"attributes\":{\"range\":{\"id\":\"9954dc97-7172-41ba-9f22-2a0b84aa1dcd\",\"type\":\"FactorRange\"},\"value\":-0.1},\"id\":\"1ad5e97f-ea61-4044-82de-d134199411f5\",\"type\":\"Dodge\"},{\"attributes\":{\"plot\":null,\"text\":\"Costs\"},\"id\":\"e1cafea0-cba8-4260-a320-a9560f0bf424\",\"type\":\"Title\"},{\"attributes\":{\"callback\":null,\"factors\":[\"new_york\",\"california\",\"oklahoma\",\"wisconson\",\"florida\"]},\"id\":\"9954dc97-7172-41ba-9f22-2a0b84aa1dcd\",\"type\":\"FactorRange\"},{\"attributes\":{\"active_drag\":\"auto\",\"active_inspect\":\"auto\",\"active_scroll\":\"auto\",\"active_tap\":\"auto\"},\"id\":\"a8b6d16b-0bdd-4470-b769-0ea6b3c61c14\",\"type\":\"Toolbar\"},{\"attributes\":{\"formatter\":{\"id\":\"5fb2b828-0d9e-4ef1-8b74-230f00b2931a\",\"type\":\"BasicTickFormatter\"},\"plot\":{\"id\":\"846de9d0-e4fd-4689-bd45-dc8a6f2927ba\",\"subtype\":\"Figure\",\"type\":\"Plot\"},\"ticker\":{\"id\":\"7310aaa9-241a-4266-b25f-c8b1d5e8ea43\",\"type\":\"BasicTicker\"}},\"id\":\"1c6a2ff7-db71-4681-82b9-f0859bbdf464\",\"type\":\"LinearAxis\"},{\"attributes\":{},\"id\":\"f270daaf-8145-4865-b5e7-ac1cdea9a879\",\"type\":\"CategoricalScale\"},{\"attributes\":{\"range\":{\"id\":\"9954dc97-7172-41ba-9f22-2a0b84aa1dcd\",\"type\":\"FactorRange\"},\"value\":0.1},\"id\":\"37974443-bbba-4ca6-a4db-6cd6e3703dbd\",\"type\":\"Dodge\"},{\"attributes\":{},\"id\":\"13ee72a2-7186-4ce6-83a7-3d141ec00ca3\",\"type\":\"LinearScale\"},{\"attributes\":{\"grid_line_color\":{\"value\":null},\"plot\":{\"id\":\"846de9d0-e4fd-4689-bd45-dc8a6f2927ba\",\"subtype\":\"Figure\",\"type\":\"Plot\"},\"ticker\":{\"id\":\"6dc56845-284d-451b-9e31-9b455eccca65\",\"type\":\"CategoricalTicker\"}},\"id\":\"e702dcbf-8ee4-48af-a4e6-8afad2eb5acc\",\"type\":\"Grid\"},{\"attributes\":{\"fill_alpha\":{\"value\":0.1},\"fill_color\":{\"value\":\"#1f77b4\"},\"line_alpha\":{\"value\":0.1},\"line_color\":{\"value\":\"#1f77b4\"},\"top\":{\"field\":\"cost\"},\"width\":{\"value\":0.2},\"x\":{\"field\":\"facility\",\"transform\":{\"id\":\"1ad5e97f-ea61-4044-82de-d134199411f5\",\"type\":\"Dodge\"}}},\"id\":\"64ad9178-dd2d-48d8-b791-7d0fb5c7377b\",\"type\":\"VBar\"},{\"attributes\":{\"fill_color\":{\"value\":\"#1f77b4\"},\"line_color\":{\"value\":\"#1f77b4\"},\"top\":{\"field\":\"cost\"},\"width\":{\"value\":0.2},\"x\":{\"field\":\"facility\",\"transform\":{\"id\":\"1ad5e97f-ea61-4044-82de-d134199411f5\",\"type\":\"Dodge\"}}},\"id\":\"c8dec44a-c464-482e-9129-b610e90f29c9\",\"type\":\"VBar\"},{\"attributes\":{\"formatter\":{\"id\":\"d3e7f386-7bb9-4e1a-bdaf-a65a5b27f32e\",\"type\":\"CategoricalTickFormatter\"},\"plot\":{\"id\":\"846de9d0-e4fd-4689-bd45-dc8a6f2927ba\",\"subtype\":\"Figure\",\"type\":\"Plot\"},\"ticker\":{\"id\":\"6dc56845-284d-451b-9e31-9b455eccca65\",\"type\":\"CategoricalTicker\"}},\"id\":\"df9cf312-10c8-43fb-b154-09aa58c7e9fc\",\"type\":\"CategoricalAxis\"},{\"attributes\":{},\"id\":\"6dc56845-284d-451b-9e31-9b455eccca65\",\"type\":\"CategoricalTicker\"},{\"attributes\":{},\"id\":\"7310aaa9-241a-4266-b25f-c8b1d5e8ea43\",\"type\":\"BasicTicker\"},{\"attributes\":{\"dimension\":1,\"plot\":{\"id\":\"846de9d0-e4fd-4689-bd45-dc8a6f2927ba\",\"subtype\":\"Figure\",\"type\":\"Plot\"},\"ticker\":{\"id\":\"7310aaa9-241a-4266-b25f-c8b1d5e8ea43\",\"type\":\"BasicTicker\"}},\"id\":\"3ef0a7d5-3561-491c-a204-eae9378d7811\",\"type\":\"Grid\"}],\"root_ids\":[\"846de9d0-e4fd-4689-bd45-dc8a6f2927ba\"]},\"title\":\"Bokeh Application\",\"version\":\"0.12.10\"}};\n",
       "    var render_items = [{\"docid\":\"6acbbdf9-d6bb-43ef-895c-6804b6131b68\",\"elementid\":\"8671e76b-031c-4424-93af-ca1de278e32d\",\"modelid\":\"846de9d0-e4fd-4689-bd45-dc8a6f2927ba\"}];\n",
       "\n",
       "    root.Bokeh.embed.embed_items(docs_json, render_items);\n",
       "  }\n",
       "\n",
       "  if (root.Bokeh !== undefined) {\n",
       "    embed_document(root);\n",
       "  } else {\n",
       "    var attempts = 0;\n",
       "    var timer = setInterval(function(root) {\n",
       "      if (root.Bokeh !== undefined) {\n",
       "        embed_document(root);\n",
       "        clearInterval(timer);\n",
       "      }\n",
       "      attempts++;\n",
       "      if (attempts > 100) {\n",
       "        console.log(\"Bokeh: ERROR: Unable to embed document because BokehJS library is missing\")\n",
       "        clearInterval(timer);\n",
       "      }\n",
       "    }, 10, root)\n",
       "  }\n",
       "})(window);"
      ],
      "application/vnd.bokehjs_exec.v0+json": ""
     },
     "metadata": {
      "application/vnd.bokehjs_exec.v0+json": {
       "id": "846de9d0-e4fd-4689-bd45-dc8a6f2927ba"
      }
     },
     "output_type": "display_data"
    }
   ],
   "source": [
    "source = ColumnDataSource(data=dict(\n",
    "    facility = df_bar['facility'],\n",
    "    cost = df_bar['cost_per_trainee'],\n",
    "    time = df_bar['time_per_trainee']\n",
    "))\n",
    "\n",
    "p = figure(x_range= list(df_bar['facility']), plot_height=250, title=\"Costs\",\n",
    "           toolbar_location=None, tools=\"\")\n",
    "\n",
    "p.vbar(x=dodge('facility', -0.1, range=p.x_range), top='cost', width=0.2, source=source, legend=value(\"cost\"))\n",
    "\n",
    "p.y_range = Range1d(0, max(df_bar['cost_per_trainee']))\n",
    "\n",
    "p.extra_y_ranges = {\"foo\": Range1d(start=0, end=max(df_bar['time_per_trainee']))}\n",
    "p.add_layout(LinearAxis(y_range_name=\"foo\"), 'right')\n",
    "\n",
    "p.vbar(x=dodge('facility', 0.1, range=p.x_range), top='time', width=.2, y_range_name='foo', source=source, color='red', legend=value('time'))\n",
    "#p.circle(x=df_bar['facility'], y=df_bar['time_per_trainee'], y_range_name='foo')\n",
    "\n",
    "p.x_range.range_padding = 0.0\n",
    "p.xgrid.grid_line_color = None\n",
    "p.xgrid.grid_line_color = None\n",
    "p.y_range.start = 0\n",
    "\n",
    "show(p)"
   ]
  },
  {
   "cell_type": "code",
   "execution_count": null,
   "metadata": {
    "collapsed": true
   },
   "outputs": [],
   "source": []
  }
 ],
 "metadata": {
  "kernelspec": {
   "display_name": "Python 3",
   "language": "python",
   "name": "python3"
  },
  "language_info": {
   "codemirror_mode": {
    "name": "ipython",
    "version": 3
   },
   "file_extension": ".py",
   "mimetype": "text/x-python",
   "name": "python",
   "nbconvert_exporter": "python",
   "pygments_lexer": "ipython3",
   "version": "3.6.3"
  }
 },
 "nbformat": 4,
 "nbformat_minor": 2
}
