{
 "cells": [
  {
   "cell_type": "markdown",
   "metadata": {},
   "source": [
    "#  Extra Resources"
   ]
  },
  {
   "cell_type": "markdown",
   "metadata": {},
   "source": [
    "# Additional resources\n",
    "\n",
    "There are lots of things we haven't had time to tell you about. In general to learn more about bokeh, the following resources will hopefully be helpful:\n",
    "\n",
    "* Documentation - http://bokeh.pydata.org/en/latest\n",
    "* Bokeh examples - https://github.com/bokeh/bokeh/tree/master/examples/\n",
    "* Source code - https://github.com/bokeh/bokeh\n",
    "* Mailing list - https://groups.google.com/a/continuum.io/forum/#!forum/bokeh\n",
    "* StackOverflow (use `#bokeh` tag): http://stackoverflow.com/questions/tagged/bokeh"
   ]
  },
  {
   "cell_type": "markdown",
   "metadata": {},
   "source": [
    "# Things not in this tutorial\n",
    "\n",
    "\n",
    "## WebGL\n",
    "\n",
    "WebGL allows you to plot a larger number of points without slowing down your interactions. Currently only circles and lines are supported with WebGL, but work on other glyphs is underway.\n",
    "\n",
    "http://bokeh.pydata.org/en/latest/docs/user_guide/webgl.html \n",
    "\n",
    "\n",
    "## Different data sources\n",
    "\n",
    "Several new data source types have recently been added to Bokeh:\n",
    "\n",
    "* `AjaxDataSource` &mdash; build streaming and interactive visualizations from REST APIs\n",
    "  \n",
    "\n",
    "* `GeoJSONDataSource` &mdash; drive visuals from GIS data in GeoJSON format\n",
    "\n",
    "\n",
    "* `TileSource` &mdash; display tiled maps from a variety of tile providers"
   ]
  },
  {
   "cell_type": "code",
   "execution_count": null,
   "metadata": {
    "collapsed": true
   },
   "outputs": [],
   "source": []
  }
 ],
 "metadata": {
  "kernelspec": {
   "display_name": "Python 3",
   "language": "python",
   "name": "python3"
  },
  "language_info": {
   "codemirror_mode": {
    "name": "ipython",
    "version": 3
   },
   "file_extension": ".py",
   "mimetype": "text/x-python",
   "name": "python",
   "nbconvert_exporter": "python",
   "pygments_lexer": "ipython3",
   "version": "3.4.4"
  }
 },
 "nbformat": 4,
 "nbformat_minor": 0
}
