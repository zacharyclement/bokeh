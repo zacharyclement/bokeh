{
 "cells": [
  {
   "cell_type": "code",
   "execution_count": 140,
   "metadata": {},
   "outputs": [],
   "source": [
    "import pandas as pd\n",
    "from bokeh.io import curdoc\n",
    "\n",
    "from bokeh.io import output_notebook\n",
    "from bokeh.io import show\n",
    "from bokeh.plotting import figure\n",
    "from bokeh.models import NumeralTickFormatter\n",
    "from bokeh.models import ColumnDataSource\n",
    "from bokeh.models import HoverTool\n",
    "from bokeh.models import LinearInterpolator\n",
    "from bokeh.palettes import Spectral6\n",
    "from bokeh.models import CategoricalColorMapper\n",
    "from bokeh.models import Slider\n",
    "from bokeh.layouts import column\n",
    "\n",
    "from ipywidgets import interact\n",
    "from bokeh.io import push_notebook"
   ]
  },
  {
   "cell_type": "code",
   "execution_count": 141,
   "metadata": {},
   "outputs": [
    {
     "data": {
      "text/html": [
       "\n",
       "    <div class=\"bk-root\">\n",
       "        <a href=\"https://bokeh.pydata.org\" target=\"_blank\" class=\"bk-logo bk-logo-small bk-logo-notebook\"></a>\n",
       "        <span id=\"f911f099-3262-4594-ae34-f7e8783991f3\">Loading BokehJS ...</span>\n",
       "    </div>"
      ]
     },
     "metadata": {},
     "output_type": "display_data"
    },
    {
     "data": {
      "application/javascript": [
       "\n",
       "(function(root) {\n",
       "  function now() {\n",
       "    return new Date();\n",
       "  }\n",
       "\n",
       "  var force = true;\n",
       "\n",
       "  if (typeof (root._bokeh_onload_callbacks) === \"undefined\" || force === true) {\n",
       "    root._bokeh_onload_callbacks = [];\n",
       "    root._bokeh_is_loading = undefined;\n",
       "  }\n",
       "\n",
       "  var JS_MIME_TYPE = 'application/javascript';\n",
       "  var HTML_MIME_TYPE = 'text/html';\n",
       "  var EXEC_MIME_TYPE = 'application/vnd.bokehjs_exec.v0+json';\n",
       "  var CLASS_NAME = 'output_bokeh rendered_html';\n",
       "\n",
       "  /**\n",
       "   * Render data to the DOM node\n",
       "   */\n",
       "  function render(props, node) {\n",
       "    var script = document.createElement(\"script\");\n",
       "    node.appendChild(script);\n",
       "  }\n",
       "\n",
       "  /**\n",
       "   * Handle when an output is cleared or removed\n",
       "   */\n",
       "  function handleClearOutput(event, handle) {\n",
       "    var cell = handle.cell;\n",
       "\n",
       "    var id = cell.output_area._bokeh_element_id;\n",
       "    var server_id = cell.output_area._bokeh_server_id;\n",
       "    // Clean up Bokeh references\n",
       "    if (id !== undefined) {\n",
       "      Bokeh.index[id].model.document.clear();\n",
       "      delete Bokeh.index[id];\n",
       "    }\n",
       "\n",
       "    if (server_id !== undefined) {\n",
       "      // Clean up Bokeh references\n",
       "      var cmd = \"from bokeh.io.state import curstate; print(curstate().uuid_to_server['\" + server_id + \"'].get_sessions()[0].document.roots[0]._id)\";\n",
       "      cell.notebook.kernel.execute(cmd, {\n",
       "        iopub: {\n",
       "          output: function(msg) {\n",
       "            var element_id = msg.content.text.trim();\n",
       "            Bokeh.index[element_id].model.document.clear();\n",
       "            delete Bokeh.index[element_id];\n",
       "          }\n",
       "        }\n",
       "      });\n",
       "      // Destroy server and session\n",
       "      var cmd = \"import bokeh.io.notebook as ion; ion.destroy_server('\" + server_id + \"')\";\n",
       "      cell.notebook.kernel.execute(cmd);\n",
       "    }\n",
       "  }\n",
       "\n",
       "  /**\n",
       "   * Handle when a new output is added\n",
       "   */\n",
       "  function handleAddOutput(event, handle) {\n",
       "    var output_area = handle.output_area;\n",
       "    var output = handle.output;\n",
       "\n",
       "    // limit handleAddOutput to display_data with EXEC_MIME_TYPE content only\n",
       "    if ((output.output_type != \"display_data\") || (!output.data.hasOwnProperty(EXEC_MIME_TYPE))) {\n",
       "      return\n",
       "    }\n",
       "\n",
       "    var toinsert = output_area.element.find(\".\" + CLASS_NAME.split(' ')[0]);\n",
       "\n",
       "    if (output.metadata[EXEC_MIME_TYPE][\"id\"] !== undefined) {\n",
       "      toinsert[toinsert.length - 1].firstChild.textContent = output.data[JS_MIME_TYPE];\n",
       "      // store reference to embed id on output_area\n",
       "      output_area._bokeh_element_id = output.metadata[EXEC_MIME_TYPE][\"id\"];\n",
       "    }\n",
       "    if (output.metadata[EXEC_MIME_TYPE][\"server_id\"] !== undefined) {\n",
       "      var bk_div = document.createElement(\"div\");\n",
       "      bk_div.innerHTML = output.data[HTML_MIME_TYPE];\n",
       "      var script_attrs = bk_div.children[0].attributes;\n",
       "      for (var i = 0; i < script_attrs.length; i++) {\n",
       "        toinsert[toinsert.length - 1].firstChild.setAttribute(script_attrs[i].name, script_attrs[i].value);\n",
       "      }\n",
       "      // store reference to server id on output_area\n",
       "      output_area._bokeh_server_id = output.metadata[EXEC_MIME_TYPE][\"server_id\"];\n",
       "    }\n",
       "  }\n",
       "\n",
       "  function register_renderer(events, OutputArea) {\n",
       "\n",
       "    function append_mime(data, metadata, element) {\n",
       "      // create a DOM node to render to\n",
       "      var toinsert = this.create_output_subarea(\n",
       "        metadata,\n",
       "        CLASS_NAME,\n",
       "        EXEC_MIME_TYPE\n",
       "      );\n",
       "      this.keyboard_manager.register_events(toinsert);\n",
       "      // Render to node\n",
       "      var props = {data: data, metadata: metadata[EXEC_MIME_TYPE]};\n",
       "      render(props, toinsert[toinsert.length - 1]);\n",
       "      element.append(toinsert);\n",
       "      return toinsert\n",
       "    }\n",
       "\n",
       "    /* Handle when an output is cleared or removed */\n",
       "    events.on('clear_output.CodeCell', handleClearOutput);\n",
       "    events.on('delete.Cell', handleClearOutput);\n",
       "\n",
       "    /* Handle when a new output is added */\n",
       "    events.on('output_added.OutputArea', handleAddOutput);\n",
       "\n",
       "    /**\n",
       "     * Register the mime type and append_mime function with output_area\n",
       "     */\n",
       "    OutputArea.prototype.register_mime_type(EXEC_MIME_TYPE, append_mime, {\n",
       "      /* Is output safe? */\n",
       "      safe: true,\n",
       "      /* Index of renderer in `output_area.display_order` */\n",
       "      index: 0\n",
       "    });\n",
       "  }\n",
       "\n",
       "  // register the mime type if in Jupyter Notebook environment and previously unregistered\n",
       "  if (root.Jupyter !== undefined) {\n",
       "    var events = require('base/js/events');\n",
       "    var OutputArea = require('notebook/js/outputarea').OutputArea;\n",
       "\n",
       "    if (OutputArea.prototype.mime_types().indexOf(EXEC_MIME_TYPE) == -1) {\n",
       "      register_renderer(events, OutputArea);\n",
       "    }\n",
       "  }\n",
       "\n",
       "  \n",
       "  if (typeof (root._bokeh_timeout) === \"undefined\" || force === true) {\n",
       "    root._bokeh_timeout = Date.now() + 5000;\n",
       "    root._bokeh_failed_load = false;\n",
       "  }\n",
       "\n",
       "  var NB_LOAD_WARNING = {'data': {'text/html':\n",
       "     \"<div style='background-color: #fdd'>\\n\"+\n",
       "     \"<p>\\n\"+\n",
       "     \"BokehJS does not appear to have successfully loaded. If loading BokehJS from CDN, this \\n\"+\n",
       "     \"may be due to a slow or bad network connection. Possible fixes:\\n\"+\n",
       "     \"</p>\\n\"+\n",
       "     \"<ul>\\n\"+\n",
       "     \"<li>re-rerun `output_notebook()` to attempt to load from CDN again, or</li>\\n\"+\n",
       "     \"<li>use INLINE resources instead, as so:</li>\\n\"+\n",
       "     \"</ul>\\n\"+\n",
       "     \"<code>\\n\"+\n",
       "     \"from bokeh.resources import INLINE\\n\"+\n",
       "     \"output_notebook(resources=INLINE)\\n\"+\n",
       "     \"</code>\\n\"+\n",
       "     \"</div>\"}};\n",
       "\n",
       "  function display_loaded() {\n",
       "    var el = document.getElementById(\"f911f099-3262-4594-ae34-f7e8783991f3\");\n",
       "    if (el != null) {\n",
       "      el.textContent = \"BokehJS is loading...\";\n",
       "    }\n",
       "    if (root.Bokeh !== undefined) {\n",
       "      if (el != null) {\n",
       "        el.textContent = \"BokehJS \" + root.Bokeh.version + \" successfully loaded.\";\n",
       "      }\n",
       "    } else if (Date.now() < root._bokeh_timeout) {\n",
       "      setTimeout(display_loaded, 100)\n",
       "    }\n",
       "  }\n",
       "\n",
       "\n",
       "  function run_callbacks() {\n",
       "    try {\n",
       "      root._bokeh_onload_callbacks.forEach(function(callback) { callback() });\n",
       "    }\n",
       "    finally {\n",
       "      delete root._bokeh_onload_callbacks\n",
       "    }\n",
       "    console.info(\"Bokeh: all callbacks have finished\");\n",
       "  }\n",
       "\n",
       "  function load_libs(js_urls, callback) {\n",
       "    root._bokeh_onload_callbacks.push(callback);\n",
       "    if (root._bokeh_is_loading > 0) {\n",
       "      console.log(\"Bokeh: BokehJS is being loaded, scheduling callback at\", now());\n",
       "      return null;\n",
       "    }\n",
       "    if (js_urls == null || js_urls.length === 0) {\n",
       "      run_callbacks();\n",
       "      return null;\n",
       "    }\n",
       "    console.log(\"Bokeh: BokehJS not loaded, scheduling load and callback at\", now());\n",
       "    root._bokeh_is_loading = js_urls.length;\n",
       "    for (var i = 0; i < js_urls.length; i++) {\n",
       "      var url = js_urls[i];\n",
       "      var s = document.createElement('script');\n",
       "      s.src = url;\n",
       "      s.async = false;\n",
       "      s.onreadystatechange = s.onload = function() {\n",
       "        root._bokeh_is_loading--;\n",
       "        if (root._bokeh_is_loading === 0) {\n",
       "          console.log(\"Bokeh: all BokehJS libraries loaded\");\n",
       "          run_callbacks()\n",
       "        }\n",
       "      };\n",
       "      s.onerror = function() {\n",
       "        console.warn(\"failed to load library \" + url);\n",
       "      };\n",
       "      console.log(\"Bokeh: injecting script tag for BokehJS library: \", url);\n",
       "      document.getElementsByTagName(\"head\")[0].appendChild(s);\n",
       "    }\n",
       "  };var element = document.getElementById(\"f911f099-3262-4594-ae34-f7e8783991f3\");\n",
       "  if (element == null) {\n",
       "    console.log(\"Bokeh: ERROR: autoload.js configured with elementid 'f911f099-3262-4594-ae34-f7e8783991f3' but no matching script tag was found. \")\n",
       "    return false;\n",
       "  }\n",
       "\n",
       "  var js_urls = [\"https://cdn.pydata.org/bokeh/release/bokeh-0.12.16.min.js\", \"https://cdn.pydata.org/bokeh/release/bokeh-widgets-0.12.16.min.js\", \"https://cdn.pydata.org/bokeh/release/bokeh-tables-0.12.16.min.js\", \"https://cdn.pydata.org/bokeh/release/bokeh-gl-0.12.16.min.js\"];\n",
       "\n",
       "  var inline_js = [\n",
       "    function(Bokeh) {\n",
       "      Bokeh.set_log_level(\"info\");\n",
       "    },\n",
       "    \n",
       "    function(Bokeh) {\n",
       "      \n",
       "    },\n",
       "    function(Bokeh) {\n",
       "      console.log(\"Bokeh: injecting CSS: https://cdn.pydata.org/bokeh/release/bokeh-0.12.16.min.css\");\n",
       "      Bokeh.embed.inject_css(\"https://cdn.pydata.org/bokeh/release/bokeh-0.12.16.min.css\");\n",
       "      console.log(\"Bokeh: injecting CSS: https://cdn.pydata.org/bokeh/release/bokeh-widgets-0.12.16.min.css\");\n",
       "      Bokeh.embed.inject_css(\"https://cdn.pydata.org/bokeh/release/bokeh-widgets-0.12.16.min.css\");\n",
       "      console.log(\"Bokeh: injecting CSS: https://cdn.pydata.org/bokeh/release/bokeh-tables-0.12.16.min.css\");\n",
       "      Bokeh.embed.inject_css(\"https://cdn.pydata.org/bokeh/release/bokeh-tables-0.12.16.min.css\");\n",
       "    }\n",
       "  ];\n",
       "\n",
       "  function run_inline_js() {\n",
       "    \n",
       "    if ((root.Bokeh !== undefined) || (force === true)) {\n",
       "      for (var i = 0; i < inline_js.length; i++) {\n",
       "        inline_js[i].call(root, root.Bokeh);\n",
       "      }if (force === true) {\n",
       "        display_loaded();\n",
       "      }} else if (Date.now() < root._bokeh_timeout) {\n",
       "      setTimeout(run_inline_js, 100);\n",
       "    } else if (!root._bokeh_failed_load) {\n",
       "      console.log(\"Bokeh: BokehJS failed to load within specified timeout.\");\n",
       "      root._bokeh_failed_load = true;\n",
       "    } else if (force !== true) {\n",
       "      var cell = $(document.getElementById(\"f911f099-3262-4594-ae34-f7e8783991f3\")).parents('.cell').data().cell;\n",
       "      cell.output_area.append_execute_result(NB_LOAD_WARNING)\n",
       "    }\n",
       "\n",
       "  }\n",
       "\n",
       "  if (root._bokeh_is_loading === 0) {\n",
       "    console.log(\"Bokeh: BokehJS loaded, going straight to plotting\");\n",
       "    run_inline_js();\n",
       "  } else {\n",
       "    load_libs(js_urls, function() {\n",
       "      console.log(\"Bokeh: BokehJS plotting callback run at\", now());\n",
       "      run_inline_js();\n",
       "    });\n",
       "  }\n",
       "}(window));"
      ],
      "application/vnd.bokehjs_load.v0+json": "\n(function(root) {\n  function now() {\n    return new Date();\n  }\n\n  var force = true;\n\n  if (typeof (root._bokeh_onload_callbacks) === \"undefined\" || force === true) {\n    root._bokeh_onload_callbacks = [];\n    root._bokeh_is_loading = undefined;\n  }\n\n  \n\n  \n  if (typeof (root._bokeh_timeout) === \"undefined\" || force === true) {\n    root._bokeh_timeout = Date.now() + 5000;\n    root._bokeh_failed_load = false;\n  }\n\n  var NB_LOAD_WARNING = {'data': {'text/html':\n     \"<div style='background-color: #fdd'>\\n\"+\n     \"<p>\\n\"+\n     \"BokehJS does not appear to have successfully loaded. If loading BokehJS from CDN, this \\n\"+\n     \"may be due to a slow or bad network connection. Possible fixes:\\n\"+\n     \"</p>\\n\"+\n     \"<ul>\\n\"+\n     \"<li>re-rerun `output_notebook()` to attempt to load from CDN again, or</li>\\n\"+\n     \"<li>use INLINE resources instead, as so:</li>\\n\"+\n     \"</ul>\\n\"+\n     \"<code>\\n\"+\n     \"from bokeh.resources import INLINE\\n\"+\n     \"output_notebook(resources=INLINE)\\n\"+\n     \"</code>\\n\"+\n     \"</div>\"}};\n\n  function display_loaded() {\n    var el = document.getElementById(\"f911f099-3262-4594-ae34-f7e8783991f3\");\n    if (el != null) {\n      el.textContent = \"BokehJS is loading...\";\n    }\n    if (root.Bokeh !== undefined) {\n      if (el != null) {\n        el.textContent = \"BokehJS \" + root.Bokeh.version + \" successfully loaded.\";\n      }\n    } else if (Date.now() < root._bokeh_timeout) {\n      setTimeout(display_loaded, 100)\n    }\n  }\n\n\n  function run_callbacks() {\n    try {\n      root._bokeh_onload_callbacks.forEach(function(callback) { callback() });\n    }\n    finally {\n      delete root._bokeh_onload_callbacks\n    }\n    console.info(\"Bokeh: all callbacks have finished\");\n  }\n\n  function load_libs(js_urls, callback) {\n    root._bokeh_onload_callbacks.push(callback);\n    if (root._bokeh_is_loading > 0) {\n      console.log(\"Bokeh: BokehJS is being loaded, scheduling callback at\", now());\n      return null;\n    }\n    if (js_urls == null || js_urls.length === 0) {\n      run_callbacks();\n      return null;\n    }\n    console.log(\"Bokeh: BokehJS not loaded, scheduling load and callback at\", now());\n    root._bokeh_is_loading = js_urls.length;\n    for (var i = 0; i < js_urls.length; i++) {\n      var url = js_urls[i];\n      var s = document.createElement('script');\n      s.src = url;\n      s.async = false;\n      s.onreadystatechange = s.onload = function() {\n        root._bokeh_is_loading--;\n        if (root._bokeh_is_loading === 0) {\n          console.log(\"Bokeh: all BokehJS libraries loaded\");\n          run_callbacks()\n        }\n      };\n      s.onerror = function() {\n        console.warn(\"failed to load library \" + url);\n      };\n      console.log(\"Bokeh: injecting script tag for BokehJS library: \", url);\n      document.getElementsByTagName(\"head\")[0].appendChild(s);\n    }\n  };var element = document.getElementById(\"f911f099-3262-4594-ae34-f7e8783991f3\");\n  if (element == null) {\n    console.log(\"Bokeh: ERROR: autoload.js configured with elementid 'f911f099-3262-4594-ae34-f7e8783991f3' but no matching script tag was found. \")\n    return false;\n  }\n\n  var js_urls = [\"https://cdn.pydata.org/bokeh/release/bokeh-0.12.16.min.js\", \"https://cdn.pydata.org/bokeh/release/bokeh-widgets-0.12.16.min.js\", \"https://cdn.pydata.org/bokeh/release/bokeh-tables-0.12.16.min.js\", \"https://cdn.pydata.org/bokeh/release/bokeh-gl-0.12.16.min.js\"];\n\n  var inline_js = [\n    function(Bokeh) {\n      Bokeh.set_log_level(\"info\");\n    },\n    \n    function(Bokeh) {\n      \n    },\n    function(Bokeh) {\n      console.log(\"Bokeh: injecting CSS: https://cdn.pydata.org/bokeh/release/bokeh-0.12.16.min.css\");\n      Bokeh.embed.inject_css(\"https://cdn.pydata.org/bokeh/release/bokeh-0.12.16.min.css\");\n      console.log(\"Bokeh: injecting CSS: https://cdn.pydata.org/bokeh/release/bokeh-widgets-0.12.16.min.css\");\n      Bokeh.embed.inject_css(\"https://cdn.pydata.org/bokeh/release/bokeh-widgets-0.12.16.min.css\");\n      console.log(\"Bokeh: injecting CSS: https://cdn.pydata.org/bokeh/release/bokeh-tables-0.12.16.min.css\");\n      Bokeh.embed.inject_css(\"https://cdn.pydata.org/bokeh/release/bokeh-tables-0.12.16.min.css\");\n    }\n  ];\n\n  function run_inline_js() {\n    \n    if ((root.Bokeh !== undefined) || (force === true)) {\n      for (var i = 0; i < inline_js.length; i++) {\n        inline_js[i].call(root, root.Bokeh);\n      }if (force === true) {\n        display_loaded();\n      }} else if (Date.now() < root._bokeh_timeout) {\n      setTimeout(run_inline_js, 100);\n    } else if (!root._bokeh_failed_load) {\n      console.log(\"Bokeh: BokehJS failed to load within specified timeout.\");\n      root._bokeh_failed_load = true;\n    } else if (force !== true) {\n      var cell = $(document.getElementById(\"f911f099-3262-4594-ae34-f7e8783991f3\")).parents('.cell').data().cell;\n      cell.output_area.append_execute_result(NB_LOAD_WARNING)\n    }\n\n  }\n\n  if (root._bokeh_is_loading === 0) {\n    console.log(\"Bokeh: BokehJS loaded, going straight to plotting\");\n    run_inline_js();\n  } else {\n    load_libs(js_urls, function() {\n      console.log(\"Bokeh: BokehJS plotting callback run at\", now());\n      run_inline_js();\n    });\n  }\n}(window));"
     },
     "metadata": {},
     "output_type": "display_data"
    }
   ],
   "source": [
    "output_notebook()"
   ]
  },
  {
   "cell_type": "code",
   "execution_count": 142,
   "metadata": {},
   "outputs": [],
   "source": [
    "df = pd.read_csv('trainee_costs.csv')\n",
    "del df['Unnamed: 0']\n",
    "del df['index']"
   ]
  },
  {
   "cell_type": "code",
   "execution_count": 143,
   "metadata": {},
   "outputs": [],
   "source": [
    "data = df[['year', 'locationid', 'costs', 'trainees_total', 'trainees_pass', 'latitude', 'longitude']]"
   ]
  },
  {
   "cell_type": "code",
   "execution_count": 146,
   "metadata": {},
   "outputs": [],
   "source": [
    "data = data.set_index('year')"
   ]
  },
  {
   "cell_type": "code",
   "execution_count": 150,
   "metadata": {},
   "outputs": [],
   "source": [
    "source = ColumnDataSource(dict(\n",
    "    x = data.loc[2010].trainees_total,\n",
    "    y = data.loc[2010].costs,    \n",
    "    location=data.loc[2010].locationid,\n",
    "))"
   ]
  },
  {
   "cell_type": "code",
   "execution_count": 157,
   "metadata": {},
   "outputs": [],
   "source": [
    "#check source\n",
    "#source.column_names"
   ]
  },
  {
   "cell_type": "code",
   "execution_count": 158,
   "metadata": {},
   "outputs": [],
   "source": [
    "PLOT_OPTS = dict(\n",
    "    plot_height = 400,\n",
    "    x_range = (data['trainees_total'].min(), data['trainees_total'].max())\n",
    "    )"
   ]
  },
  {
   "cell_type": "code",
   "execution_count": 159,
   "metadata": {},
   "outputs": [
    {
     "data": {
      "text/html": [
       "\n",
       "<div class=\"bk-root\">\n",
       "    <div class=\"bk-plotdiv\" id=\"a3086faf-3f57-4ccb-916c-5968000ac96e\"></div>\n",
       "</div>"
      ]
     },
     "metadata": {},
     "output_type": "display_data"
    },
    {
     "data": {
      "application/javascript": [
       "(function(root) {\n",
       "  function embed_document(root) {\n",
       "    \n",
       "  var docs_json = {\"88b7851f-8dc4-45fa-a0de-22274451f3d3\":{\"roots\":{\"references\":[{\"attributes\":{\"axis_label\":\"# of Total Trainees\",\"formatter\":{\"id\":\"55380716-7459-4709-b625-9f341e454c62\",\"type\":\"NumeralTickFormatter\"},\"plot\":{\"id\":\"e9f3d78a-38e6-486c-b8e5-772c402139a1\",\"subtype\":\"Figure\",\"type\":\"Plot\"},\"ticker\":{\"id\":\"c02fd03a-82d2-4583-b801-8770f45dc941\",\"type\":\"BasicTicker\"}},\"id\":\"4808c91c-2c66-4f0d-874c-19456db1c295\",\"type\":\"LinearAxis\"},{\"attributes\":{},\"id\":\"c02fd03a-82d2-4583-b801-8770f45dc941\",\"type\":\"BasicTicker\"},{\"attributes\":{\"callback\":null,\"data\":{\"location\":[\"00AK\",\"00AL\",\"00AZ\",\"01A\",\"01AL\",\"02A\",\"02AK\",\"02AL\",\"02AR\",\"04A\",\"05AK\",\"05AR\",\"05XS\",\"06A\",\"06AK\",\"06AR\",\"07A\",\"07AR\",\"08A\",\"08AK\",\"09A\",\"09AK\",\"0A8\",\"0AK\",\"0AK0\",\"0AK1\",\"0AK2\",\"0AK3\",\"0AK5\",\"0AK6\",\"0AK7\",\"0AK9\",\"0AL1\",\"0AL5\",\"0AL9\",\"0AR2\",\"0AR3\",\"0AR7\",\"0J0\",\"0J4\",\"0J6\",\"0M0\",\"0R1\",\"0R6\",\"0Z2\",\"10AK\",\"10AZ\",\"11A\",\"11AK\",\"12A\",\"12AR\",\"12J\",\"12XS\",\"13AK\",\"14AK\",\"14AR\",\"14J\",\"15A\",\"15AK\",\"15AR\",\"15Z\",\"16A\",\"16AK\",\"16AR\",\"17AR\",\"18AR\",\"18AZ\",\"19AK\",\"19AR\",\"19AZ\",\"1A4\",\"1A9\",\"1AK1\",\"1AK2\",\"1AK3\",\"1AK4\",\"1AK6\",\"1AK8\",\"1AL2\",\"1AL4\",\"1AL5\",\"1AL8\",\"1AR0\",\"1AR1\",\"1AR2\",\"1AR3\",\"1AR5\",\"1AR6\",\"1AR8\",\"1AR9\",\"1AZ8\",\"1KC\",\"1M3\",\"1M4\",\"1R8\",\"20A\",\"20AK\",\"20AR\",\"20K\",\"21AK\",\"21AR\",\"22AK\",\"23AK\",\"23AR\",\"24AK\",\"24AR\",\"25A\",\"25AK\",\"26A\",\"26AK\",\"26AL\",\"26AR\",\"26AZ\",\"27AL\",\"27AZ\",\"28AK\",\"28AL\",\"28AR\",\"28AZ\",\"29AK\",\"2A2\",\"2A3\",\"2A6\",\"2A8\",\"2A9\",\"2AK\",\"2AK0\",\"2AK1\",\"2AK2\",\"2AK4\",\"2AK5\",\"2AK6\",\"2AK7\",\"2AK8\",\"2AK9\",\"2AL1\",\"2AL3\",\"2AL5\",\"2AL6\",\"2AL7\",\"2AL8\",\"2AR0\",\"2AR1\",\"2AR2\",\"2AR4\",\"2AR5\",\"2AR6\",\"2AR7\",\"2C7\",\"2K5\",\"2R5\",\"2Z2\",\"2Z3\",\"30AK\",\"30AR\",\"30AZ\",\"31AK\",\"31AZ\",\"32A\",\"32AK\",\"33AK\",\"33AR\",\"33AZ\",\"33J\",\"34AK\",\"34AR\",\"34AZ\",\"35AZ\",\"36AK\",\"36AR\",\"36AZ\",\"37AK\",\"37AR\",\"37AZ\",\"37T\",\"38AK\",\"38AR\",\"39AK\",\"3A0\",\"3A1\",\"3A7\",\"3AK1\",\"3AK2\",\"3AK3\",\"3AK4\",\"3AK5\",\"3AK6\",\"3AK7\",\"3AK8\",\"3AK9\",\"3AL1\",\"3AL5\",\"3AL6\",\"3AL7\",\"3AL8\",\"3AR0\",\"3AR2\",\"3AR3\",\"3AR4\",\"3AR5\",\"3AR6\",\"3AR7\",\"3AR8\",\"3AR9\",\"3M0\",\"3M2\",\"3M5\",\"3M8\",\"3M9\",\"3T4\",\"3Z1\",\"40AK\",\"40AR\",\"41A\",\"41AK\",\"41AR\",\"42A\",\"42AK\",\"43AK\",\"43AR\",\"44AK\",\"45AK\",\"45AR\",\"46AK\",\"46AR\",\"47AK\",\"48AK\",\"49AK\",\"4A2\",\"4A5\",\"4A6\",\"4A9\",\"4AK\",\"4AK1\",\"4AK2\",\"4AK3\",\"4AK5\",\"4AK6\",\"4AK7\",\"4AK8\",\"4AK9\",\"4AL6\",\"4AL7\",\"4AL8\",\"4AL9\",\"4AR1\",\"4AR2\",\"4AR6\",\"4AR9\",\"4F7\",\"4F8\",\"4K0\",\"4K5\",\"4KA\",\"4M1\",\"4M2\",\"4M3\",\"4M5\",\"4M8\",\"4M9\",\"4R3\",\"4R4\",\"4R9\",\"4Z2\",\"4Z5\",\"4Z9\",\"50AK\",\"51AK\",\"51Z\",\"52AK\",\"52AR\",\"53AK\",\"55AK\",\"55M\",\"56AK\",\"57AL\",\"58AK\",\"59AK\",\"5A8\",\"5AK0\",\"5AK2\",\"5AK3\",\"5AK5\",\"5AK6\",\"5AK8\",\"5AK9\",\"5AL1\",\"5AL3\",\"5AL4\",\"5AL5\",\"5AL7\",\"5AL8\",\"5AR1\",\"5AR2\",\"5AR7\",\"5BK\",\"5CD\",\"5HO\",\"5KO\",\"5KS\",\"5M0\",\"5M1\",\"5M4\",\"5M5\",\"5M8\",\"5NK\",\"5NN\",\"5QC\",\"5R1\",\"5R4\",\"5R7\",\"5Z5\",\"5Z7\",\"60A\",\"61A\",\"61AR\",\"62AL\",\"63AK\",\"63AR\",\"64AK\",\"65AK\",\"65AR\",\"67A\",\"67AK\",\"67AR\",\"6A8\",\"6AK\",\"6AK1\",\"6AK2\",\"6AK3\",\"6AK5\",\"6AK7\",\"6AK8\",\"6AK9\",\"6AL3\",\"6AL6\",\"6AR1\",\"6AR2\",\"6AR9\",\"6K8\",\"6M0\",\"6M2\",\"6M7\",\"6M8\",\"6R7\",\"70A\",\"70AK\",\"70AR\",\"71A\",\"71AK\",\"71J\",\"73AR\",\"75AK\",\"75AR\",\"76AK\",\"76Z\",\"77AK\",\"78AK\",\"78AR\",\"79AK\",\"79AR\",\"79J\",\"7A0\",\"7A3\",\"7A5\",\"7A6\",\"7AK0\",\"7AK2\",\"7AK3\",\"7AK4\",\"7AK5\",\"7AK6\",\"7AK8\",\"7AK9\",\"7AL9\",\"7AR0\",\"7AR1\",\"7AR2\",\"7AR3\",\"7AR4\",\"7KA\",\"7M0\",\"7M1\",\"7M2\",\"7M3\",\"7M4\",\"7M5\",\"7M6\",\"7M7\",\"7M8\",\"7M9\",\"81AK\",\"81AR\",\"82AK\",\"83AK\",\"87AK\",\"88AK\",\"89AK\",\"8A0\",\"8A1\",\"8AK1\",\"8AK2\",\"8AK3\",\"8AK6\",\"8AK7\",\"8AK8\",\"8AK9\",\"8AR1\",\"8KA\",\"8M2\",\"93AR\",\"94Z\",\"95Z\",\"97AK\",\"98AK\",\"99A\",\"99AK\",\"9A3\",\"9A4\",\"9A8\",\"9AK\",\"9AK0\",\"9AK2\",\"9AK3\",\"9AK4\",\"9AK5\",\"9AK6\",\"9AK7\",\"9AK8\",\"9AR9\",\"9K2\",\"9M8\",\"9Z7\",\"9Z8\",\"9Z9\",\"A08\",\"A09\",\"A13\",\"A14\",\"A20\",\"A57\",\"A61\",\"A63\",\"A67\",\"A68\",\"A69\",\"A70\",\"A77\",\"A79\",\"AA00\",\"AA05\",\"AA06\",\"AA22\",\"AA30\",\"AA33\",\"AA50\",\"AA76\",\"ADK\",\"ADQ\",\"AFE\",\"AFM\",\"AGO\",\"AIV\",\"AJC\",\"AK0\",\"AK00\",\"AK01\",\"AK02\",\"AK03\",\"AK05\",\"AK06\",\"AK07\",\"AK08\",\"AK09\",\"AK1\",\"AK10\",\"AK11\",\"AK12\",\"AK13\",\"AK14\",\"AK15\",\"AK16\",\"AK17\",\"AK18\",\"AK19\",\"AK20\",\"AK21\",\"AK22\",\"AK23\",\"AK24\",\"AK25\",\"AK26\",\"AK27\",\"AK28\",\"AK29\",\"AK30\",\"AK31\",\"AK33\",\"AK36\",\"AK39\",\"AK40\",\"AK41\",\"AK44\",\"AK45\",\"AK46\",\"AK47\",\"AK49\",\"AK50\",\"AK51\",\"AK52\",\"AK53\",\"AK54\",\"AK55\",\"AK58\",\"AK59\",\"AK60\",\"AK61\",\"AK63\",\"AK64\",\"AK65\",\"AK66\",\"AK67\",\"AK68\",\"AK69\",\"AK7\",\"AK71\",\"AK72\",\"AK73\",\"AK75\",\"AK76\",\"AK77\",\"AK78\",\"AK79\",\"AK80\",\"AK83\",\"AK84\",\"AK85\",\"AK86\",\"AK88\",\"AK89\",\"AK90\",\"AK92\",\"AK93\",\"AK95\",\"AK97\",\"AK98\",\"AKA\",\"AKI\",\"AKK\",\"AKN\",\"AKP\",\"AKW\",\"AL00\",\"AL01\",\"AL02\",\"AL03\",\"AL05\",\"AL08\",\"AL09\",\"AL10\",\"AL12\",\"AL15\",\"AL16\",\"AL17\",\"AL18\",\"AL25\",\"AL27\",\"AL29\",\"AL32\",\"AL33\",\"AL34\",\"AL35\",\"AL37\",\"AL40\",\"AL41\",\"AL43\",\"AL51\",\"AL54\",\"AL55\",\"AL56\",\"AL60\",\"AL62\",\"AL69\",\"AL71\",\"AL73\",\"AL74\",\"AL76\",\"AL77\",\"AL78\",\"AL79\",\"AL81\",\"AL84\",\"AL88\",\"AL89\",\"AL92\",\"AL93\",\"AL94\",\"AL97\",\"ALX\",\"ANB\",\"ANC\",\"ANI\",\"ANN\",\"ANV\",\"AQH\",\"AQT\",\"AQY\",\"AR03\",\"AR05\",\"AR06\",\"AR09\",\"AR10\",\"AR11\",\"AR12\",\"AR13\",\"AR17\",\"AR19\",\"AR22\",\"AR23\",\"AR27\",\"AR28\",\"AR34\",\"AR35\",\"AR43\",\"AR44\",\"AR46\",\"AR50\",\"AR54\",\"AR55\",\"AR56\",\"AR79\",\"AR81\",\"AR82\",\"AR83\",\"AR88\",\"AR89\",\"AR91\",\"AR93\",\"AR97\",\"ARC\",\"ARG\",\"ASG\",\"ASN\",\"ATK\",\"ATU\",\"AUK\",\"AUO\",\"AWI\",\"AWM\",\"AZ04\",\"AZ05\",\"AZ06\",\"AZ17\",\"AZ46\",\"AZC\",\"AZU\",\"BCV\",\"BDQ\",\"BET\",\"BFM\",\"BGQ\",\"BHM\",\"BIG\",\"BLG\",\"BPK\",\"BRW\",\"BTI\",\"BTT\",\"BVK\",\"BVX\",\"BXK\",\"BYA\",\"BYH\",\"C05\",\"C22\",\"CCA\",\"CDB\",\"CDH\",\"CDV\",\"CEM\",\"CFK\",\"CFT\",\"CGZ\",\"CHD\",\"CHP\",\"CIK\",\"CJX\",\"CKU\",\"CKX\",\"CLF\",\"CLP\",\"CRC\",\"CRT\",\"CSR\",\"CVK\",\"CWS\",\"CXC\",\"CXF\",\"CYT\",\"CZF\",\"CZN\",\"CZO\",\"D66\",\"D76\",\"DCK\",\"DCU\",\"DDT\",\"DEE\",\"DEQ\",\"DGG\",\"DHN\",\"DLG\",\"DUT\",\"DUY\",\"DYA\",\"E51\",\"E91\",\"E95\",\"EAA\",\"EDF\",\"EDN\",\"EEK\",\"EET\",\"EHM\",\"EII\",\"EIL\",\"EKY\",\"ELD\",\"ELI\",\"ENA\",\"ENM\",\"ENN\",\"EUF\",\"EWU\",\"F43\",\"FAI\",\"FAQ\",\"FBK\",\"FCY\",\"FLP\",\"FLT\",\"FRN\",\"FSM\",\"FSP\",\"FVM\",\"FWL\",\"FYU\",\"FYV\",\"GAD\",\"GAL\",\"GAM\",\"GBH\",\"GGV\",\"GKN\",\"GNU\",\"GST\",\"GSZ\",\"GZH\",\"H34\",\"H35\",\"HAB\",\"HBZ\",\"HCA\",\"HEE\",\"HI36\",\"HKA\",\"HLA\",\"HNH\",\"HNS\",\"HOM\",\"HOT\",\"HPB\",\"HRO\",\"HRR\",\"HSV\",\"HUA\",\"HUS\",\"IAN\",\"IBN\",\"IEM\",\"IFP\",\"IGG\",\"IGT\",\"IIK\",\"IKO\",\"ILI\",\"INR\",\"IWK\",\"IYS\",\"JBR\",\"JFX\",\"JKA\",\"JLA\",\"JNU\",\"JVM\",\"JZZ\",\"K29\",\"K55\",\"KAL\",\"KCL\",\"KCR\",\"KDK\",\"KEB\",\"KEK\",\"KFP\",\"KGX\",\"KGZ\",\"KKA\",\"KKU\",\"KLG\",\"KNW\",\"KPC\",\"KSM\",\"KTN\",\"KTS\",\"KVC\",\"KVL\",\"KWT\",\"KYK\",\"KYU\",\"L20\",\"L44\",\"LIT\",\"LKK\",\"LLQ\",\"LRF\",\"LSR\",\"LUR\",\"M18\",\"M19\",\"M22\",\"M27\",\"M32\",\"M36\",\"M38\",\"M55\",\"M60\",\"M65\",\"M70\",\"M73\",\"M74\",\"M77\",\"M78\",\"M89\",\"M95\",\"MBA\",\"MCG\",\"MDM\",\"MDO\",\"MDQ\",\"MEZ\",\"MGM\",\"MHM\",\"MLY\",\"MOB\",\"MOS\",\"MOU\",\"MPJ\",\"MRI\",\"MSL\",\"MTF\",\"MVC\",\"MXA\",\"MXF\",\"MYK\",\"MYU\",\"N93\",\"NBJ\",\"NFD\",\"NIN\",\"NUL\",\"OBU\",\"OME\",\"OOK\",\"ORI\",\"ORK\",\"ORT\",\"OTZ\",\"OUL\",\"OZR\",\"P01\",\"P04\",\"P08\",\"P19\",\"P52\",\"PAQ\",\"PBF\",\"PBV\",\"PCK\",\"PEV\",\"PGM\",\"PGR\",\"PHO\",\"PIZ\",\"PKA\",\"PLR\",\"PNP\",\"PPC\",\"PPG\",\"PRN\",\"PSG\",\"PTH\",\"PTU\",\"PXK\",\"PYP\",\"RBM\",\"RBY\",\"RDV\",\"RMP\",\"ROG\",\"RSH\",\"RUE\",\"S63\",\"SCC\",\"SCD\",\"SCM\",\"SDP\",\"SEM\",\"SGT\",\"SGY\",\"SHG\",\"SHH\",\"SHX\",\"SIT\",\"SKW\",\"SLG\",\"SLQ\",\"SMK\",\"SMU\",\"SNP\",\"SOV\",\"SRC\",\"SRV\",\"SUZ\",\"SVA\",\"SVS\",\"SVW\",\"SWD\",\"SXP\",\"SXQ\",\"SYA\",\"TAL\",\"TCL\",\"TCT\",\"TER\",\"TKA\",\"TLJ\",\"TLT\",\"TNC\",\"TNW\",\"TOG\",\"TOI\",\"TPO\",\"TSG\",\"TTW\",\"TXK\",\"TYE\",\"UBW\",\"UGB\",\"UMM\",\"UMT\",\"UNK\",\"UTO\",\"UUO\",\"VAK\",\"VBT\",\"VDZ\",\"VEE\",\"WBB\",\"WBQ\",\"WCR\",\"WLK\",\"WMO\",\"WNA\",\"WRG\",\"WSM\",\"WSN\",\"WTK\",\"XNA\",\"YAK\",\"Z08\",\"Z09\",\"Z13\",\"Z14\",\"Z17\",\"Z25\",\"Z40\",\"Z41\",\"Z47\",\"Z48\",\"Z52\",\"Z55\",\"Z81\",\"Z84\",\"Z86\",\"Z90\",\"Z91\",\"Z93\",\"Z95\",\"ZNC\"],\"x\":[56210,76076,29491,72611,8624,61754,53361,68607,61061,58058,71225,38423,21406,68145,67452,55055,67144,48664,54824,44275,27951,50127,26257,41734,43043,56287,37191,47740,42735,67452,50589,63217,55902,59136,33495,37345,56364,51898,9394,66374,37653,60060,47971,73150,41426,15169,8547,59598,31108,13860,68915,66297,58905,42042,72457,14014,16940,31801,40117,30723,37345,62601,43967,63063,19096,36421,71533,63217,50435,58905,40040,20405,75306,49203,72842,9240,54516,23793,49126,73150,55671,54747,18711,59367,15631,29260,66528,40502,51205,37884,17094,74074,25949,47817,59444,31570,39116,64911,67144,42504,55132,36498,65065,68915,47355,68299,27797,43659,65681,9471,44968,15092,61061,44429,35112,32417,39193,56364,30723,46508,73612,49819,33110,43736,11858,34265,13552,69300,43197,54362,56133,9240,46277,40117,30954,11704,9933,14630,59829,25718,22946,69300,36113,27258,32109,18865,64141,30569,41657,58905,33649,41965,74690,41580,50281,25333,67991,48356,69454,17556,26565,33649,42504,71379,20559,73612,73843,47740,45969,27104,73535,62832,66528,20790,34881,58597,46200,65758,22561,74767,38577,74844,70378,54670,59059,68607,43274,12012,75691,16940,38115,53592,22022,14014,12012,39809,46123,20482,75999,23947,74305,52668,49819,15169,13244,30877,29722,10164,13321,37730,52591,32725,34958,16324,20251,73381,41272,19558,22253,53900,55979,31493,43890,28105,53746,65912,68068,57750,14707,70455,23562,67914,12166,31185,52976,57519,63756,16170,68453,75845,19173,76076,73997,60445,72842,55209,73304,56133,27412,17248,17171,48587,16786,10164,29953,39193,49819,28721,71687,36036,22638,59136,47047,25256,75075,48433,45507,33726,37961,23408,65604,56980,44429,31339,10703,24332,48741,39886,53977,45199,28952,18480,41272,32109,19327,49126,57288,14091,20174,18018,32648,65373,22484,68145,53207,41580,49896,44891,65219,22561,40656,64449,12782,15015,49511,37884,13629,48664,56980,41580,26873,72380,16555,9163,64218,38577,76692,67067,27643,75922,34881,12397,75075,63756,75999,33418,64064,51513,38423,41118,18865,76153,19789,71764,17556,16401,33341,59444,41734,23870,10472,74767,60830,64526,24794,39193,9933,56441,69531,51667,61523,47278,59059,41580,51513,57519,57673,61831,32417,75460,12782,27027,41272,14014,13937,10395,21560,21560,56441,30800,53823,68145,75229,48587,31416,47124,35343,55209,27027,40964,41657,54362,19558,41041,66990,55594,43505,45045,46277,31108,70070,39655,22253,19250,72534,73612,54208,15015,61523,27874,51205,52591,54516,44429,57750,46662,68530,55594,66913,22484,39039,28721,60291,52668,57981,23562,61600,15554,15092,33957,41888,40810,51821,43274,38192,65758,25333,55440,12628,52360,17633,12474,67760,21252,75614,62370,23716,53823,43582,64526,54516,28798,62678,55517,25872,18480,34496,61138,14245,69839,76384,48818,10549,36344,54285,75229,31724,31878,67529,69069,21406,53361,53207,58135,60830,13783,57673,40194,15169,9933,28644,72765,62832,60984,45353,54978,27874,68222,50820,49973,8470,11627,18249,60522,74767,30030,16863,64064,65450,72919,27335,68299,48433,66605,74690,65373,20097,64911,36036,43967,37653,45507,52976,53361,13937,22099,76923,51590,50974,23947,47740,64680,62601,36036,16247,59290,65450,57057,40733,72919,42119,39501,28952,57904,19096,10087,60676,53977,35343,45661,28336,22561,47355,68222,15785,65835,42812,14322,23947,63140,63756,65450,33726,25025,74998,36036,66066,40425,7700,54362,48048,75922,21791,66297,16093,30646,15400,36498,49896,18557,54747,34727,70686,39116,15169,16786,34958,50820,71610,35035,28259,40194,27720,36960,32802,76230,36498,48279,38423,24640,40040,61677,31262,18249,37884,69300,60753,52283,16555,17017,69146,25410,59213,49511,34958,17017,41349,25102,30492,53592,50589,60599,47047,14399,32494,28952,51975,21098,18480,65065,24409,48664,65835,66220,41734,70686,45969,71225,37114,64064,32186,19327,50820,37499,37961,51128,41041,62139,74536,71995,47124,68299,46354,50050,11088,46585,56056,40733,31416,20636,43274,53207,25641,39270,13706,51051,56595,19327,65065,21175,73073,65296,74921,68838,36344,26411,20636,64680,23870,40502,69377,36575,53746,16863,40964,14630,69993,45276,31724,44044,13937,16863,46508,52514,43428,30261,29106,49742,55517,71533,13706,69223,65065,71071,11781,34727,61985,16555,55209,9625,50820,47663,13860,39347,24794,11781,27643,21175,72611,19327,25333,14938,66297,13013,29876,35112,35420,43659,58520,70224,76384,31647,59598,26411,75768,62524,55979,60984,70147,26411,12551,47971,66066,12936,15708,48279,65604,50589,60984,24640,32879,41503,51282,19481,32186,67760,48741,38346,75999,34111,74690,69377,17941,65065,16940,54670,62293,19327,11165,11627,15015,28490,58058,55748,23331,9317,28952,57365,74767,70455,54978,12782,59213,8855,64834,26411,32494,27181,13475,44352,60368,18249,56287,23639,40425,26334,16555,33187,31570,52052,52437,20405,49203,67375,76461,60599,21329,21791,12243,74767,39886,37730,54901,51975,62062,52052,14322,29722,39116,15554,21098,34958,67914,22715,57365,38654,70070,21560,44352,40887,60445,30800,15015,39963,36806,62139,61446,41426,14014,58982,33726,54670,42581,37422,9086,46585,53977,53900,26026,14322,49973,51898,41426,27643,36113,60984,69839,47586,10703,47278,24101,66759,36806,73458,40656,29414,46123,41041,73997,12628,42504,76769,69146,66297,64988,68299,8393,21868,65373,26642,8855,36344,9625,46046,60907,61446,51359,62524,49973,20097,33880,44506,33495,22561,74690,18480,39886,51975,52437,12859,52206,74690,54208,60676,48587,54131,49357,17479,49588,12474,63756,56441,45353,61215,10010,32109,57365,66990,76538,34496,49588,70917,60060,43351,70686,70917,32417,49588,40502,71764,21868,8701,45584,19481,72611,48048,70224,65296,49203,20636,55517,55209,8085,64911,26488,26796,58289,61600,75537,39886,46200,23254,14168,38423,20944,74613,64757,48125,36652,46200,35497,26488,22176,58289,64218,18480,41811,57057,19789,9086,71225,23023,69608,22484,60830,45584,66913,37807,68915,73766,27335,12936,60907,10934,19943,70301,43890,18018,23023,48664,73997,32494,44814,29491,19635,76923,35035,25795,40348,30415,20174,32494,57442,8701,64295,16555,11011,12089,39501,76923,67452,39809,28875,63217,66913,61754,76230,20713,74690,65681],\"y\":[4878,5625,2736,6048,90,1791,189,5868,6507,6669,6480,5886,3654,2043,2943,7659,7281,4968,8604,5904,7668,5598,576,5895,8217,8505,4392,1422,7695,5949,567,4005,7893,252,8100,963,3906,3087,4455,8460,3222,5832,8415,3339,3582,5625,4500,2025,2025,1449,8109,2808,8757,8829,5382,2484,8568,2943,4086,1575,6300,2988,2349,4671,936,1998,1692,7596,5427,5229,1341,8910,2799,5850,5949,963,5454,5553,1818,4284,5445,657,4041,7389,5895,4995,4968,1719,414,1215,7929,4032,8730,2187,8928,873,1566,1035,2016,6732,8298,7254,1287,3762,6633,3645,3798,3915,6912,1386,639,7128,4275,5247,1233,5202,4239,2007,6246,8991,5175,5508,5103,2655,6597,5364,2880,6678,6354,5481,396,3816,1656,7659,2745,6885,6534,1701,6678,7947,7740,1755,7434,2979,4689,2547,4878,7407,7326,1062,2682,8721,6462,774,5130,2007,567,4572,3429,5121,8703,3681,5778,2529,8820,8883,7146,2412,1143,810,4113,1872,7065,6381,4392,2232,4266,3942,1971,4509,8514,8208,4203,1926,7038,3132,2259,4239,7164,2142,729,5148,639,324,4572,90,7992,3753,6426,2349,2853,5661,576,1629,8100,8451,7263,8208,6723,7263,2043,3060,7794,7722,3807,3690,7119,324,5292,6480,2979,189,3564,1233,1152,4086,8964,6921,1836,279,7776,2043,3492,5751,7569,8757,7560,5076,8712,3375,7299,7614,5652,5940,6912,1278,4680,4446,1899,8415,6381,3870,3762,1161,4554,4131,5751,6480,3420,7902,5211,2142,6957,3114,8163,7344,8847,8523,1638,5139,7902,3186,3321,7020,8334,2853,8874,7929,108,63,90,1701,3510,7245,405,3006,2799,666,1917,3321,7740,6597,7407,8325,1503,4851,5742,2556,3024,3537,3744,5193,504,8757,3015,3240,243,3897,1782,6849,954,4734,5544,684,8280,6300,558,153,8370,711,7380,198,8010,6273,6633,5823,7389,2601,3339,8559,873,6183,4356,6435,8802,5157,7533,8721,3699,6606,5742,7749,2907,1809,8271,2088,1890,8667,3447,5724,5607,2025,5436,7425,4419,4347,18,5931,2106,6408,855,5418,792,7857,1134,2853,4050,5220,3303,3087,6606,4896,6687,4761,1800,3015,3168,6237,6921,612,3861,3636,7335,8217,1584,5337,2286,4608,7290,4707,6345,3897,5337,5517,6534,7569,4536,1980,513,5310,1485,6849,4230,5589,6408,1314,2988,6318,4680,8046,7020,5373,2475,3807,2295,6966,6498,8523,5346,6147,1143,5544,8946,711,4140,6327,3474,3717,1350,3987,7587,2745,2934,6498,6822,2484,8433,3996,2709,4374,693,1917,1854,702,4563,450,126,4050,1134,1503,4518,3069,3150,1467,8019,3051,909,630,2745,3204,2439,3330,2340,7524,2664,2628,4824,504,8865,558,7254,8163,3510,1323,3555,6480,2493,5418,1755,7695,5814,4842,1548,2844,7830,4950,7281,6381,1845,4428,6624,8163,1503,5229,8523,8388,7317,3447,3663,3555,3456,4689,8748,7992,3339,4950,4842,3906,6615,5049,837,3609,2583,3654,3969,3042,1701,2313,1872,1737,1890,3132,6948,5715,3024,7146,3672,2205,126,4725,2997,5490,324,7299,2088,1476,8991,549,180,3636,4185,7299,6678,1881,6336,6021,6678,7587,5193,3312,3402,3222,3663,2349,1260,6381,4257,8586,3780,666,387,2079,99,5382,81,7821,441,6606,2286,5103,1296,945,7029,1179,7191,5832,4500,7947,3627,1548,1701,4086,8919,4878,4950,2124,8046,3852,9000,2331,4590,8127,7326,8163,5301,3312,6939,6660,3285,5886,5166,8199,6453,8505,3348,7803,7209,8883,5940,801,7191,6390,8694,8019,2790,8073,1908,2997,5355,3366,1359,270,7434,8955,3573,6219,2187,135,3681,135,4455,7533,8712,8352,450,3681,2124,1800,8541,6867,1215,7200,8100,8793,8343,1251,2250,4554,7965,6831,981,8442,6624,1080,4167,7713,7605,4338,4725,1800,5850,6723,4725,4995,2421,1836,7083,7920,4833,6885,8586,2817,3474,6930,2538,8055,837,4698,5733,8217,8712,6597,918,3357,468,6678,3906,2511,657,1593,6741,5751,6345,5985,1575,5049,180,1710,3618,3123,6174,5004,207,1521,711,2583,6876,8010,7956,5526,8694,5004,2682,5787,5355,2403,7470,8667,6417,1944,5670,1476,4059,7704,2133,8361,2169,1017,2331,4617,2214,8127,4689,2988,4293,4770,3960,6453,5706,4689,1710,4023,7245,1386,8685,3267,3429,1638,3735,6804,6066,2709,3906,4887,7335,5697,4248,3762,3384,8901,4842,8424,6075,6534,8334,2781,2583,6093,2403,2052,5607,5148,1728,4338,7533,7236,3312,513,6345,7677,8766,6372,1737,2196,1485,6174,2997,4554,7344,7623,4293,6552,6084,3546,6462,2592,8892,1530,4581,2448,3231,1863,1179,6579,6201,6219,2349,5598,1467,1809,1773,828,2592,6399,1485,8100,6705,5985,6291,2862,8766,5382,756,7308,1116,387,6732,8748,4041,7407,6426,5544,7686,7848,2034,2997,6093,7992,8748,3627,5805,2358,6363,4797,666,6822,6894,8586,3906,1899,8793,7731,3276,1026,8991,7704,1467,2790,7425,1314,3447,6210,7011,7353,5724,6597,5220,4527,2853,3105,8937,5049,4374,2493,486,4383,5526,6822,837,7668,2142,5958,7434,3339,5526,7038,8181,7173,1746,8019,5328,7299,3537,2781,3060,7713,1881,3366,2160,6651,5967,900,2250,9,4860,5445,1152,8001,7902,6561,8406,3240,5652,6318,8334,3177,576,7137,3312,1278,630,5490,1719,4806,3645,5283,2169,8181,702,4644,4509,432,8550,3834,2331,2772,4950,6615,4590,5310,6507,7362,8874,3717,5787,7362,7038,7038,1404,8397,2268,6804,3528,2826,1377,7938,747,7065,6273,7992,8253,2835,6525,5184,756,1512,8721,5580,1656,7200,3384,5418,1656,8559,5904,8865,6093,2745,4329,1017,6120,675,8370,3816,3879,1629,2178,5067,6570,4779,7092,7560,1323,783,171,4176,999,8892,3429,7425]},\"selected\":{\"id\":\"068da4d4-7e1e-455e-a100-9e959fae5f84\",\"type\":\"Selection\"},\"selection_policy\":{\"id\":\"95a6d132-1f06-49b8-beef-91c9800817ac\",\"type\":\"UnionRenderers\"}},\"id\":\"4d34c5f8-5509-4169-b04b-93e1477516e1\",\"type\":\"ColumnDataSource\"},{\"attributes\":{\"callback\":null,\"renderers\":\"auto\",\"show_arrow\":false,\"tooltips\":\"@location\"},\"id\":\"00d94c87-21f9-4ba8-9bc9-bd7ec841bca1\",\"type\":\"HoverTool\"},{\"attributes\":{\"axis_label\":\"Costs\",\"formatter\":{\"id\":\"d19d466d-06b7-4b5b-a3b4-3b487d687f35\",\"type\":\"BasicTickFormatter\"},\"plot\":{\"id\":\"e9f3d78a-38e6-486c-b8e5-772c402139a1\",\"subtype\":\"Figure\",\"type\":\"Plot\"},\"ticker\":{\"id\":\"d6339b78-ba90-4534-8d9b-9108283eb23b\",\"type\":\"BasicTicker\"}},\"id\":\"e51170f4-80c6-45bd-baa5-f861c7da967a\",\"type\":\"LinearAxis\"},{\"attributes\":{},\"id\":\"d6339b78-ba90-4534-8d9b-9108283eb23b\",\"type\":\"BasicTicker\"},{\"attributes\":{},\"id\":\"d19d466d-06b7-4b5b-a3b4-3b487d687f35\",\"type\":\"BasicTickFormatter\"},{\"attributes\":{\"dimension\":1,\"plot\":{\"id\":\"e9f3d78a-38e6-486c-b8e5-772c402139a1\",\"subtype\":\"Figure\",\"type\":\"Plot\"},\"ticker\":{\"id\":\"d6339b78-ba90-4534-8d9b-9108283eb23b\",\"type\":\"BasicTicker\"}},\"id\":\"5fa15b9b-27e5-4cc3-91c9-0ebd59300bf3\",\"type\":\"Grid\"},{\"attributes\":{\"below\":[{\"id\":\"4808c91c-2c66-4f0d-874c-19456db1c295\",\"type\":\"LinearAxis\"}],\"left\":[{\"id\":\"e51170f4-80c6-45bd-baa5-f861c7da967a\",\"type\":\"LinearAxis\"}],\"plot_height\":400,\"renderers\":[{\"id\":\"4808c91c-2c66-4f0d-874c-19456db1c295\",\"type\":\"LinearAxis\"},{\"id\":\"fc23dd26-9025-4e5f-9183-360ab103ded5\",\"type\":\"Grid\"},{\"id\":\"e51170f4-80c6-45bd-baa5-f861c7da967a\",\"type\":\"LinearAxis\"},{\"id\":\"5fa15b9b-27e5-4cc3-91c9-0ebd59300bf3\",\"type\":\"Grid\"},{\"id\":\"ac809696-5390-4fbc-9e8f-908eb6e0bf3f\",\"type\":\"GlyphRenderer\"}],\"title\":{\"id\":\"3a63a8d9-0d4b-4fe1-8a80-3a47685c1b33\",\"type\":\"Title\"},\"toolbar\":{\"id\":\"4c7f3d38-f4e9-4b6e-9160-d40ac4fb92d2\",\"type\":\"Toolbar\"},\"x_range\":{\"id\":\"dadabdf8-2831-4e92-821a-b16befd76f18\",\"type\":\"Range1d\"},\"x_scale\":{\"id\":\"70afe579-71ec-415e-9c19-8c5a8776e23a\",\"type\":\"LinearScale\"},\"y_range\":{\"id\":\"fd2e0be4-c272-4226-8c95-389e2747308b\",\"type\":\"DataRange1d\"},\"y_scale\":{\"id\":\"aa939283-a99d-4f4e-8da9-303e2d34608a\",\"type\":\"LinearScale\"}},\"id\":\"e9f3d78a-38e6-486c-b8e5-772c402139a1\",\"subtype\":\"Figure\",\"type\":\"Plot\"},{\"attributes\":{},\"id\":\"55380716-7459-4709-b625-9f341e454c62\",\"type\":\"NumeralTickFormatter\"},{\"attributes\":{\"callback\":null,\"end\":99000,\"start\":1919},\"id\":\"dadabdf8-2831-4e92-821a-b16befd76f18\",\"type\":\"Range1d\"},{\"attributes\":{\"fill_color\":{\"value\":\"#1f77b4\"},\"line_color\":{\"value\":\"#1f77b4\"},\"x\":{\"field\":\"x\"},\"y\":{\"field\":\"y\"}},\"id\":\"c3c2e394-818b-4fe4-a704-2e8c7899a618\",\"type\":\"Circle\"},{\"attributes\":{\"plot\":null,\"text\":\"costs per trainee\"},\"id\":\"3a63a8d9-0d4b-4fe1-8a80-3a47685c1b33\",\"type\":\"Title\"},{\"attributes\":{},\"id\":\"95a6d132-1f06-49b8-beef-91c9800817ac\",\"type\":\"UnionRenderers\"},{\"attributes\":{\"fill_alpha\":{\"value\":0.1},\"fill_color\":{\"value\":\"#1f77b4\"},\"line_alpha\":{\"value\":0.1},\"line_color\":{\"value\":\"#1f77b4\"},\"x\":{\"field\":\"x\"},\"y\":{\"field\":\"y\"}},\"id\":\"45912e21-3f20-4100-805e-0f6ce6923fe0\",\"type\":\"Circle\"},{\"attributes\":{\"active_drag\":\"auto\",\"active_inspect\":\"auto\",\"active_scroll\":\"auto\",\"active_tap\":\"auto\",\"tools\":[{\"id\":\"00d94c87-21f9-4ba8-9bc9-bd7ec841bca1\",\"type\":\"HoverTool\"}]},\"id\":\"4c7f3d38-f4e9-4b6e-9160-d40ac4fb92d2\",\"type\":\"Toolbar\"},{\"attributes\":{\"data_source\":{\"id\":\"4d34c5f8-5509-4169-b04b-93e1477516e1\",\"type\":\"ColumnDataSource\"},\"glyph\":{\"id\":\"c3c2e394-818b-4fe4-a704-2e8c7899a618\",\"type\":\"Circle\"},\"hover_glyph\":null,\"muted_glyph\":null,\"nonselection_glyph\":{\"id\":\"45912e21-3f20-4100-805e-0f6ce6923fe0\",\"type\":\"Circle\"},\"selection_glyph\":null,\"view\":{\"id\":\"43205419-a13d-4b97-987b-89224f94451b\",\"type\":\"CDSView\"}},\"id\":\"ac809696-5390-4fbc-9e8f-908eb6e0bf3f\",\"type\":\"GlyphRenderer\"},{\"attributes\":{\"source\":{\"id\":\"4d34c5f8-5509-4169-b04b-93e1477516e1\",\"type\":\"ColumnDataSource\"}},\"id\":\"43205419-a13d-4b97-987b-89224f94451b\",\"type\":\"CDSView\"},{\"attributes\":{\"callback\":null},\"id\":\"fd2e0be4-c272-4226-8c95-389e2747308b\",\"type\":\"DataRange1d\"},{\"attributes\":{},\"id\":\"70afe579-71ec-415e-9c19-8c5a8776e23a\",\"type\":\"LinearScale\"},{\"attributes\":{},\"id\":\"068da4d4-7e1e-455e-a100-9e959fae5f84\",\"type\":\"Selection\"},{\"attributes\":{},\"id\":\"aa939283-a99d-4f4e-8da9-303e2d34608a\",\"type\":\"LinearScale\"},{\"attributes\":{\"plot\":{\"id\":\"e9f3d78a-38e6-486c-b8e5-772c402139a1\",\"subtype\":\"Figure\",\"type\":\"Plot\"},\"ticker\":{\"id\":\"c02fd03a-82d2-4583-b801-8770f45dc941\",\"type\":\"BasicTicker\"}},\"id\":\"fc23dd26-9025-4e5f-9183-360ab103ded5\",\"type\":\"Grid\"}],\"root_ids\":[\"e9f3d78a-38e6-486c-b8e5-772c402139a1\"]},\"title\":\"Bokeh Application\",\"version\":\"0.12.16\"}};\n",
       "  var render_items = [{\"docid\":\"88b7851f-8dc4-45fa-a0de-22274451f3d3\",\"elementid\":\"a3086faf-3f57-4ccb-916c-5968000ac96e\",\"modelid\":\"e9f3d78a-38e6-486c-b8e5-772c402139a1\",\"notebook_comms_target\":\"c2df0be7-6baa-4fd6-b477-416f4133bdc0\"}];\n",
       "  root.Bokeh.embed.embed_items_notebook(docs_json, render_items);\n",
       "\n",
       "  }\n",
       "  if (root.Bokeh !== undefined) {\n",
       "    embed_document(root);\n",
       "  } else {\n",
       "    var attempts = 0;\n",
       "    var timer = setInterval(function(root) {\n",
       "      if (root.Bokeh !== undefined) {\n",
       "        embed_document(root);\n",
       "        clearInterval(timer);\n",
       "      }\n",
       "      attempts++;\n",
       "      if (attempts > 100) {\n",
       "        console.log(\"Bokeh: ERROR: Unable to run BokehJS code because BokehJS library is missing\")\n",
       "        clearInterval(timer);\n",
       "      }\n",
       "    }, 10, root)\n",
       "  }\n",
       "})(window);"
      ],
      "application/vnd.bokehjs_exec.v0+json": ""
     },
     "metadata": {
      "application/vnd.bokehjs_exec.v0+json": {
       "id": "e9f3d78a-38e6-486c-b8e5-772c402139a1"
      }
     },
     "output_type": "display_data"
    },
    {
     "data": {
      "text/html": [
       "<p><code>&lt;Bokeh Notebook handle for <strong>In[131]</strong>&gt;</code></p>"
      ],
      "text/plain": [
       "<bokeh.io.notebook.CommsHandle at 0x16dd74c5dd8>"
      ]
     },
     "execution_count": 159,
     "metadata": {},
     "output_type": "execute_result"
    }
   ],
   "source": [
    "def update(year):\n",
    "    new_data = dict(\n",
    "        x = data.loc[year].trainees_total,\n",
    "        y = data.loc[year].costs,    \n",
    "        location=data.loc[year].locationid,\n",
    "    )\n",
    "    source.data = new_data\n",
    "    p.title.text = str(year)\n",
    "    push_notebook()\n",
    "\n",
    "p = figure(\n",
    "    title='costs per trainee',\n",
    "    tools=[HoverTool(tooltips='@location', show_arrow=False)],\n",
    "    **PLOT_OPTS)\n",
    "\n",
    "p.circle(\n",
    "    x='x',\n",
    "    y='y',\n",
    "    source=source,\n",
    ")\n",
    "\n",
    "p.xaxis[0].formatter = NumeralTickFormatter()\n",
    "p.xaxis.axis_label = \"# of Total Trainees\"\n",
    "p.yaxis.axis_label = \"Costs\"\n",
    "\n",
    "show(p, notebook_handle=True)"
   ]
  },
  {
   "cell_type": "code",
   "execution_count": 160,
   "metadata": {},
   "outputs": [
    {
     "data": {
      "application/vnd.jupyter.widget-view+json": {
       "model_id": "7fe68032c3d74c729ee87aed7569548a",
       "version_major": 2,
       "version_minor": 0
      },
      "text/plain": [
       "interactive(children=(IntSlider(value=2008, description='year', max=2016, min=2000), Output()), _dom_classes=(…"
      ]
     },
     "metadata": {},
     "output_type": "display_data"
    },
    {
     "data": {
      "text/plain": [
       "<function __main__.update(year)>"
      ]
     },
     "execution_count": 160,
     "metadata": {},
     "output_type": "execute_result"
    }
   ],
   "source": [
    "interact(update, year=(2000,2016, 1))"
   ]
  },
  {
   "cell_type": "code",
   "execution_count": null,
   "metadata": {},
   "outputs": [],
   "source": []
  }
 ],
 "metadata": {
  "kernelspec": {
   "display_name": "Python 3",
   "language": "python",
   "name": "python3"
  },
  "language_info": {
   "codemirror_mode": {
    "name": "ipython",
    "version": 3
   },
   "file_extension": ".py",
   "mimetype": "text/x-python",
   "name": "python",
   "nbconvert_exporter": "python",
   "pygments_lexer": "ipython3",
   "version": "3.6.5"
  }
 },
 "nbformat": 4,
 "nbformat_minor": 2
}
